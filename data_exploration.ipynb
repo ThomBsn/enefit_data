{
 "cells": [
  {
   "cell_type": "code",
   "execution_count": 1,
   "outputs": [],
   "source": [
    "import pandas as pd"
   ],
   "metadata": {
    "collapsed": false,
    "ExecuteTime": {
     "end_time": "2023-12-20T08:54:01.517519500Z",
     "start_time": "2023-12-20T08:53:57.443355200Z"
    }
   },
   "id": "65a2d64b4bd0bea4"
  },
  {
   "cell_type": "markdown",
   "source": [
    "# Importing data"
   ],
   "metadata": {
    "collapsed": false
   },
   "id": "d13620a2177ca1c"
  },
  {
   "cell_type": "code",
   "execution_count": 2,
   "id": "initial_id",
   "metadata": {
    "collapsed": true,
    "ExecuteTime": {
     "end_time": "2023-12-20T08:54:05.768314400Z",
     "start_time": "2023-12-20T08:54:04.118699100Z"
    }
   },
   "outputs": [],
   "source": [
    "df_train = pd.read_csv(\"./raw_data/train.csv\")\n",
    "df_client=pd.read_csv(\"./raw_data/client.csv\")\n",
    "df_electricity=pd.read_csv(\"./raw_data/electricity_prices.csv\")\n",
    "df_gas=pd.read_csv(\"./raw_data/gas_prices.csv\")"
   ]
  },
  {
   "cell_type": "markdown",
   "source": [
    "# Statring exploration"
   ],
   "metadata": {
    "collapsed": false
   },
   "id": "8be68dd7eb52fff1"
  },
  {
   "cell_type": "markdown",
   "source": [
    "First we will check for empty values, then we will try to make some graphs. "
   ],
   "metadata": {
    "collapsed": false
   },
   "id": "c6455b4d86274471"
  },
  {
   "cell_type": "code",
   "execution_count": 3,
   "outputs": [
    {
     "data": {
      "text/plain": "             county   is_business  product_type        target  is_consumption  \\\ncount  2.018352e+06  2.018352e+06  2.018352e+06  2.017824e+06       2018352.0   \nmean   7.297034e+00  5.368261e-01  1.898927e+00  2.748556e+02             0.5   \nstd    4.780990e+00  4.986421e-01  1.081766e+00  9.095024e+02             0.5   \nmin    0.000000e+00  0.000000e+00  0.000000e+00  0.000000e+00             0.0   \n25%    3.000000e+00  0.000000e+00  1.000000e+00  3.780000e-01             0.0   \n50%    7.000000e+00  1.000000e+00  2.000000e+00  3.113300e+01             0.5   \n75%    1.100000e+01  1.000000e+00  3.000000e+00  1.802062e+02             1.0   \nmax    1.500000e+01  1.000000e+00  3.000000e+00  1.548027e+04             1.0   \n\n       data_block_id        row_id  prediction_unit_id  \ncount   2.018352e+06  2.018352e+06        2.018352e+06  \nmean    3.218746e+02  1.009176e+06        3.304538e+01  \nstd     1.826343e+02  5.826482e+05        1.959059e+01  \nmin     0.000000e+00  0.000000e+00        0.000000e+00  \n25%     1.660000e+02  5.045878e+05        1.600000e+01  \n50%     3.230000e+02  1.009176e+06        3.300000e+01  \n75%     4.790000e+02  1.513763e+06        5.000000e+01  \nmax     6.370000e+02  2.018351e+06        6.800000e+01  ",
      "text/html": "<div>\n<style scoped>\n    .dataframe tbody tr th:only-of-type {\n        vertical-align: middle;\n    }\n\n    .dataframe tbody tr th {\n        vertical-align: top;\n    }\n\n    .dataframe thead th {\n        text-align: right;\n    }\n</style>\n<table border=\"1\" class=\"dataframe\">\n  <thead>\n    <tr style=\"text-align: right;\">\n      <th></th>\n      <th>county</th>\n      <th>is_business</th>\n      <th>product_type</th>\n      <th>target</th>\n      <th>is_consumption</th>\n      <th>data_block_id</th>\n      <th>row_id</th>\n      <th>prediction_unit_id</th>\n    </tr>\n  </thead>\n  <tbody>\n    <tr>\n      <th>count</th>\n      <td>2.018352e+06</td>\n      <td>2.018352e+06</td>\n      <td>2.018352e+06</td>\n      <td>2.017824e+06</td>\n      <td>2018352.0</td>\n      <td>2.018352e+06</td>\n      <td>2.018352e+06</td>\n      <td>2.018352e+06</td>\n    </tr>\n    <tr>\n      <th>mean</th>\n      <td>7.297034e+00</td>\n      <td>5.368261e-01</td>\n      <td>1.898927e+00</td>\n      <td>2.748556e+02</td>\n      <td>0.5</td>\n      <td>3.218746e+02</td>\n      <td>1.009176e+06</td>\n      <td>3.304538e+01</td>\n    </tr>\n    <tr>\n      <th>std</th>\n      <td>4.780990e+00</td>\n      <td>4.986421e-01</td>\n      <td>1.081766e+00</td>\n      <td>9.095024e+02</td>\n      <td>0.5</td>\n      <td>1.826343e+02</td>\n      <td>5.826482e+05</td>\n      <td>1.959059e+01</td>\n    </tr>\n    <tr>\n      <th>min</th>\n      <td>0.000000e+00</td>\n      <td>0.000000e+00</td>\n      <td>0.000000e+00</td>\n      <td>0.000000e+00</td>\n      <td>0.0</td>\n      <td>0.000000e+00</td>\n      <td>0.000000e+00</td>\n      <td>0.000000e+00</td>\n    </tr>\n    <tr>\n      <th>25%</th>\n      <td>3.000000e+00</td>\n      <td>0.000000e+00</td>\n      <td>1.000000e+00</td>\n      <td>3.780000e-01</td>\n      <td>0.0</td>\n      <td>1.660000e+02</td>\n      <td>5.045878e+05</td>\n      <td>1.600000e+01</td>\n    </tr>\n    <tr>\n      <th>50%</th>\n      <td>7.000000e+00</td>\n      <td>1.000000e+00</td>\n      <td>2.000000e+00</td>\n      <td>3.113300e+01</td>\n      <td>0.5</td>\n      <td>3.230000e+02</td>\n      <td>1.009176e+06</td>\n      <td>3.300000e+01</td>\n    </tr>\n    <tr>\n      <th>75%</th>\n      <td>1.100000e+01</td>\n      <td>1.000000e+00</td>\n      <td>3.000000e+00</td>\n      <td>1.802062e+02</td>\n      <td>1.0</td>\n      <td>4.790000e+02</td>\n      <td>1.513763e+06</td>\n      <td>5.000000e+01</td>\n    </tr>\n    <tr>\n      <th>max</th>\n      <td>1.500000e+01</td>\n      <td>1.000000e+00</td>\n      <td>3.000000e+00</td>\n      <td>1.548027e+04</td>\n      <td>1.0</td>\n      <td>6.370000e+02</td>\n      <td>2.018351e+06</td>\n      <td>6.800000e+01</td>\n    </tr>\n  </tbody>\n</table>\n</div>"
     },
     "execution_count": 3,
     "metadata": {},
     "output_type": "execute_result"
    }
   ],
   "source": [
    "df_train.describe()"
   ],
   "metadata": {
    "collapsed": false,
    "ExecuteTime": {
     "end_time": "2023-12-20T08:54:39.220421200Z",
     "start_time": "2023-12-20T08:54:38.398074100Z"
    }
   },
   "id": "f81c4dd490f2277"
  },
  {
   "cell_type": "code",
   "execution_count": null,
   "outputs": [],
   "source": [],
   "metadata": {
    "collapsed": false
   },
   "id": "fe789be4abdca6d7"
  }
 ],
 "metadata": {
  "kernelspec": {
   "display_name": "Python 3",
   "language": "python",
   "name": "python3"
  },
  "language_info": {
   "codemirror_mode": {
    "name": "ipython",
    "version": 2
   },
   "file_extension": ".py",
   "mimetype": "text/x-python",
   "name": "python",
   "nbconvert_exporter": "python",
   "pygments_lexer": "ipython2",
   "version": "2.7.6"
  }
 },
 "nbformat": 4,
 "nbformat_minor": 5
}
