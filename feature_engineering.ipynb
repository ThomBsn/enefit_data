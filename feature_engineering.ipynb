{
 "cells": [
  {
   "cell_type": "code",
   "execution_count": 41,
   "metadata": {
    "ExecuteTime": {
     "end_time": "2023-12-19T17:22:54.076755300Z",
     "start_time": "2023-12-19T17:22:54.017128800Z"
    }
   },
   "outputs": [],
   "source": [
    "import pandas as pd\n",
    "import datetime"
   ]
  },
  {
   "cell_type": "markdown",
   "source": [
    "# Import data"
   ],
   "metadata": {
    "collapsed": false
   }
  },
  {
   "cell_type": "code",
   "execution_count": 90,
   "metadata": {
    "ExecuteTime": {
     "end_time": "2023-12-19T18:09:17.703261700Z",
     "start_time": "2023-12-19T18:09:17.633016200Z"
    }
   },
   "outputs": [],
   "source": [
    "df_client=pd.read_csv(\"./raw_data/client.csv\")\n",
    "df_electricity=pd.read_csv(\"./raw_data/electricity_prices.csv\")\n",
    "df_gas=pd.read_csv(\"./raw_data/gas_prices.csv\")\n",
    "\n"
   ]
  },
  {
   "cell_type": "markdown",
   "source": [
    "# Changing data format"
   ],
   "metadata": {
    "collapsed": false
   }
  },
  {
   "cell_type": "markdown",
   "source": [
    "### Manipulating dates\n",
    "Check the number of unique values for the date column in the electricity\n",
    "By checking only the unique dates, it will reduce the number of calculation when we will compare the date between the electricity df and the train df"
   ],
   "metadata": {
    "collapsed": false
   }
  },
  {
   "cell_type": "code",
   "execution_count": 91,
   "metadata": {
    "ExecuteTime": {
     "end_time": "2023-12-19T18:09:24.763946700Z",
     "start_time": "2023-12-19T18:09:24.742157300Z"
    }
   },
   "outputs": [
    {
     "name": "stdout",
     "output_type": "stream",
     "text": [
      "Number of unique values in elec : 15286\n",
      "Number of unique values in gas : 637\n"
     ]
    }
   ],
   "source": [
    "print(\"Number of unique values in elec :\", df_electricity[\"origin_date\"].nunique())\n",
    "print(\"Number of unique values in gas :\", df_gas[\"origin_date\"].nunique())"
   ]
  },
  {
   "cell_type": "code",
   "execution_count": 44,
   "metadata": {
    "ExecuteTime": {
     "end_time": "2023-12-19T17:22:55.841076400Z",
     "start_time": "2023-12-19T17:22:55.795940400Z"
    }
   },
   "outputs": [],
   "source": [
    "# # Creating a new column \"date\" with the French formated date \n",
    "# # For elec\n",
    "# df_electricity[\"date\"] = pd.to_datetime(df_electricity[\"forecast_date\"])\n",
    "# df_electricity[\"date\"] = df_electricity[\"date\"].apply(lambda x : x.strftime(\"%y-%m-%d\"))\n",
    "# print(df_electricity[\"date\"])\n",
    "# \n",
    "# # For gases\n",
    "# df_gas[\"date\"] = pd.to_datetime(df_gas[\"forecast_date\"])\n",
    "# df_gas[\"date\"] = df_gas[\"date\"].apply(lambda x : x.strftime(\"%y-%m-%d\"))\n",
    "# print(df_gas[\"date\"])"
   ]
  },
  {
   "cell_type": "markdown",
   "metadata": {},
   "source": [
    "# Feature Engineering"
   ]
  },
  {
   "cell_type": "markdown",
   "source": [
    "### Adding prices in df_train\n",
    "First of all we can see that the dataframe for the gas, do not use the same date format than the electricity and the train dataframes date format.\n",
    "So we will be able to merge the info from the electricity dataframe, based on the datetime from the train dataframe.\n",
    "But for the gas dataframe, we will need to add a formated column in train df. A column with the same format as the date in the gas df. We keep the date, we just remove the time.\n",
    "After this manipulation, we can merge the gas prices too."
   ],
   "metadata": {
    "collapsed": false
   }
  },
  {
   "cell_type": "code",
   "execution_count": 97,
   "outputs": [
    {
     "data": {
      "text/plain": "      county  is_business  product_type    target  is_consumption  \\\n0         14            0             3    62.130               1   \n1          8            1             3   327.095               1   \n2         10            1             2     0.000               0   \n3          0            1             2    99.963               1   \n4         12            1             3   638.699               1   \n...      ...          ...           ...       ...             ...   \n9995       1            0             3    17.792               1   \n9996      11            1             3  3691.097               1   \n9997       4            1             3     0.000               0   \n9998       9            0             3   182.641               0   \n9999      15            0             1    32.157               1   \n\n                 datetime  data_block_id   row_id  prediction_unit_id  \\\n0     2021-10-10 16:00:00             39   117185                  54   \n1     2023-04-21 18:00:00            597  1890013                  33   \n2     2023-01-17 16:00:00            503  1591274                  41   \n3     2023-02-03 22:00:00            520  1646239                  61   \n4     2022-04-14 17:00:00            225   695253                  49   \n...                   ...            ...      ...                 ...   \n9995  2022-08-19 05:00:00            352  1100405                   7   \n9996  2022-10-28 01:00:00            422  1325763                  48   \n9997  2023-04-04 22:00:00            580  1837316                  18   \n9998  2022-05-14 14:00:00            255   792080                  35   \n9999  2022-04-22 03:00:00            233   719479                  57   \n\n     origin_date  euros_per_mwh  lowest_price_per_mwh  highest_price_per_mwh  \n0     2021-10-10         145.07                 67.00                  67.83  \n1     2023-04-21          44.74                 44.00                  48.40  \n2     2023-01-17         150.11                 51.00                  71.07  \n3     2023-02-03         131.62                 61.50                  65.10  \n4     2022-04-14          68.39                 94.78                 111.00  \n...          ...            ...                   ...                    ...  \n9995  2022-08-19         177.06                225.00                 240.00  \n9996  2022-10-28          92.77                 88.29                 122.00  \n9997  2023-04-04          67.76                 50.00                  55.47  \n9998  2022-05-14           7.04                100.00                 110.00  \n9999  2022-04-22          50.06                101.00                 107.60  \n\n[10000 rows x 13 columns]",
      "text/html": "<div>\n<style scoped>\n    .dataframe tbody tr th:only-of-type {\n        vertical-align: middle;\n    }\n\n    .dataframe tbody tr th {\n        vertical-align: top;\n    }\n\n    .dataframe thead th {\n        text-align: right;\n    }\n</style>\n<table border=\"1\" class=\"dataframe\">\n  <thead>\n    <tr style=\"text-align: right;\">\n      <th></th>\n      <th>county</th>\n      <th>is_business</th>\n      <th>product_type</th>\n      <th>target</th>\n      <th>is_consumption</th>\n      <th>datetime</th>\n      <th>data_block_id</th>\n      <th>row_id</th>\n      <th>prediction_unit_id</th>\n      <th>origin_date</th>\n      <th>euros_per_mwh</th>\n      <th>lowest_price_per_mwh</th>\n      <th>highest_price_per_mwh</th>\n    </tr>\n  </thead>\n  <tbody>\n    <tr>\n      <th>0</th>\n      <td>14</td>\n      <td>0</td>\n      <td>3</td>\n      <td>62.130</td>\n      <td>1</td>\n      <td>2021-10-10 16:00:00</td>\n      <td>39</td>\n      <td>117185</td>\n      <td>54</td>\n      <td>2021-10-10</td>\n      <td>145.07</td>\n      <td>67.00</td>\n      <td>67.83</td>\n    </tr>\n    <tr>\n      <th>1</th>\n      <td>8</td>\n      <td>1</td>\n      <td>3</td>\n      <td>327.095</td>\n      <td>1</td>\n      <td>2023-04-21 18:00:00</td>\n      <td>597</td>\n      <td>1890013</td>\n      <td>33</td>\n      <td>2023-04-21</td>\n      <td>44.74</td>\n      <td>44.00</td>\n      <td>48.40</td>\n    </tr>\n    <tr>\n      <th>2</th>\n      <td>10</td>\n      <td>1</td>\n      <td>2</td>\n      <td>0.000</td>\n      <td>0</td>\n      <td>2023-01-17 16:00:00</td>\n      <td>503</td>\n      <td>1591274</td>\n      <td>41</td>\n      <td>2023-01-17</td>\n      <td>150.11</td>\n      <td>51.00</td>\n      <td>71.07</td>\n    </tr>\n    <tr>\n      <th>3</th>\n      <td>0</td>\n      <td>1</td>\n      <td>2</td>\n      <td>99.963</td>\n      <td>1</td>\n      <td>2023-02-03 22:00:00</td>\n      <td>520</td>\n      <td>1646239</td>\n      <td>61</td>\n      <td>2023-02-03</td>\n      <td>131.62</td>\n      <td>61.50</td>\n      <td>65.10</td>\n    </tr>\n    <tr>\n      <th>4</th>\n      <td>12</td>\n      <td>1</td>\n      <td>3</td>\n      <td>638.699</td>\n      <td>1</td>\n      <td>2022-04-14 17:00:00</td>\n      <td>225</td>\n      <td>695253</td>\n      <td>49</td>\n      <td>2022-04-14</td>\n      <td>68.39</td>\n      <td>94.78</td>\n      <td>111.00</td>\n    </tr>\n    <tr>\n      <th>...</th>\n      <td>...</td>\n      <td>...</td>\n      <td>...</td>\n      <td>...</td>\n      <td>...</td>\n      <td>...</td>\n      <td>...</td>\n      <td>...</td>\n      <td>...</td>\n      <td>...</td>\n      <td>...</td>\n      <td>...</td>\n      <td>...</td>\n    </tr>\n    <tr>\n      <th>9995</th>\n      <td>1</td>\n      <td>0</td>\n      <td>3</td>\n      <td>17.792</td>\n      <td>1</td>\n      <td>2022-08-19 05:00:00</td>\n      <td>352</td>\n      <td>1100405</td>\n      <td>7</td>\n      <td>2022-08-19</td>\n      <td>177.06</td>\n      <td>225.00</td>\n      <td>240.00</td>\n    </tr>\n    <tr>\n      <th>9996</th>\n      <td>11</td>\n      <td>1</td>\n      <td>3</td>\n      <td>3691.097</td>\n      <td>1</td>\n      <td>2022-10-28 01:00:00</td>\n      <td>422</td>\n      <td>1325763</td>\n      <td>48</td>\n      <td>2022-10-28</td>\n      <td>92.77</td>\n      <td>88.29</td>\n      <td>122.00</td>\n    </tr>\n    <tr>\n      <th>9997</th>\n      <td>4</td>\n      <td>1</td>\n      <td>3</td>\n      <td>0.000</td>\n      <td>0</td>\n      <td>2023-04-04 22:00:00</td>\n      <td>580</td>\n      <td>1837316</td>\n      <td>18</td>\n      <td>2023-04-04</td>\n      <td>67.76</td>\n      <td>50.00</td>\n      <td>55.47</td>\n    </tr>\n    <tr>\n      <th>9998</th>\n      <td>9</td>\n      <td>0</td>\n      <td>3</td>\n      <td>182.641</td>\n      <td>0</td>\n      <td>2022-05-14 14:00:00</td>\n      <td>255</td>\n      <td>792080</td>\n      <td>35</td>\n      <td>2022-05-14</td>\n      <td>7.04</td>\n      <td>100.00</td>\n      <td>110.00</td>\n    </tr>\n    <tr>\n      <th>9999</th>\n      <td>15</td>\n      <td>0</td>\n      <td>1</td>\n      <td>32.157</td>\n      <td>1</td>\n      <td>2022-04-22 03:00:00</td>\n      <td>233</td>\n      <td>719479</td>\n      <td>57</td>\n      <td>2022-04-22</td>\n      <td>50.06</td>\n      <td>101.00</td>\n      <td>107.60</td>\n    </tr>\n  </tbody>\n</table>\n<p>10000 rows × 13 columns</p>\n</div>"
     },
     "execution_count": 97,
     "metadata": {},
     "output_type": "execute_result"
    }
   ],
   "source": [
    "# Import train data\n",
    "df_train = pd.read_csv(\"./raw_data/train.csv\").sample(10000)\n",
    "\n",
    "## Merge elec prices\n",
    "# Creating a new column based on datetime\n",
    "df_train[\"origin_date\"] = df_train[\"datetime\"]\n",
    "# Selecting the infos we need to merge in the electricity df\n",
    "df_elec_prices = df_electricity.filter(['euros_per_mwh', 'origin_date'], axis=1)\n",
    "# Merging\n",
    "df_train = df_train.merge(df_elec_prices, how=\"left\", on=\"origin_date\")\n",
    "\n",
    "## Merge gas prices\n",
    "# Removing the hours in the origin_date column created above\n",
    "df_train[\"origin_date\"] = df_train[\"origin_date\"].apply(lambda x: pd.to_datetime(x).strftime(\"%Y-%m-%d\"))\n",
    "# Selecting the infos we need to merge in the gas df\n",
    "df_gas_prices = df_gas.filter(['lowest_price_per_mwh', 'highest_price_per_mwh', 'origin_date'])\n",
    "# Merging\n",
    "df_train = df_train.merge(df_gas_prices, how=\"left\", on=\"origin_date\")\n",
    "\n",
    "# df_train.describe()\n",
    "df_train"
   ],
   "metadata": {
    "collapsed": false,
    "ExecuteTime": {
     "end_time": "2023-12-19T18:32:08.907736400Z",
     "start_time": "2023-12-19T18:32:00.569960500Z"
    }
   }
  },
  {
   "cell_type": "code",
   "execution_count": null,
   "outputs": [],
   "source": [],
   "metadata": {
    "collapsed": false
   }
  }
 ],
 "metadata": {
  "kernelspec": {
   "display_name": "syllabus_to_kg",
   "language": "python",
   "name": "python3"
  },
  "language_info": {
   "codemirror_mode": {
    "name": "ipython",
    "version": 3
   },
   "file_extension": ".py",
   "mimetype": "text/x-python",
   "name": "python",
   "nbconvert_exporter": "python",
   "pygments_lexer": "ipython3",
   "version": "3.11.4"
  }
 },
 "nbformat": 4,
 "nbformat_minor": 2
}
