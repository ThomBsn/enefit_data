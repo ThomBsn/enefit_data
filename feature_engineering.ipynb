{
 "cells": [
  {
   "cell_type": "code",
   "execution_count": 41,
   "metadata": {
    "ExecuteTime": {
     "end_time": "2023-12-19T17:22:54.076755300Z",
     "start_time": "2023-12-19T17:22:54.017128800Z"
    }
   },
   "outputs": [],
   "source": [
    "import pandas as pd\n",
    "import datetime"
   ]
  },
  {
   "cell_type": "markdown",
   "source": [
    "# Import data"
   ],
   "metadata": {
    "collapsed": false
   }
  },
  {
   "cell_type": "code",
   "execution_count": 90,
   "metadata": {
    "ExecuteTime": {
     "end_time": "2023-12-19T18:09:17.703261700Z",
     "start_time": "2023-12-19T18:09:17.633016200Z"
    }
   },
   "outputs": [],
   "source": [
    "df_client=pd.read_csv(\"./raw_data/client.csv\")\n",
    "df_electricity=pd.read_csv(\"./raw_data/electricity_prices.csv\")\n",
    "df_gas=pd.read_csv(\"./raw_data/gas_prices.csv\")\n",
    "\n"
   ]
  },
  {
   "cell_type": "markdown",
   "source": [
    "# Changing data format"
   ],
   "metadata": {
    "collapsed": false
   }
  },
  {
   "cell_type": "markdown",
   "source": [
    "### Manipulating dates\n",
    "Check the number of unique values for the date column in the electricity\n",
    "By checking only the unique dates, it will reduce the number of calculation when we will compare the date between the electricity df and the train df"
   ],
   "metadata": {
    "collapsed": false
   }
  },
  {
   "cell_type": "code",
   "execution_count": 91,
   "metadata": {
    "ExecuteTime": {
     "end_time": "2023-12-19T18:09:24.763946700Z",
     "start_time": "2023-12-19T18:09:24.742157300Z"
    }
   },
   "outputs": [
    {
     "name": "stdout",
     "output_type": "stream",
     "text": [
      "Number of unique values in elec : 15286\n",
      "Number of unique values in gas : 637\n"
     ]
    }
   ],
   "source": [
    "print(\"Number of unique values in elec :\", df_electricity[\"origin_date\"].nunique())\n",
    "print(\"Number of unique values in gas :\", df_gas[\"origin_date\"].nunique())"
   ]
  },
  {
   "cell_type": "code",
   "execution_count": 44,
   "metadata": {
    "ExecuteTime": {
     "end_time": "2023-12-19T17:22:55.841076400Z",
     "start_time": "2023-12-19T17:22:55.795940400Z"
    }
   },
   "outputs": [],
   "source": [
    "# # Creating a new column \"date\" with the French formated date \n",
    "# # For elec\n",
    "# df_electricity[\"date\"] = pd.to_datetime(df_electricity[\"forecast_date\"])\n",
    "# df_electricity[\"date\"] = df_electricity[\"date\"].apply(lambda x : x.strftime(\"%y-%m-%d\"))\n",
    "# print(df_electricity[\"date\"])\n",
    "# \n",
    "# # For gases\n",
    "# df_gas[\"date\"] = pd.to_datetime(df_gas[\"forecast_date\"])\n",
    "# df_gas[\"date\"] = df_gas[\"date\"].apply(lambda x : x.strftime(\"%y-%m-%d\"))\n",
    "# print(df_gas[\"date\"])"
   ]
  },
  {
   "cell_type": "markdown",
   "metadata": {},
   "source": [
    "# Feature Engineering"
   ]
  },
  {
   "cell_type": "markdown",
   "source": [
    "### Adding prices in df_train"
   ],
   "metadata": {
    "collapsed": false
   }
  },
  {
   "cell_type": "code",
   "execution_count": 96,
   "outputs": [
    {
     "name": "stdout",
     "output_type": "stream",
     "text": [
      "      county  is_business  product_type    target  is_consumption  \\\n",
      "0          1            1             3    25.907               1   \n",
      "1          4            0             3   112.098               1   \n",
      "2         14            0             3     0.000               0   \n",
      "3          4            1             0   443.366               1   \n",
      "4          7            1             0     0.000               0   \n",
      "...      ...          ...           ...       ...             ...   \n",
      "9995       0            1             3  6452.831               1   \n",
      "9996      13            1             1    22.931               1   \n",
      "9997       5            0             3   722.581               0   \n",
      "9998      12            1             3   717.017               1   \n",
      "9999      10            1             3  2154.453               1   \n",
      "\n",
      "                 datetime  data_block_id   row_id  prediction_unit_id  \\\n",
      "0     2021-11-04 02:00:00             64   190927                   8   \n",
      "1     2023-02-26 22:00:00            543  1720043                  16   \n",
      "2     2021-09-13 00:00:00             12    35244                  54   \n",
      "3     2022-09-05 11:00:00            369  1155291                  17   \n",
      "4     2021-09-30 05:00:00             29    85578                  28   \n",
      "...                   ...            ...      ...                 ...   \n",
      "9995  2022-06-20 18:00:00            292   911545                   5   \n",
      "9996  2022-04-23 07:00:00            234   723275                  63   \n",
      "9997  2022-05-23 16:00:00            264   821264                  20   \n",
      "9998  2022-10-24 15:00:00            418  1314613                  49   \n",
      "9999  2022-12-15 10:00:00            470  1484345                  42   \n",
      "\n",
      "     origin_date  euros_per_mwh  lowest_price_per_mwh  highest_price_per_mwh  \n",
      "0     2021-11-04          14.68                 65.11                  79.89  \n",
      "1     2023-02-26         149.78                 49.00                  62.96  \n",
      "2     2021-09-13         122.23                 46.51                  48.19  \n",
      "3     2022-09-05         304.49                226.37                 246.29  \n",
      "4     2021-09-30          81.03                 66.00                  69.40  \n",
      "...          ...            ...                   ...                    ...  \n",
      "9995  2022-06-20         229.97                112.20                 150.00  \n",
      "9996  2022-04-23          65.67                101.00                 108.00  \n",
      "9997  2022-05-23         170.07                101.00                 104.50  \n",
      "9998  2022-10-24         147.76                 76.29                 124.98  \n",
      "9999  2022-12-15         546.80                136.33                 152.94  \n",
      "\n",
      "[10000 rows x 13 columns]\n"
     ]
    }
   ],
   "source": [
    "# Import train data\n",
    "df_train = pd.read_csv(\"./raw_data/train.csv\").sample(10000)\n",
    "\n",
    "## Merge elec prices\n",
    "# Creating a new column based on datetime\n",
    "df_train[\"origin_date\"] = df_train[\"datetime\"]\n",
    "# Selecting the infos we need to merge in the electricity df\n",
    "df_elec_prices = df_electricity.filter(['euros_per_mwh', 'origin_date'], axis=1)\n",
    "# Merging\n",
    "df_train = df_train.merge(df_elec_prices, how=\"left\", on=\"origin_date\")\n",
    "\n",
    "## Merge gas prices\n",
    "# Removing the hours in the origin_date column created above\n",
    "df_train[\"origin_date\"] = df_train[\"origin_date\"].apply(lambda x: pd.to_datetime(x).strftime(\"%Y-%m-%d\"))\n",
    "# Selecting the infos we need to merge in the gas df\n",
    "df_gas_prices = df_gas.filter(['lowest_price_per_mwh', 'highest_price_per_mwh', 'origin_date'])\n",
    "# Merging\n",
    "df_train = df_train.merge(df_gas_prices, how=\"left\", on=\"origin_date\")\n",
    "\n",
    "# df_train.describe()\n",
    "print(df_train)"
   ],
   "metadata": {
    "collapsed": false,
    "ExecuteTime": {
     "end_time": "2023-12-19T18:16:46.583606Z",
     "start_time": "2023-12-19T18:16:39.252236700Z"
    }
   }
  },
  {
   "cell_type": "code",
   "execution_count": 70,
   "metadata": {
    "ExecuteTime": {
     "end_time": "2023-12-19T17:41:27.062973600Z",
     "start_time": "2023-12-19T17:41:26.975939200Z"
    }
   },
   "outputs": [
    {
     "ename": "KeyError",
     "evalue": "'datetime'",
     "output_type": "error",
     "traceback": [
      "\u001B[1;31m---------------------------------------------------------------------------\u001B[0m",
      "\u001B[1;31mKeyError\u001B[0m                                  Traceback (most recent call last)",
      "File \u001B[1;32m~\\Documents\\dev\\python\\enefit_data_pycharm\\.venv\\lib\\site-packages\\pandas\\core\\indexes\\base.py:3791\u001B[0m, in \u001B[0;36mIndex.get_loc\u001B[1;34m(self, key)\u001B[0m\n\u001B[0;32m   3790\u001B[0m \u001B[38;5;28;01mtry\u001B[39;00m:\n\u001B[1;32m-> 3791\u001B[0m     \u001B[38;5;28;01mreturn\u001B[39;00m \u001B[38;5;28;43mself\u001B[39;49m\u001B[38;5;241;43m.\u001B[39;49m\u001B[43m_engine\u001B[49m\u001B[38;5;241;43m.\u001B[39;49m\u001B[43mget_loc\u001B[49m\u001B[43m(\u001B[49m\u001B[43mcasted_key\u001B[49m\u001B[43m)\u001B[49m\n\u001B[0;32m   3792\u001B[0m \u001B[38;5;28;01mexcept\u001B[39;00m \u001B[38;5;167;01mKeyError\u001B[39;00m \u001B[38;5;28;01mas\u001B[39;00m err:\n",
      "File \u001B[1;32mindex.pyx:152\u001B[0m, in \u001B[0;36mpandas._libs.index.IndexEngine.get_loc\u001B[1;34m()\u001B[0m\n",
      "File \u001B[1;32mindex.pyx:181\u001B[0m, in \u001B[0;36mpandas._libs.index.IndexEngine.get_loc\u001B[1;34m()\u001B[0m\n",
      "File \u001B[1;32mpandas\\_libs\\hashtable_class_helper.pxi:7080\u001B[0m, in \u001B[0;36mpandas._libs.hashtable.PyObjectHashTable.get_item\u001B[1;34m()\u001B[0m\n",
      "File \u001B[1;32mpandas\\_libs\\hashtable_class_helper.pxi:7088\u001B[0m, in \u001B[0;36mpandas._libs.hashtable.PyObjectHashTable.get_item\u001B[1;34m()\u001B[0m\n",
      "\u001B[1;31mKeyError\u001B[0m: 'datetime'",
      "\nThe above exception was the direct cause of the following exception:\n",
      "\u001B[1;31mKeyError\u001B[0m                                  Traceback (most recent call last)",
      "Cell \u001B[1;32mIn[70], line 6\u001B[0m\n\u001B[0;32m      2\u001B[0m df_train[\u001B[38;5;124m\"\u001B[39m\u001B[38;5;124mlow_gas_price\u001B[39m\u001B[38;5;124m\"\u001B[39m] \u001B[38;5;241m=\u001B[39m \u001B[38;5;241m-\u001B[39m\u001B[38;5;241m1\u001B[39m\n\u001B[0;32m      3\u001B[0m df_train[\u001B[38;5;124m\"\u001B[39m\u001B[38;5;124mhigh_gas_price\u001B[39m\u001B[38;5;124m\"\u001B[39m] \u001B[38;5;241m=\u001B[39m \u001B[38;5;241m-\u001B[39m\u001B[38;5;241m1\u001B[39m\n\u001B[1;32m----> 6\u001B[0m \u001B[38;5;28;01mfor\u001B[39;00m unique_date \u001B[38;5;129;01min\u001B[39;00m \u001B[43mdf_train\u001B[49m\u001B[43m[\u001B[49m\u001B[38;5;124;43m\"\u001B[39;49m\u001B[38;5;124;43mdatetime\u001B[39;49m\u001B[38;5;124;43m\"\u001B[39;49m\u001B[43m]\u001B[49m\u001B[38;5;241m.\u001B[39munique():\n\u001B[0;32m      7\u001B[0m   \u001B[38;5;66;03m# Récuperer le prix de l'electricite a ce jour la\u001B[39;00m\n\u001B[0;32m      8\u001B[0m   df_elec_filtered \u001B[38;5;241m=\u001B[39m df_electricity[df_electricity[\u001B[38;5;124m\"\u001B[39m\u001B[38;5;124morigin_date\u001B[39m\u001B[38;5;124m\"\u001B[39m] \u001B[38;5;241m==\u001B[39m unique_date]\n\u001B[0;32m      9\u001B[0m   \u001B[38;5;28;01mif\u001B[39;00m \u001B[38;5;28mlen\u001B[39m(df_elec_filtered) \u001B[38;5;241m!=\u001B[39m \u001B[38;5;241m0\u001B[39m:\n",
      "File \u001B[1;32m~\\Documents\\dev\\python\\enefit_data_pycharm\\.venv\\lib\\site-packages\\pandas\\core\\frame.py:3893\u001B[0m, in \u001B[0;36mDataFrame.__getitem__\u001B[1;34m(self, key)\u001B[0m\n\u001B[0;32m   3891\u001B[0m \u001B[38;5;28;01mif\u001B[39;00m \u001B[38;5;28mself\u001B[39m\u001B[38;5;241m.\u001B[39mcolumns\u001B[38;5;241m.\u001B[39mnlevels \u001B[38;5;241m>\u001B[39m \u001B[38;5;241m1\u001B[39m:\n\u001B[0;32m   3892\u001B[0m     \u001B[38;5;28;01mreturn\u001B[39;00m \u001B[38;5;28mself\u001B[39m\u001B[38;5;241m.\u001B[39m_getitem_multilevel(key)\n\u001B[1;32m-> 3893\u001B[0m indexer \u001B[38;5;241m=\u001B[39m \u001B[38;5;28;43mself\u001B[39;49m\u001B[38;5;241;43m.\u001B[39;49m\u001B[43mcolumns\u001B[49m\u001B[38;5;241;43m.\u001B[39;49m\u001B[43mget_loc\u001B[49m\u001B[43m(\u001B[49m\u001B[43mkey\u001B[49m\u001B[43m)\u001B[49m\n\u001B[0;32m   3894\u001B[0m \u001B[38;5;28;01mif\u001B[39;00m is_integer(indexer):\n\u001B[0;32m   3895\u001B[0m     indexer \u001B[38;5;241m=\u001B[39m [indexer]\n",
      "File \u001B[1;32m~\\Documents\\dev\\python\\enefit_data_pycharm\\.venv\\lib\\site-packages\\pandas\\core\\indexes\\base.py:3798\u001B[0m, in \u001B[0;36mIndex.get_loc\u001B[1;34m(self, key)\u001B[0m\n\u001B[0;32m   3793\u001B[0m     \u001B[38;5;28;01mif\u001B[39;00m \u001B[38;5;28misinstance\u001B[39m(casted_key, \u001B[38;5;28mslice\u001B[39m) \u001B[38;5;129;01mor\u001B[39;00m (\n\u001B[0;32m   3794\u001B[0m         \u001B[38;5;28misinstance\u001B[39m(casted_key, abc\u001B[38;5;241m.\u001B[39mIterable)\n\u001B[0;32m   3795\u001B[0m         \u001B[38;5;129;01mand\u001B[39;00m \u001B[38;5;28many\u001B[39m(\u001B[38;5;28misinstance\u001B[39m(x, \u001B[38;5;28mslice\u001B[39m) \u001B[38;5;28;01mfor\u001B[39;00m x \u001B[38;5;129;01min\u001B[39;00m casted_key)\n\u001B[0;32m   3796\u001B[0m     ):\n\u001B[0;32m   3797\u001B[0m         \u001B[38;5;28;01mraise\u001B[39;00m InvalidIndexError(key)\n\u001B[1;32m-> 3798\u001B[0m     \u001B[38;5;28;01mraise\u001B[39;00m \u001B[38;5;167;01mKeyError\u001B[39;00m(key) \u001B[38;5;28;01mfrom\u001B[39;00m \u001B[38;5;21;01merr\u001B[39;00m\n\u001B[0;32m   3799\u001B[0m \u001B[38;5;28;01mexcept\u001B[39;00m \u001B[38;5;167;01mTypeError\u001B[39;00m:\n\u001B[0;32m   3800\u001B[0m     \u001B[38;5;66;03m# If we have a listlike key, _check_indexing_error will raise\u001B[39;00m\n\u001B[0;32m   3801\u001B[0m     \u001B[38;5;66;03m#  InvalidIndexError. Otherwise we fall through and re-raise\u001B[39;00m\n\u001B[0;32m   3802\u001B[0m     \u001B[38;5;66;03m#  the TypeError.\u001B[39;00m\n\u001B[0;32m   3803\u001B[0m     \u001B[38;5;28mself\u001B[39m\u001B[38;5;241m.\u001B[39m_check_indexing_error(key)\n",
      "\u001B[1;31mKeyError\u001B[0m: 'datetime'"
     ]
    }
   ],
   "source": [
    "df_train[\"elec_price\"] = -1\n",
    "df_train[\"low_gas_price\"] = -1\n",
    "df_train[\"high_gas_price\"] = -1\n",
    "\n",
    "\n",
    "for unique_date in df_train[\"datetime\"].unique():\n",
    "  # Récuperer le prix de l'electricite a ce jour la\n",
    "  df_elec_filtered = df_electricity[df_electricity[\"origin_date\"] == unique_date]\n",
    "  if len(df_elec_filtered) != 0:\n",
    "    if len(df_elec_filtered) == 1:\n",
    "      elec_price = df_elec_filtered[\"euros_per_mwh\"]\n",
    "    else : \n",
    "      elec_price = df_elec_filtered.iloc[0][\"euros_per_mwh\"]\n",
    "\n",
    "    # Pour toutes les lignes de df_train a ce jour la, insérer le prix\n",
    "    df_train_filtered = df_train[df_train[\"datetime\"] == unique_date]\n",
    "    df_train.loc[df_train_filtered.index, \"elec_price\"] = elec_price.values[0]\n",
    "  \n",
    "  \n",
    "  # Récuperer le prix du gas a ce jour la\n",
    "  df_gas_filtered = df_gas[df_gas[\"date\"] == pd.to_datetime(unique_date).strftime(\"%y-%m-%d\")]\n",
    "  # print(len(df_gas_filtered))\n",
    "  if len(df_gas_filtered) != 0:\n",
    "    if len(df_gas_filtered) == 1:\n",
    "      low_gas_price = df_gas_filtered[\"lowest_price_per_mwh\"]\n",
    "      high_gas_price = df_gas_filtered[\"highest_price_per_mwh\"]\n",
    "    else : \n",
    "      low_gas_price = df_gas_filtered[\"lowest_price_per_mwh\"].values[0]\n",
    "      high_gas_price = df_gas_filtered[\"highest_price_per_mwh\"].values[0]\n",
    "\n",
    "    # Pour toutes les lignes de df_train a ce jour la, insérer les prix\n",
    "    df_train_filtered = df_train[df_train[\"datetime\"] == unique_date]\n",
    "    df_train.loc[df_train_filtered.index, \"low_gas_price\"] = low_gas_price.values[0]\n",
    "    df_train.loc[df_train_filtered.index, \"high_gas_price\"] = high_gas_price.values[0]\n"
   ]
  },
  {
   "cell_type": "code",
   "execution_count": 69,
   "outputs": [
    {
     "data": {
      "text/plain": "      county  is_business  product_type    target  is_consumption  \\\n0         10            1             3   815.284               1   \n1          1            0             1     0.000               0   \n2          0            1             1     0.000               0   \n3         15            1             3  1064.623               0   \n4          2            1             3   306.643               1   \n...      ...          ...           ...       ...             ...   \n9995      13            1             3    25.252               0   \n9996       5            0             3   234.712               1   \n9997       1            0             3     1.367               0   \n9998       7            0             3    32.699               1   \n9999       0            0             3    92.998               0   \n\n              origin_date  data_block_id   row_id  prediction_unit_id  \\\n0     2023-04-23 01:00:00            599  1894009                  42   \n1     2021-12-02 01:00:00             92   275468                   6   \n2     2022-11-07 02:00:00            432  1358732                   4   \n3     2022-06-23 13:00:00            295   920642                  60   \n4     2021-09-26 22:00:00             25    75905                  10   \n...                   ...            ...      ...                 ...   \n9995  2021-10-11 08:00:00             40   119196                  52   \n9996  2022-12-01 10:00:00            456  1439305                  20   \n9997  2022-12-29 20:00:00            484  1530632                   7   \n9998  2022-09-22 10:00:00            386  1209851                  27   \n9999  2022-03-08 14:00:00            188   575932                   2   \n\n      euros_per_mwh_x  euros_per_mwh_y  elec_price  low_gas_price  \\\n0               36.97            36.97          -1             -1   \n1              124.99           124.99          -1             -1   \n2               85.67            85.67          -1             -1   \n3               65.38            65.38          -1             -1   \n4               98.14            98.14          -1             -1   \n...               ...              ...         ...            ...   \n9995           188.44           188.44          -1             -1   \n9996           428.44           428.44          -1             -1   \n9997            95.09            95.09          -1             -1   \n9998           350.92           350.92          -1             -1   \n9999           109.98           109.98          -1             -1   \n\n      high_gas_price  \n0                 -1  \n1                 -1  \n2                 -1  \n3                 -1  \n4                 -1  \n...              ...  \n9995              -1  \n9996              -1  \n9997              -1  \n9998              -1  \n9999              -1  \n\n[10000 rows x 14 columns]",
      "text/html": "<div>\n<style scoped>\n    .dataframe tbody tr th:only-of-type {\n        vertical-align: middle;\n    }\n\n    .dataframe tbody tr th {\n        vertical-align: top;\n    }\n\n    .dataframe thead th {\n        text-align: right;\n    }\n</style>\n<table border=\"1\" class=\"dataframe\">\n  <thead>\n    <tr style=\"text-align: right;\">\n      <th></th>\n      <th>county</th>\n      <th>is_business</th>\n      <th>product_type</th>\n      <th>target</th>\n      <th>is_consumption</th>\n      <th>origin_date</th>\n      <th>data_block_id</th>\n      <th>row_id</th>\n      <th>prediction_unit_id</th>\n      <th>euros_per_mwh_x</th>\n      <th>euros_per_mwh_y</th>\n      <th>elec_price</th>\n      <th>low_gas_price</th>\n      <th>high_gas_price</th>\n    </tr>\n  </thead>\n  <tbody>\n    <tr>\n      <th>0</th>\n      <td>10</td>\n      <td>1</td>\n      <td>3</td>\n      <td>815.284</td>\n      <td>1</td>\n      <td>2023-04-23 01:00:00</td>\n      <td>599</td>\n      <td>1894009</td>\n      <td>42</td>\n      <td>36.97</td>\n      <td>36.97</td>\n      <td>-1</td>\n      <td>-1</td>\n      <td>-1</td>\n    </tr>\n    <tr>\n      <th>1</th>\n      <td>1</td>\n      <td>0</td>\n      <td>1</td>\n      <td>0.000</td>\n      <td>0</td>\n      <td>2021-12-02 01:00:00</td>\n      <td>92</td>\n      <td>275468</td>\n      <td>6</td>\n      <td>124.99</td>\n      <td>124.99</td>\n      <td>-1</td>\n      <td>-1</td>\n      <td>-1</td>\n    </tr>\n    <tr>\n      <th>2</th>\n      <td>0</td>\n      <td>1</td>\n      <td>1</td>\n      <td>0.000</td>\n      <td>0</td>\n      <td>2022-11-07 02:00:00</td>\n      <td>432</td>\n      <td>1358732</td>\n      <td>4</td>\n      <td>85.67</td>\n      <td>85.67</td>\n      <td>-1</td>\n      <td>-1</td>\n      <td>-1</td>\n    </tr>\n    <tr>\n      <th>3</th>\n      <td>15</td>\n      <td>1</td>\n      <td>3</td>\n      <td>1064.623</td>\n      <td>0</td>\n      <td>2022-06-23 13:00:00</td>\n      <td>295</td>\n      <td>920642</td>\n      <td>60</td>\n      <td>65.38</td>\n      <td>65.38</td>\n      <td>-1</td>\n      <td>-1</td>\n      <td>-1</td>\n    </tr>\n    <tr>\n      <th>4</th>\n      <td>2</td>\n      <td>1</td>\n      <td>3</td>\n      <td>306.643</td>\n      <td>1</td>\n      <td>2021-09-26 22:00:00</td>\n      <td>25</td>\n      <td>75905</td>\n      <td>10</td>\n      <td>98.14</td>\n      <td>98.14</td>\n      <td>-1</td>\n      <td>-1</td>\n      <td>-1</td>\n    </tr>\n    <tr>\n      <th>...</th>\n      <td>...</td>\n      <td>...</td>\n      <td>...</td>\n      <td>...</td>\n      <td>...</td>\n      <td>...</td>\n      <td>...</td>\n      <td>...</td>\n      <td>...</td>\n      <td>...</td>\n      <td>...</td>\n      <td>...</td>\n      <td>...</td>\n      <td>...</td>\n    </tr>\n    <tr>\n      <th>9995</th>\n      <td>13</td>\n      <td>1</td>\n      <td>3</td>\n      <td>25.252</td>\n      <td>0</td>\n      <td>2021-10-11 08:00:00</td>\n      <td>40</td>\n      <td>119196</td>\n      <td>52</td>\n      <td>188.44</td>\n      <td>188.44</td>\n      <td>-1</td>\n      <td>-1</td>\n      <td>-1</td>\n    </tr>\n    <tr>\n      <th>9996</th>\n      <td>5</td>\n      <td>0</td>\n      <td>3</td>\n      <td>234.712</td>\n      <td>1</td>\n      <td>2022-12-01 10:00:00</td>\n      <td>456</td>\n      <td>1439305</td>\n      <td>20</td>\n      <td>428.44</td>\n      <td>428.44</td>\n      <td>-1</td>\n      <td>-1</td>\n      <td>-1</td>\n    </tr>\n    <tr>\n      <th>9997</th>\n      <td>1</td>\n      <td>0</td>\n      <td>3</td>\n      <td>1.367</td>\n      <td>0</td>\n      <td>2022-12-29 20:00:00</td>\n      <td>484</td>\n      <td>1530632</td>\n      <td>7</td>\n      <td>95.09</td>\n      <td>95.09</td>\n      <td>-1</td>\n      <td>-1</td>\n      <td>-1</td>\n    </tr>\n    <tr>\n      <th>9998</th>\n      <td>7</td>\n      <td>0</td>\n      <td>3</td>\n      <td>32.699</td>\n      <td>1</td>\n      <td>2022-09-22 10:00:00</td>\n      <td>386</td>\n      <td>1209851</td>\n      <td>27</td>\n      <td>350.92</td>\n      <td>350.92</td>\n      <td>-1</td>\n      <td>-1</td>\n      <td>-1</td>\n    </tr>\n    <tr>\n      <th>9999</th>\n      <td>0</td>\n      <td>0</td>\n      <td>3</td>\n      <td>92.998</td>\n      <td>0</td>\n      <td>2022-03-08 14:00:00</td>\n      <td>188</td>\n      <td>575932</td>\n      <td>2</td>\n      <td>109.98</td>\n      <td>109.98</td>\n      <td>-1</td>\n      <td>-1</td>\n      <td>-1</td>\n    </tr>\n  </tbody>\n</table>\n<p>10000 rows × 14 columns</p>\n</div>"
     },
     "execution_count": 69,
     "metadata": {},
     "output_type": "execute_result"
    }
   ],
   "source": [
    "df_train"
   ],
   "metadata": {
    "collapsed": false,
    "ExecuteTime": {
     "end_time": "2023-12-19T17:41:24.094691500Z",
     "start_time": "2023-12-19T17:41:24.069616800Z"
    }
   }
  },
  {
   "cell_type": "code",
   "execution_count": null,
   "metadata": {
    "ExecuteTime": {
     "end_time": "2023-12-19T17:23:01.493501700Z",
     "start_time": "2023-12-19T17:23:01.483087200Z"
    }
   },
   "outputs": [],
   "source": [
    "df_train.describe()"
   ]
  },
  {
   "cell_type": "code",
   "execution_count": null,
   "outputs": [],
   "source": [],
   "metadata": {
    "collapsed": false,
    "ExecuteTime": {
     "start_time": "2023-12-19T17:23:01.486220Z"
    }
   }
  }
 ],
 "metadata": {
  "kernelspec": {
   "display_name": "syllabus_to_kg",
   "language": "python",
   "name": "python3"
  },
  "language_info": {
   "codemirror_mode": {
    "name": "ipython",
    "version": 3
   },
   "file_extension": ".py",
   "mimetype": "text/x-python",
   "name": "python",
   "nbconvert_exporter": "python",
   "pygments_lexer": "ipython3",
   "version": "3.11.4"
  }
 },
 "nbformat": 4,
 "nbformat_minor": 2
}
