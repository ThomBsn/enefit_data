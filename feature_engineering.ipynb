{
 "cells": [
  {
   "cell_type": "code",
   "execution_count": 72,
   "metadata": {
    "ExecuteTime": {
     "end_time": "2023-12-20T18:44:21.144703600Z",
     "start_time": "2023-12-20T18:44:21.128612400Z"
    }
   },
   "outputs": [],
   "source": [
    "import pandas as pd"
   ]
  },
  {
   "cell_type": "markdown",
   "source": [
    "# Import data"
   ],
   "metadata": {
    "collapsed": false
   }
  },
  {
   "cell_type": "code",
   "execution_count": 86,
   "metadata": {
    "ExecuteTime": {
     "end_time": "2023-12-20T18:59:57.011749200Z",
     "start_time": "2023-12-20T18:59:52.910698400Z"
    }
   },
   "outputs": [],
   "source": [
    "df_client=pd.read_csv(\"./raw_data/client.csv\")\n",
    "df_electricity=pd.read_csv(\"./raw_data/electricity_prices.csv\")\n",
    "df_gas=pd.read_csv(\"./raw_data/gas_prices.csv\")\n",
    "df_forecast_weather = pd.read_csv(\"./raw_data/forecast_weather.csv\").sample(10000)\n",
    "df_weather_to_country = pd.read_csv(\"./raw_data/weather_station_to_county_mapping.csv\")"
   ]
  },
  {
   "cell_type": "markdown",
   "source": [
    "# Changing data format"
   ],
   "metadata": {
    "collapsed": false
   }
  },
  {
   "cell_type": "markdown",
   "source": [
    "### Manipulating dates\n",
    "Check the number of unique values for the date column in the electricity\n",
    "By checking only the unique dates, it will reduce the number of calculation when we will compare the date between the electricity df and the train df"
   ],
   "metadata": {
    "collapsed": false
   }
  },
  {
   "cell_type": "code",
   "execution_count": 74,
   "metadata": {
    "ExecuteTime": {
     "end_time": "2023-12-20T18:44:25.040835600Z",
     "start_time": "2023-12-20T18:44:25.027180300Z"
    }
   },
   "outputs": [
    {
     "name": "stdout",
     "output_type": "stream",
     "text": [
      "Number of unique values in elec : 15286\n",
      "Number of unique values in gas : 637\n"
     ]
    }
   ],
   "source": [
    "print(\"Number of unique values in elec :\", df_electricity[\"origin_date\"].nunique())\n",
    "print(\"Number of unique values in gas :\", df_gas[\"origin_date\"].nunique())"
   ]
  },
  {
   "cell_type": "markdown",
   "metadata": {},
   "source": [
    "# Feature Engineering"
   ]
  },
  {
   "cell_type": "markdown",
   "source": [
    "### Adding gas and electricity prices in df_train\n",
    "First of all we can see that the dataframe for the gas, do not use the same date format than the electricity and the train dataframes date format.\n",
    "So we will be able to merge the info from the electricity dataframe, based on the datetime from the train dataframe.\n",
    "But for the gas dataframe, we will need to add a formated column in train df. A column with the same format as the date in the gas df. We keep the date, we just remove the time.\n",
    "After this manipulation, we can merge the gas prices too."
   ],
   "metadata": {
    "collapsed": false
   }
  },
  {
   "cell_type": "code",
   "execution_count": 87,
   "outputs": [
    {
     "data": {
      "text/plain": "      county  is_business  product_type    target  is_consumption  \\\n0          5            1             0  1262.220               1   \n1         15            1             0   201.394               1   \n2          7            1             1    69.961               0   \n3          3            0             3    77.710               1   \n4         14            1             2     0.002               0   \n...      ...          ...           ...       ...             ...   \n9995       7            1             1    91.649               0   \n9996       0            0             3     2.656               0   \n9997       4            0             1    29.377               1   \n9998       8            1             3   331.005               1   \n9999      13            0             1    30.185               1   \n\n                 datetime  data_block_id   row_id  prediction_unit_id  \\\n0     2021-12-18 15:00:00            108   325649                  21   \n1     2022-08-28 15:00:00            361  1130347                  64   \n2     2022-10-19 16:00:00            413  1298386                  29   \n3     2022-11-09 23:00:00            434  1368277                  12   \n4     2022-11-16 08:00:00            441  1389484                  68   \n...                   ...            ...      ...                 ...   \n9995  2023-03-19 11:00:00            564  1785198                  29   \n9996  2022-03-23 20:00:00            203   624284                   2   \n9997  2023-02-04 21:00:00            521  1649347                  15   \n9998  2023-03-19 13:00:00            564  1785471                  33   \n9999  2023-02-05 10:00:00            522  1651161                  50   \n\n      euros_per_mwh  lowest_price_per_mwh  highest_price_per_mwh  \n0             99.99                 86.17                  90.40  \n1            449.95                245.01                 282.00  \n2            231.79                108.29                 125.00  \n3            107.12                104.29                 116.00  \n4            425.86                108.00                 123.82  \n...             ...                   ...                    ...  \n9995         104.39                 42.25                  47.40  \n9996         225.02                 82.10                  84.50  \n9997         119.92                 62.50                  66.92  \n9998          95.23                 42.25                  47.40  \n9999         185.08                 59.00                  66.00  \n\n[10000 rows x 12 columns]",
      "text/html": "<div>\n<style scoped>\n    .dataframe tbody tr th:only-of-type {\n        vertical-align: middle;\n    }\n\n    .dataframe tbody tr th {\n        vertical-align: top;\n    }\n\n    .dataframe thead th {\n        text-align: right;\n    }\n</style>\n<table border=\"1\" class=\"dataframe\">\n  <thead>\n    <tr style=\"text-align: right;\">\n      <th></th>\n      <th>county</th>\n      <th>is_business</th>\n      <th>product_type</th>\n      <th>target</th>\n      <th>is_consumption</th>\n      <th>datetime</th>\n      <th>data_block_id</th>\n      <th>row_id</th>\n      <th>prediction_unit_id</th>\n      <th>euros_per_mwh</th>\n      <th>lowest_price_per_mwh</th>\n      <th>highest_price_per_mwh</th>\n    </tr>\n  </thead>\n  <tbody>\n    <tr>\n      <th>0</th>\n      <td>5</td>\n      <td>1</td>\n      <td>0</td>\n      <td>1262.220</td>\n      <td>1</td>\n      <td>2021-12-18 15:00:00</td>\n      <td>108</td>\n      <td>325649</td>\n      <td>21</td>\n      <td>99.99</td>\n      <td>86.17</td>\n      <td>90.40</td>\n    </tr>\n    <tr>\n      <th>1</th>\n      <td>15</td>\n      <td>1</td>\n      <td>0</td>\n      <td>201.394</td>\n      <td>1</td>\n      <td>2022-08-28 15:00:00</td>\n      <td>361</td>\n      <td>1130347</td>\n      <td>64</td>\n      <td>449.95</td>\n      <td>245.01</td>\n      <td>282.00</td>\n    </tr>\n    <tr>\n      <th>2</th>\n      <td>7</td>\n      <td>1</td>\n      <td>1</td>\n      <td>69.961</td>\n      <td>0</td>\n      <td>2022-10-19 16:00:00</td>\n      <td>413</td>\n      <td>1298386</td>\n      <td>29</td>\n      <td>231.79</td>\n      <td>108.29</td>\n      <td>125.00</td>\n    </tr>\n    <tr>\n      <th>3</th>\n      <td>3</td>\n      <td>0</td>\n      <td>3</td>\n      <td>77.710</td>\n      <td>1</td>\n      <td>2022-11-09 23:00:00</td>\n      <td>434</td>\n      <td>1368277</td>\n      <td>12</td>\n      <td>107.12</td>\n      <td>104.29</td>\n      <td>116.00</td>\n    </tr>\n    <tr>\n      <th>4</th>\n      <td>14</td>\n      <td>1</td>\n      <td>2</td>\n      <td>0.002</td>\n      <td>0</td>\n      <td>2022-11-16 08:00:00</td>\n      <td>441</td>\n      <td>1389484</td>\n      <td>68</td>\n      <td>425.86</td>\n      <td>108.00</td>\n      <td>123.82</td>\n    </tr>\n    <tr>\n      <th>...</th>\n      <td>...</td>\n      <td>...</td>\n      <td>...</td>\n      <td>...</td>\n      <td>...</td>\n      <td>...</td>\n      <td>...</td>\n      <td>...</td>\n      <td>...</td>\n      <td>...</td>\n      <td>...</td>\n      <td>...</td>\n    </tr>\n    <tr>\n      <th>9995</th>\n      <td>7</td>\n      <td>1</td>\n      <td>1</td>\n      <td>91.649</td>\n      <td>0</td>\n      <td>2023-03-19 11:00:00</td>\n      <td>564</td>\n      <td>1785198</td>\n      <td>29</td>\n      <td>104.39</td>\n      <td>42.25</td>\n      <td>47.40</td>\n    </tr>\n    <tr>\n      <th>9996</th>\n      <td>0</td>\n      <td>0</td>\n      <td>3</td>\n      <td>2.656</td>\n      <td>0</td>\n      <td>2022-03-23 20:00:00</td>\n      <td>203</td>\n      <td>624284</td>\n      <td>2</td>\n      <td>225.02</td>\n      <td>82.10</td>\n      <td>84.50</td>\n    </tr>\n    <tr>\n      <th>9997</th>\n      <td>4</td>\n      <td>0</td>\n      <td>1</td>\n      <td>29.377</td>\n      <td>1</td>\n      <td>2023-02-04 21:00:00</td>\n      <td>521</td>\n      <td>1649347</td>\n      <td>15</td>\n      <td>119.92</td>\n      <td>62.50</td>\n      <td>66.92</td>\n    </tr>\n    <tr>\n      <th>9998</th>\n      <td>8</td>\n      <td>1</td>\n      <td>3</td>\n      <td>331.005</td>\n      <td>1</td>\n      <td>2023-03-19 13:00:00</td>\n      <td>564</td>\n      <td>1785471</td>\n      <td>33</td>\n      <td>95.23</td>\n      <td>42.25</td>\n      <td>47.40</td>\n    </tr>\n    <tr>\n      <th>9999</th>\n      <td>13</td>\n      <td>0</td>\n      <td>1</td>\n      <td>30.185</td>\n      <td>1</td>\n      <td>2023-02-05 10:00:00</td>\n      <td>522</td>\n      <td>1651161</td>\n      <td>50</td>\n      <td>185.08</td>\n      <td>59.00</td>\n      <td>66.00</td>\n    </tr>\n  </tbody>\n</table>\n<p>10000 rows × 12 columns</p>\n</div>"
     },
     "execution_count": 87,
     "metadata": {},
     "output_type": "execute_result"
    }
   ],
   "source": [
    "# Import train data\n",
    "df_train = pd.read_csv(\"./raw_data/train.csv\").sample(10000)\n",
    "\n",
    "## Merge elec prices\n",
    "# Creating a new column based on datetime\n",
    "df_train[\"origin_date\"] = df_train[\"datetime\"]\n",
    "# Selecting the infos we need to merge in the electricity df\n",
    "df_elec_prices = df_electricity.filter(['euros_per_mwh', 'origin_date'], axis=1)\n",
    "# Merging\n",
    "df_train = df_train.merge(df_elec_prices, how=\"left\", on=\"origin_date\")\n",
    "\n",
    "## Merge gas prices\n",
    "# Removing the hours in the origin_date column created above\n",
    "df_train[\"origin_date\"] = df_train[\"origin_date\"].apply(lambda x: pd.to_datetime(x).strftime(\"%Y-%m-%d\"))\n",
    "# Selecting the infos we need to merge in the gas df\n",
    "df_gas_prices = df_gas.filter(['lowest_price_per_mwh', 'highest_price_per_mwh', 'origin_date'])\n",
    "# Merging\n",
    "df_train = df_train.merge(df_gas_prices, how=\"left\", on=\"origin_date\")\n",
    "\n",
    "# Remove the origin_date column (because it's just a compacted version of \"datetime\")\n",
    "df_train.drop(columns=[\"origin_date\"], inplace=True)\n",
    "# df_train.describe()\n",
    "df_train"
   ],
   "metadata": {
    "collapsed": false,
    "ExecuteTime": {
     "end_time": "2023-12-20T19:00:02.109061500Z",
     "start_time": "2023-12-20T18:59:59.405278500Z"
    }
   }
  },
  {
   "cell_type": "markdown",
   "source": [
    "## Adding clients"
   ],
   "metadata": {
    "collapsed": false
   }
  },
  {
   "cell_type": "code",
   "execution_count": 88,
   "outputs": [
    {
     "data": {
      "text/plain": "       product_type  county  eic_count  installed_capacity  is_business  \\\n0                 1       0        108              952.89            0   \n1                 2       0         17              166.40            0   \n2                 3       0        688             7207.88            0   \n3                 0       0          5              400.00            1   \n4                 1       0         43             1411.00            1   \n...             ...     ...        ...                 ...          ...   \n41914             1      15         51              415.60            0   \n41915             3      15        161             2035.75            0   \n41916             0      15         15              620.00            1   \n41917             1      15         20              624.50            1   \n41918             3      15         55             2188.20            1   \n\n             date  data_block_id  \n0      2021-09-01              2  \n1      2021-09-01              2  \n2      2021-09-01              2  \n3      2021-09-01              2  \n4      2021-09-01              2  \n...           ...            ...  \n41914  2023-05-29            637  \n41915  2023-05-29            637  \n41916  2023-05-29            637  \n41917  2023-05-29            637  \n41918  2023-05-29            637  \n\n[41919 rows x 7 columns]",
      "text/html": "<div>\n<style scoped>\n    .dataframe tbody tr th:only-of-type {\n        vertical-align: middle;\n    }\n\n    .dataframe tbody tr th {\n        vertical-align: top;\n    }\n\n    .dataframe thead th {\n        text-align: right;\n    }\n</style>\n<table border=\"1\" class=\"dataframe\">\n  <thead>\n    <tr style=\"text-align: right;\">\n      <th></th>\n      <th>product_type</th>\n      <th>county</th>\n      <th>eic_count</th>\n      <th>installed_capacity</th>\n      <th>is_business</th>\n      <th>date</th>\n      <th>data_block_id</th>\n    </tr>\n  </thead>\n  <tbody>\n    <tr>\n      <th>0</th>\n      <td>1</td>\n      <td>0</td>\n      <td>108</td>\n      <td>952.89</td>\n      <td>0</td>\n      <td>2021-09-01</td>\n      <td>2</td>\n    </tr>\n    <tr>\n      <th>1</th>\n      <td>2</td>\n      <td>0</td>\n      <td>17</td>\n      <td>166.40</td>\n      <td>0</td>\n      <td>2021-09-01</td>\n      <td>2</td>\n    </tr>\n    <tr>\n      <th>2</th>\n      <td>3</td>\n      <td>0</td>\n      <td>688</td>\n      <td>7207.88</td>\n      <td>0</td>\n      <td>2021-09-01</td>\n      <td>2</td>\n    </tr>\n    <tr>\n      <th>3</th>\n      <td>0</td>\n      <td>0</td>\n      <td>5</td>\n      <td>400.00</td>\n      <td>1</td>\n      <td>2021-09-01</td>\n      <td>2</td>\n    </tr>\n    <tr>\n      <th>4</th>\n      <td>1</td>\n      <td>0</td>\n      <td>43</td>\n      <td>1411.00</td>\n      <td>1</td>\n      <td>2021-09-01</td>\n      <td>2</td>\n    </tr>\n    <tr>\n      <th>...</th>\n      <td>...</td>\n      <td>...</td>\n      <td>...</td>\n      <td>...</td>\n      <td>...</td>\n      <td>...</td>\n      <td>...</td>\n    </tr>\n    <tr>\n      <th>41914</th>\n      <td>1</td>\n      <td>15</td>\n      <td>51</td>\n      <td>415.60</td>\n      <td>0</td>\n      <td>2023-05-29</td>\n      <td>637</td>\n    </tr>\n    <tr>\n      <th>41915</th>\n      <td>3</td>\n      <td>15</td>\n      <td>161</td>\n      <td>2035.75</td>\n      <td>0</td>\n      <td>2023-05-29</td>\n      <td>637</td>\n    </tr>\n    <tr>\n      <th>41916</th>\n      <td>0</td>\n      <td>15</td>\n      <td>15</td>\n      <td>620.00</td>\n      <td>1</td>\n      <td>2023-05-29</td>\n      <td>637</td>\n    </tr>\n    <tr>\n      <th>41917</th>\n      <td>1</td>\n      <td>15</td>\n      <td>20</td>\n      <td>624.50</td>\n      <td>1</td>\n      <td>2023-05-29</td>\n      <td>637</td>\n    </tr>\n    <tr>\n      <th>41918</th>\n      <td>3</td>\n      <td>15</td>\n      <td>55</td>\n      <td>2188.20</td>\n      <td>1</td>\n      <td>2023-05-29</td>\n      <td>637</td>\n    </tr>\n  </tbody>\n</table>\n<p>41919 rows × 7 columns</p>\n</div>"
     },
     "execution_count": 88,
     "metadata": {},
     "output_type": "execute_result"
    }
   ],
   "source": [
    "df_client"
   ],
   "metadata": {
    "collapsed": false,
    "ExecuteTime": {
     "end_time": "2023-12-20T19:00:03.547717100Z",
     "start_time": "2023-12-20T19:00:03.530061700Z"
    }
   }
  },
  {
   "cell_type": "markdown",
   "source": [
    "## Add weather to final df"
   ],
   "metadata": {
    "collapsed": false
   }
  },
  {
   "cell_type": "code",
   "execution_count": 89,
   "outputs": [],
   "source": [
    "df_forecast_weather_county = df_forecast_weather.merge(df_weather_to_country, how=\"left\", on=[\"latitude\", \"longitude\"])\n",
    "df_forecast_weather_county.rename(columns={\"origin_datetime\": \"datetime\"}, inplace=True)\n",
    "# print(df_forecast_weather_county[df_forecast_weather_county[\"county\"] == 11])\n",
    "df_train = df_train.merge(df_forecast_weather_county, how=\"left\", on=[\"county\", \"datetime\"])"
   ],
   "metadata": {
    "collapsed": false,
    "ExecuteTime": {
     "end_time": "2023-12-20T19:00:12.231737300Z",
     "start_time": "2023-12-20T19:00:12.212751400Z"
    }
   }
  },
  {
   "cell_type": "code",
   "execution_count": 91,
   "outputs": [
    {
     "data": {
      "text/plain": "9953"
     },
     "execution_count": 91,
     "metadata": {},
     "output_type": "execute_result"
    }
   ],
   "source": [
    "df_train[\"temperature\"].isna().sum()"
   ],
   "metadata": {
    "collapsed": false,
    "ExecuteTime": {
     "end_time": "2023-12-20T19:18:14.997932Z",
     "start_time": "2023-12-20T19:18:14.983338400Z"
    }
   }
  },
  {
   "cell_type": "markdown",
   "source": [
    " ## Split datetime in multiple columns\n",
    "Split into 4 columns the datetime (year, month, day, hour)"
   ],
   "metadata": {
    "collapsed": false
   }
  },
  {
   "cell_type": "code",
   "execution_count": 79,
   "outputs": [],
   "source": [
    "df_train[\"year\"] = df_train[\"datetime\"].apply(lambda x : x[0:4])\n",
    "df_train[\"month\"] = df_train[\"datetime\"].apply(lambda x : x[5:7])\n",
    "df_train[\"day\"] = df_train[\"datetime\"].apply(lambda x : x[8:10])\n",
    "df_train[\"hour\"] = df_train[\"datetime\"].apply(lambda x : x[11:13])\n",
    "df_train.drop(columns=\"datetime\", inplace=True)"
   ],
   "metadata": {
    "collapsed": false,
    "ExecuteTime": {
     "end_time": "2023-12-20T18:44:27.659594300Z",
     "start_time": "2023-12-20T18:44:27.602840200Z"
    }
   }
  },
  {
   "cell_type": "code",
   "execution_count": 80,
   "outputs": [],
   "source": [
    "df_train.to_csv(\"./formated_data/train.csv\",index=False)"
   ],
   "metadata": {
    "collapsed": false,
    "ExecuteTime": {
     "end_time": "2023-12-20T18:44:27.678446600Z",
     "start_time": "2023-12-20T18:44:27.614594400Z"
    }
   }
  },
  {
   "cell_type": "code",
   "execution_count": 80,
   "outputs": [],
   "source": [],
   "metadata": {
    "collapsed": false,
    "ExecuteTime": {
     "end_time": "2023-12-20T18:44:27.678446600Z",
     "start_time": "2023-12-20T18:44:27.670937800Z"
    }
   }
  }
 ],
 "metadata": {
  "kernelspec": {
   "display_name": "syllabus_to_kg",
   "language": "python",
   "name": "python3"
  },
  "language_info": {
   "codemirror_mode": {
    "name": "ipython",
    "version": 3
   },
   "file_extension": ".py",
   "mimetype": "text/x-python",
   "name": "python",
   "nbconvert_exporter": "python",
   "pygments_lexer": "ipython3",
   "version": "3.11.4"
  }
 },
 "nbformat": 4,
 "nbformat_minor": 2
}
