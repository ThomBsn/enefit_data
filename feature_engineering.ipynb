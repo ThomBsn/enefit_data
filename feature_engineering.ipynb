{
 "cells": [
  {
   "cell_type": "code",
   "execution_count": 57,
   "metadata": {
    "ExecuteTime": {
     "end_time": "2023-12-21T14:43:50.096875100Z",
     "start_time": "2023-12-21T14:43:50.024978300Z"
    }
   },
   "outputs": [],
   "source": [
    "import pandas as pd"
   ]
  },
  {
   "cell_type": "markdown",
   "source": [
    "# Import data"
   ],
   "metadata": {
    "collapsed": false
   }
  },
  {
   "cell_type": "code",
   "execution_count": 58,
   "metadata": {
    "ExecuteTime": {
     "end_time": "2023-12-21T14:43:51.341757Z",
     "start_time": "2023-12-21T14:43:50.101761800Z"
    }
   },
   "outputs": [],
   "source": [
    "df_electricity=pd.read_csv(\"./raw_data/electricity_prices.csv\")\n",
    "df_gas=pd.read_csv(\"./raw_data/gas_prices.csv\")\n",
    "# Import train data\n",
    "df_train = pd.read_csv(\"./raw_data/train.csv\")"
   ]
  },
  {
   "cell_type": "markdown",
   "source": [
    "# Changing data format"
   ],
   "metadata": {
    "collapsed": false
   }
  },
  {
   "cell_type": "markdown",
   "source": [
    "### Manipulating dates\n",
    "Check the number of unique values for the date column in the electricity\n",
    "By checking only the unique dates, it will reduce the number of calculation when we will compare the date between the electricity df and the train df"
   ],
   "metadata": {
    "collapsed": false
   }
  },
  {
   "cell_type": "code",
   "execution_count": 59,
   "metadata": {
    "ExecuteTime": {
     "end_time": "2023-12-21T14:43:51.362844900Z",
     "start_time": "2023-12-21T14:43:51.342773500Z"
    }
   },
   "outputs": [
    {
     "name": "stdout",
     "output_type": "stream",
     "text": [
      "Number of unique values in elec : 15286\n",
      "Number of unique values in gas : 637\n"
     ]
    }
   ],
   "source": [
    "print(\"Number of unique values in elec :\", df_electricity[\"origin_date\"].nunique())\n",
    "print(\"Number of unique values in gas :\", df_gas[\"origin_date\"].nunique())"
   ]
  },
  {
   "cell_type": "markdown",
   "metadata": {},
   "source": [
    "# Feature Engineering"
   ]
  },
  {
   "cell_type": "markdown",
   "source": [
    "## Adding gas and electricity prices in df_train\n",
    "First of all we can see that the dataframe for the gas, do not use the same date format than the electricity and the train dataframes date format.\n",
    "So we will be able to merge the info from the electricity dataframe, based on the datetime from the train dataframe.\n",
    "But for the gas dataframe, we will need to add a formated column in train df. A column with the same format as the date in the gas df. We keep the date, we just remove the time.\n",
    "After this manipulation, we can merge the gas prices too.\n",
    "\n",
    "### Add elec prices"
   ],
   "metadata": {
    "collapsed": false
   }
  },
  {
   "cell_type": "code",
   "execution_count": 60,
   "outputs": [],
   "source": [
    "## Merge elec prices\n",
    "# Creating a new column based on datetime\n",
    "df_train[\"forecast_date\"] = df_train[\"datetime\"]\n",
    "# Selecting the infos we need to merge in the electricity df\n",
    "df_elec_prices = df_electricity.filter(['euros_per_mwh', 'forecast_date'], axis=1)\n",
    "# Merging\n",
    "df_train = df_train.merge(df_elec_prices, how=\"left\", on=\"forecast_date\", suffixes=('', '_elec'))\n",
    "df_train.rename(columns={\"euros_per_mwh\": \"euros_per_mwh_elec\"}, inplace=True)\n"
   ],
   "metadata": {
    "collapsed": false,
    "ExecuteTime": {
     "end_time": "2023-12-21T14:43:51.782807700Z",
     "start_time": "2023-12-21T14:43:51.362844900Z"
    }
   }
  },
  {
   "cell_type": "code",
   "execution_count": 61,
   "outputs": [
    {
     "data": {
      "text/plain": "county                   0\nis_business              0\nproduct_type             0\ntarget                 528\nis_consumption           0\ndatetime                 0\ndata_block_id            0\nrow_id                   0\nprediction_unit_id       0\nforecast_date            0\neuros_per_mwh_elec    3386\ndtype: int64"
     },
     "execution_count": 61,
     "metadata": {},
     "output_type": "execute_result"
    }
   ],
   "source": [
    "df_train.isna().sum()"
   ],
   "metadata": {
    "collapsed": false,
    "ExecuteTime": {
     "end_time": "2023-12-21T14:43:51.940023900Z",
     "start_time": "2023-12-21T14:43:51.786984300Z"
    }
   }
  },
  {
   "cell_type": "markdown",
   "source": [
    "### Add gas prices"
   ],
   "metadata": {
    "collapsed": false
   }
  },
  {
   "cell_type": "code",
   "execution_count": 62,
   "outputs": [
    {
     "data": {
      "text/plain": "0          2021-09-01\n1          2021-09-01\n2          2021-09-01\n3          2021-09-01\n4          2021-09-01\n              ...    \n2018347    2023-05-31\n2018348    2023-05-31\n2018349    2023-05-31\n2018350    2023-05-31\n2018351    2023-05-31\nName: simplified_date, Length: 2018352, dtype: object"
     },
     "execution_count": 62,
     "metadata": {},
     "output_type": "execute_result"
    }
   ],
   "source": [
    "df_train[\"simplified_date\"] = pd.to_datetime(df_train[\"forecast_date\"]).dt.strftime('%Y-%m-%d')\n",
    "df_train[\"simplified_date\"]"
   ],
   "metadata": {
    "collapsed": false,
    "ExecuteTime": {
     "end_time": "2023-12-21T14:43:53.218588200Z",
     "start_time": "2023-12-21T14:43:51.941060300Z"
    }
   }
  },
  {
   "cell_type": "code",
   "execution_count": 63,
   "outputs": [
    {
     "data": {
      "text/plain": "         county  is_business  product_type   target  is_consumption  \\\n0             0            0             1    0.713               0   \n1             0            0             1   96.590               1   \n2             0            0             2    0.000               0   \n3             0            0             2   17.314               1   \n4             0            0             3    2.904               0   \n...         ...          ...           ...      ...             ...   \n2018347      15            1             0  197.233               1   \n2018348      15            1             1    0.000               0   \n2018349      15            1             1   28.404               1   \n2018350      15            1             3    0.000               0   \n2018351      15            1             3  196.240               1   \n\n                    datetime  data_block_id   row_id  prediction_unit_id  \\\n0        2021-09-01 00:00:00              0        0                   0   \n1        2021-09-01 00:00:00              0        1                   0   \n2        2021-09-01 00:00:00              0        2                   1   \n3        2021-09-01 00:00:00              0        3                   1   \n4        2021-09-01 00:00:00              0        4                   2   \n...                      ...            ...      ...                 ...   \n2018347  2023-05-31 23:00:00            637  2018347                  64   \n2018348  2023-05-31 23:00:00            637  2018348                  59   \n2018349  2023-05-31 23:00:00            637  2018349                  59   \n2018350  2023-05-31 23:00:00            637  2018350                  60   \n2018351  2023-05-31 23:00:00            637  2018351                  60   \n\n               forecast_date  euros_per_mwh_elec simplified_date  \\\n0        2021-09-01 00:00:00               92.51      2021-09-01   \n1        2021-09-01 00:00:00               92.51      2021-09-01   \n2        2021-09-01 00:00:00               92.51      2021-09-01   \n3        2021-09-01 00:00:00               92.51      2021-09-01   \n4        2021-09-01 00:00:00               92.51      2021-09-01   \n...                      ...                 ...             ...   \n2018347  2023-05-31 23:00:00                 NaN      2023-05-31   \n2018348  2023-05-31 23:00:00                 NaN      2023-05-31   \n2018349  2023-05-31 23:00:00                 NaN      2023-05-31   \n2018350  2023-05-31 23:00:00                 NaN      2023-05-31   \n2018351  2023-05-31 23:00:00                 NaN      2023-05-31   \n\n         lowest_price_per_mwh_gas  highest_price_per_mwh_gas  \n0                           45.23                      46.32  \n1                           45.23                      46.32  \n2                           45.23                      46.32  \n3                           45.23                      46.32  \n4                           45.23                      46.32  \n...                           ...                        ...  \n2018347                       NaN                        NaN  \n2018348                       NaN                        NaN  \n2018349                       NaN                        NaN  \n2018350                       NaN                        NaN  \n2018351                       NaN                        NaN  \n\n[2018352 rows x 14 columns]",
      "text/html": "<div>\n<style scoped>\n    .dataframe tbody tr th:only-of-type {\n        vertical-align: middle;\n    }\n\n    .dataframe tbody tr th {\n        vertical-align: top;\n    }\n\n    .dataframe thead th {\n        text-align: right;\n    }\n</style>\n<table border=\"1\" class=\"dataframe\">\n  <thead>\n    <tr style=\"text-align: right;\">\n      <th></th>\n      <th>county</th>\n      <th>is_business</th>\n      <th>product_type</th>\n      <th>target</th>\n      <th>is_consumption</th>\n      <th>datetime</th>\n      <th>data_block_id</th>\n      <th>row_id</th>\n      <th>prediction_unit_id</th>\n      <th>forecast_date</th>\n      <th>euros_per_mwh_elec</th>\n      <th>simplified_date</th>\n      <th>lowest_price_per_mwh_gas</th>\n      <th>highest_price_per_mwh_gas</th>\n    </tr>\n  </thead>\n  <tbody>\n    <tr>\n      <th>0</th>\n      <td>0</td>\n      <td>0</td>\n      <td>1</td>\n      <td>0.713</td>\n      <td>0</td>\n      <td>2021-09-01 00:00:00</td>\n      <td>0</td>\n      <td>0</td>\n      <td>0</td>\n      <td>2021-09-01 00:00:00</td>\n      <td>92.51</td>\n      <td>2021-09-01</td>\n      <td>45.23</td>\n      <td>46.32</td>\n    </tr>\n    <tr>\n      <th>1</th>\n      <td>0</td>\n      <td>0</td>\n      <td>1</td>\n      <td>96.590</td>\n      <td>1</td>\n      <td>2021-09-01 00:00:00</td>\n      <td>0</td>\n      <td>1</td>\n      <td>0</td>\n      <td>2021-09-01 00:00:00</td>\n      <td>92.51</td>\n      <td>2021-09-01</td>\n      <td>45.23</td>\n      <td>46.32</td>\n    </tr>\n    <tr>\n      <th>2</th>\n      <td>0</td>\n      <td>0</td>\n      <td>2</td>\n      <td>0.000</td>\n      <td>0</td>\n      <td>2021-09-01 00:00:00</td>\n      <td>0</td>\n      <td>2</td>\n      <td>1</td>\n      <td>2021-09-01 00:00:00</td>\n      <td>92.51</td>\n      <td>2021-09-01</td>\n      <td>45.23</td>\n      <td>46.32</td>\n    </tr>\n    <tr>\n      <th>3</th>\n      <td>0</td>\n      <td>0</td>\n      <td>2</td>\n      <td>17.314</td>\n      <td>1</td>\n      <td>2021-09-01 00:00:00</td>\n      <td>0</td>\n      <td>3</td>\n      <td>1</td>\n      <td>2021-09-01 00:00:00</td>\n      <td>92.51</td>\n      <td>2021-09-01</td>\n      <td>45.23</td>\n      <td>46.32</td>\n    </tr>\n    <tr>\n      <th>4</th>\n      <td>0</td>\n      <td>0</td>\n      <td>3</td>\n      <td>2.904</td>\n      <td>0</td>\n      <td>2021-09-01 00:00:00</td>\n      <td>0</td>\n      <td>4</td>\n      <td>2</td>\n      <td>2021-09-01 00:00:00</td>\n      <td>92.51</td>\n      <td>2021-09-01</td>\n      <td>45.23</td>\n      <td>46.32</td>\n    </tr>\n    <tr>\n      <th>...</th>\n      <td>...</td>\n      <td>...</td>\n      <td>...</td>\n      <td>...</td>\n      <td>...</td>\n      <td>...</td>\n      <td>...</td>\n      <td>...</td>\n      <td>...</td>\n      <td>...</td>\n      <td>...</td>\n      <td>...</td>\n      <td>...</td>\n      <td>...</td>\n    </tr>\n    <tr>\n      <th>2018347</th>\n      <td>15</td>\n      <td>1</td>\n      <td>0</td>\n      <td>197.233</td>\n      <td>1</td>\n      <td>2023-05-31 23:00:00</td>\n      <td>637</td>\n      <td>2018347</td>\n      <td>64</td>\n      <td>2023-05-31 23:00:00</td>\n      <td>NaN</td>\n      <td>2023-05-31</td>\n      <td>NaN</td>\n      <td>NaN</td>\n    </tr>\n    <tr>\n      <th>2018348</th>\n      <td>15</td>\n      <td>1</td>\n      <td>1</td>\n      <td>0.000</td>\n      <td>0</td>\n      <td>2023-05-31 23:00:00</td>\n      <td>637</td>\n      <td>2018348</td>\n      <td>59</td>\n      <td>2023-05-31 23:00:00</td>\n      <td>NaN</td>\n      <td>2023-05-31</td>\n      <td>NaN</td>\n      <td>NaN</td>\n    </tr>\n    <tr>\n      <th>2018349</th>\n      <td>15</td>\n      <td>1</td>\n      <td>1</td>\n      <td>28.404</td>\n      <td>1</td>\n      <td>2023-05-31 23:00:00</td>\n      <td>637</td>\n      <td>2018349</td>\n      <td>59</td>\n      <td>2023-05-31 23:00:00</td>\n      <td>NaN</td>\n      <td>2023-05-31</td>\n      <td>NaN</td>\n      <td>NaN</td>\n    </tr>\n    <tr>\n      <th>2018350</th>\n      <td>15</td>\n      <td>1</td>\n      <td>3</td>\n      <td>0.000</td>\n      <td>0</td>\n      <td>2023-05-31 23:00:00</td>\n      <td>637</td>\n      <td>2018350</td>\n      <td>60</td>\n      <td>2023-05-31 23:00:00</td>\n      <td>NaN</td>\n      <td>2023-05-31</td>\n      <td>NaN</td>\n      <td>NaN</td>\n    </tr>\n    <tr>\n      <th>2018351</th>\n      <td>15</td>\n      <td>1</td>\n      <td>3</td>\n      <td>196.240</td>\n      <td>1</td>\n      <td>2023-05-31 23:00:00</td>\n      <td>637</td>\n      <td>2018351</td>\n      <td>60</td>\n      <td>2023-05-31 23:00:00</td>\n      <td>NaN</td>\n      <td>2023-05-31</td>\n      <td>NaN</td>\n      <td>NaN</td>\n    </tr>\n  </tbody>\n</table>\n<p>2018352 rows × 14 columns</p>\n</div>"
     },
     "execution_count": 63,
     "metadata": {},
     "output_type": "execute_result"
    }
   ],
   "source": [
    "# Selecting the infos we need to merge in the gas df\n",
    "df_gas_prices = df_gas.filter(['lowest_price_per_mwh', 'highest_price_per_mwh', 'forecast_date'])\n",
    "df_gas_prices.rename(columns={\"forecast_date\": \"simplified_date\"}, inplace=True)\n",
    "\n",
    "# Merging\n",
    "df_train = df_train.merge(df_gas_prices, how=\"left\", on=\"simplified_date\")\n",
    "df_train.rename(columns={\"lowest_price_per_mwh\": \"lowest_price_per_mwh_gas\", \"highest_price_per_mwh\": \"highest_price_per_mwh_gas\"}, inplace=True)\n",
    "\n",
    "df_train"
   ],
   "metadata": {
    "collapsed": false,
    "ExecuteTime": {
     "end_time": "2023-12-21T14:43:53.802883700Z",
     "start_time": "2023-12-21T14:43:53.221785700Z"
    }
   }
  },
  {
   "cell_type": "code",
   "execution_count": 64,
   "outputs": [
    {
     "data": {
      "text/plain": "county                          0\nis_business                     0\nproduct_type                    0\ntarget                        528\nis_consumption                  0\ndatetime                        0\ndata_block_id                   0\nrow_id                          0\nprediction_unit_id              0\nforecast_date                   0\neuros_per_mwh_elec           3386\nsimplified_date                 0\nlowest_price_per_mwh_gas     3120\nhighest_price_per_mwh_gas    3120\ndtype: int64"
     },
     "execution_count": 64,
     "metadata": {},
     "output_type": "execute_result"
    }
   ],
   "source": [
    "df_train.isna().sum()"
   ],
   "metadata": {
    "collapsed": false,
    "ExecuteTime": {
     "end_time": "2023-12-21T14:43:54.015617800Z",
     "start_time": "2023-12-21T14:43:53.804953900Z"
    }
   }
  },
  {
   "cell_type": "markdown",
   "source": [
    "### Add clients"
   ],
   "metadata": {
    "collapsed": false
   }
  },
  {
   "cell_type": "code",
   "execution_count": 65,
   "outputs": [
    {
     "data": {
      "text/plain": "         county  is_business  product_type   target  is_consumption  \\\n0             0            0             1    0.713               0   \n1             0            0             1   96.590               1   \n2             0            0             2    0.000               0   \n3             0            0             2   17.314               1   \n4             0            0             3    2.904               0   \n...         ...          ...           ...      ...             ...   \n2018347      15            1             0  197.233               1   \n2018348      15            1             1    0.000               0   \n2018349      15            1             1   28.404               1   \n2018350      15            1             3    0.000               0   \n2018351      15            1             3  196.240               1   \n\n                    datetime  data_block_id   row_id  prediction_unit_id  \\\n0        2021-09-01 00:00:00              0        0                   0   \n1        2021-09-01 00:00:00              0        1                   0   \n2        2021-09-01 00:00:00              0        2                   1   \n3        2021-09-01 00:00:00              0        3                   1   \n4        2021-09-01 00:00:00              0        4                   2   \n...                      ...            ...      ...                 ...   \n2018347  2023-05-31 23:00:00            637  2018347                  64   \n2018348  2023-05-31 23:00:00            637  2018348                  59   \n2018349  2023-05-31 23:00:00            637  2018349                  59   \n2018350  2023-05-31 23:00:00            637  2018350                  60   \n2018351  2023-05-31 23:00:00            637  2018351                  60   \n\n               forecast_date  euros_per_mwh_elec simplified_date  \\\n0        2021-09-01 00:00:00               92.51      2021-09-01   \n1        2021-09-01 00:00:00               92.51      2021-09-01   \n2        2021-09-01 00:00:00               92.51      2021-09-01   \n3        2021-09-01 00:00:00               92.51      2021-09-01   \n4        2021-09-01 00:00:00               92.51      2021-09-01   \n...                      ...                 ...             ...   \n2018347  2023-05-31 23:00:00                 NaN      2023-05-31   \n2018348  2023-05-31 23:00:00                 NaN      2023-05-31   \n2018349  2023-05-31 23:00:00                 NaN      2023-05-31   \n2018350  2023-05-31 23:00:00                 NaN      2023-05-31   \n2018351  2023-05-31 23:00:00                 NaN      2023-05-31   \n\n         lowest_price_per_mwh_gas  highest_price_per_mwh_gas  is_business_clt  \\\n0                           45.23                      46.32         0.409091   \n1                           45.23                      46.32         0.409091   \n2                           45.23                      46.32         0.400000   \n3                           45.23                      46.32         0.400000   \n4                           45.23                      46.32         0.533333   \n...                           ...                        ...              ...   \n2018347                       NaN                        NaN              NaN   \n2018348                       NaN                        NaN              NaN   \n2018349                       NaN                        NaN              NaN   \n2018350                       NaN                        NaN              NaN   \n2018351                       NaN                        NaN              NaN   \n\n         installed_capacity  county_clt  eic_count  \n0                360.281364    7.909091  20.863636  \n1                360.281364    7.909091  20.863636  \n2                110.180000    7.800000   8.600000  \n3                110.180000    7.800000   8.600000  \n4               1924.952333    7.400000  87.433333  \n...                     ...         ...        ...  \n2018347                 NaN         NaN        NaN  \n2018348                 NaN         NaN        NaN  \n2018349                 NaN         NaN        NaN  \n2018350                 NaN         NaN        NaN  \n2018351                 NaN         NaN        NaN  \n\n[2018352 rows x 18 columns]",
      "text/html": "<div>\n<style scoped>\n    .dataframe tbody tr th:only-of-type {\n        vertical-align: middle;\n    }\n\n    .dataframe tbody tr th {\n        vertical-align: top;\n    }\n\n    .dataframe thead th {\n        text-align: right;\n    }\n</style>\n<table border=\"1\" class=\"dataframe\">\n  <thead>\n    <tr style=\"text-align: right;\">\n      <th></th>\n      <th>county</th>\n      <th>is_business</th>\n      <th>product_type</th>\n      <th>target</th>\n      <th>is_consumption</th>\n      <th>datetime</th>\n      <th>data_block_id</th>\n      <th>row_id</th>\n      <th>prediction_unit_id</th>\n      <th>forecast_date</th>\n      <th>euros_per_mwh_elec</th>\n      <th>simplified_date</th>\n      <th>lowest_price_per_mwh_gas</th>\n      <th>highest_price_per_mwh_gas</th>\n      <th>is_business_clt</th>\n      <th>installed_capacity</th>\n      <th>county_clt</th>\n      <th>eic_count</th>\n    </tr>\n  </thead>\n  <tbody>\n    <tr>\n      <th>0</th>\n      <td>0</td>\n      <td>0</td>\n      <td>1</td>\n      <td>0.713</td>\n      <td>0</td>\n      <td>2021-09-01 00:00:00</td>\n      <td>0</td>\n      <td>0</td>\n      <td>0</td>\n      <td>2021-09-01 00:00:00</td>\n      <td>92.51</td>\n      <td>2021-09-01</td>\n      <td>45.23</td>\n      <td>46.32</td>\n      <td>0.409091</td>\n      <td>360.281364</td>\n      <td>7.909091</td>\n      <td>20.863636</td>\n    </tr>\n    <tr>\n      <th>1</th>\n      <td>0</td>\n      <td>0</td>\n      <td>1</td>\n      <td>96.590</td>\n      <td>1</td>\n      <td>2021-09-01 00:00:00</td>\n      <td>0</td>\n      <td>1</td>\n      <td>0</td>\n      <td>2021-09-01 00:00:00</td>\n      <td>92.51</td>\n      <td>2021-09-01</td>\n      <td>45.23</td>\n      <td>46.32</td>\n      <td>0.409091</td>\n      <td>360.281364</td>\n      <td>7.909091</td>\n      <td>20.863636</td>\n    </tr>\n    <tr>\n      <th>2</th>\n      <td>0</td>\n      <td>0</td>\n      <td>2</td>\n      <td>0.000</td>\n      <td>0</td>\n      <td>2021-09-01 00:00:00</td>\n      <td>0</td>\n      <td>2</td>\n      <td>1</td>\n      <td>2021-09-01 00:00:00</td>\n      <td>92.51</td>\n      <td>2021-09-01</td>\n      <td>45.23</td>\n      <td>46.32</td>\n      <td>0.400000</td>\n      <td>110.180000</td>\n      <td>7.800000</td>\n      <td>8.600000</td>\n    </tr>\n    <tr>\n      <th>3</th>\n      <td>0</td>\n      <td>0</td>\n      <td>2</td>\n      <td>17.314</td>\n      <td>1</td>\n      <td>2021-09-01 00:00:00</td>\n      <td>0</td>\n      <td>3</td>\n      <td>1</td>\n      <td>2021-09-01 00:00:00</td>\n      <td>92.51</td>\n      <td>2021-09-01</td>\n      <td>45.23</td>\n      <td>46.32</td>\n      <td>0.400000</td>\n      <td>110.180000</td>\n      <td>7.800000</td>\n      <td>8.600000</td>\n    </tr>\n    <tr>\n      <th>4</th>\n      <td>0</td>\n      <td>0</td>\n      <td>3</td>\n      <td>2.904</td>\n      <td>0</td>\n      <td>2021-09-01 00:00:00</td>\n      <td>0</td>\n      <td>4</td>\n      <td>2</td>\n      <td>2021-09-01 00:00:00</td>\n      <td>92.51</td>\n      <td>2021-09-01</td>\n      <td>45.23</td>\n      <td>46.32</td>\n      <td>0.533333</td>\n      <td>1924.952333</td>\n      <td>7.400000</td>\n      <td>87.433333</td>\n    </tr>\n    <tr>\n      <th>...</th>\n      <td>...</td>\n      <td>...</td>\n      <td>...</td>\n      <td>...</td>\n      <td>...</td>\n      <td>...</td>\n      <td>...</td>\n      <td>...</td>\n      <td>...</td>\n      <td>...</td>\n      <td>...</td>\n      <td>...</td>\n      <td>...</td>\n      <td>...</td>\n      <td>...</td>\n      <td>...</td>\n      <td>...</td>\n      <td>...</td>\n    </tr>\n    <tr>\n      <th>2018347</th>\n      <td>15</td>\n      <td>1</td>\n      <td>0</td>\n      <td>197.233</td>\n      <td>1</td>\n      <td>2023-05-31 23:00:00</td>\n      <td>637</td>\n      <td>2018347</td>\n      <td>64</td>\n      <td>2023-05-31 23:00:00</td>\n      <td>NaN</td>\n      <td>2023-05-31</td>\n      <td>NaN</td>\n      <td>NaN</td>\n      <td>NaN</td>\n      <td>NaN</td>\n      <td>NaN</td>\n      <td>NaN</td>\n    </tr>\n    <tr>\n      <th>2018348</th>\n      <td>15</td>\n      <td>1</td>\n      <td>1</td>\n      <td>0.000</td>\n      <td>0</td>\n      <td>2023-05-31 23:00:00</td>\n      <td>637</td>\n      <td>2018348</td>\n      <td>59</td>\n      <td>2023-05-31 23:00:00</td>\n      <td>NaN</td>\n      <td>2023-05-31</td>\n      <td>NaN</td>\n      <td>NaN</td>\n      <td>NaN</td>\n      <td>NaN</td>\n      <td>NaN</td>\n      <td>NaN</td>\n    </tr>\n    <tr>\n      <th>2018349</th>\n      <td>15</td>\n      <td>1</td>\n      <td>1</td>\n      <td>28.404</td>\n      <td>1</td>\n      <td>2023-05-31 23:00:00</td>\n      <td>637</td>\n      <td>2018349</td>\n      <td>59</td>\n      <td>2023-05-31 23:00:00</td>\n      <td>NaN</td>\n      <td>2023-05-31</td>\n      <td>NaN</td>\n      <td>NaN</td>\n      <td>NaN</td>\n      <td>NaN</td>\n      <td>NaN</td>\n      <td>NaN</td>\n    </tr>\n    <tr>\n      <th>2018350</th>\n      <td>15</td>\n      <td>1</td>\n      <td>3</td>\n      <td>0.000</td>\n      <td>0</td>\n      <td>2023-05-31 23:00:00</td>\n      <td>637</td>\n      <td>2018350</td>\n      <td>60</td>\n      <td>2023-05-31 23:00:00</td>\n      <td>NaN</td>\n      <td>2023-05-31</td>\n      <td>NaN</td>\n      <td>NaN</td>\n      <td>NaN</td>\n      <td>NaN</td>\n      <td>NaN</td>\n      <td>NaN</td>\n    </tr>\n    <tr>\n      <th>2018351</th>\n      <td>15</td>\n      <td>1</td>\n      <td>3</td>\n      <td>196.240</td>\n      <td>1</td>\n      <td>2023-05-31 23:00:00</td>\n      <td>637</td>\n      <td>2018351</td>\n      <td>60</td>\n      <td>2023-05-31 23:00:00</td>\n      <td>NaN</td>\n      <td>2023-05-31</td>\n      <td>NaN</td>\n      <td>NaN</td>\n      <td>NaN</td>\n      <td>NaN</td>\n      <td>NaN</td>\n      <td>NaN</td>\n    </tr>\n  </tbody>\n</table>\n<p>2018352 rows × 18 columns</p>\n</div>"
     },
     "execution_count": 65,
     "metadata": {},
     "output_type": "execute_result"
    }
   ],
   "source": [
    "# Import data\n",
    "df_client = pd.read_csv(\"./raw_data/client.csv\")\n",
    "# Create a sub DataFrame\n",
    "df_client_filtered = df_client.filter(['is_business', 'product_type', 'date', 'installed_capacity', 'county', 'eic_count'])\n",
    "# Rename \"date\" column for the merge\n",
    "df_client_filtered.rename(columns={\"date\": \"simplified_date\"}, inplace=True)\n",
    "# Group by mean the date and the product_type\n",
    "df_client_grouped = df_client_filtered.groupby([\"simplified_date\", \"product_type\"]).mean()\n",
    "\n",
    "# Merge with the df_train\n",
    "df_train = df_train.merge(df_client_grouped, how=\"left\", on=[\"simplified_date\", \"product_type\"], suffixes=('', '_clt'))\n",
    "df_train"
   ],
   "metadata": {
    "collapsed": false,
    "ExecuteTime": {
     "end_time": "2023-12-21T14:43:54.865323200Z",
     "start_time": "2023-12-21T14:43:54.018816900Z"
    }
   }
  },
  {
   "cell_type": "code",
   "execution_count": 66,
   "outputs": [
    {
     "data": {
      "text/plain": "county                          0\nis_business                     0\nproduct_type                    0\ntarget                        528\nis_consumption                  0\ndatetime                        0\ndata_block_id                   0\nrow_id                          0\nprediction_unit_id              0\nforecast_date                   0\neuros_per_mwh_elec           3386\nsimplified_date                 0\nlowest_price_per_mwh_gas     3120\nhighest_price_per_mwh_gas    3120\nis_business_clt              6240\ninstalled_capacity           6240\ncounty_clt                   6240\neic_count                    6240\ndtype: int64"
     },
     "execution_count": 66,
     "metadata": {},
     "output_type": "execute_result"
    }
   ],
   "source": [
    "df_train.isna().sum()"
   ],
   "metadata": {
    "collapsed": false,
    "ExecuteTime": {
     "end_time": "2023-12-21T14:43:55.112784100Z",
     "start_time": "2023-12-21T14:43:54.866406600Z"
    }
   }
  },
  {
   "cell_type": "markdown",
   "source": [
    "### Add weather to final df"
   ],
   "metadata": {
    "collapsed": false
   }
  },
  {
   "cell_type": "code",
   "execution_count": 67,
   "outputs": [
    {
     "data": {
      "text/plain": "         county  is_business  product_type   target  is_consumption  \\\n0             0            0             1    0.713               0   \n1             0            0             1   96.590               1   \n2             0            0             2    0.000               0   \n3             0            0             2   17.314               1   \n4             0            0             3    2.904               0   \n...         ...          ...           ...      ...             ...   \n2018347      15            1             0  197.233               1   \n2018348      15            1             1    0.000               0   \n2018349      15            1             1   28.404               1   \n2018350      15            1             3    0.000               0   \n2018351      15            1             3  196.240               1   \n\n                    datetime  data_block_id   row_id  prediction_unit_id  \\\n0        2021-09-01 00:00:00              0        0                   0   \n1        2021-09-01 00:00:00              0        1                   0   \n2        2021-09-01 00:00:00              0        2                   1   \n3        2021-09-01 00:00:00              0        3                   1   \n4        2021-09-01 00:00:00              0        4                   2   \n...                      ...            ...      ...                 ...   \n2018347  2023-05-31 23:00:00            637  2018347                  64   \n2018348  2023-05-31 23:00:00            637  2018348                  59   \n2018349  2023-05-31 23:00:00            637  2018349                  59   \n2018350  2023-05-31 23:00:00            637  2018350                  60   \n2018351  2023-05-31 23:00:00            637  2018351                  60   \n\n               forecast_date  ...  cloudcover_high_fc cloudcover_low_fc  \\\n0        2021-09-01 00:00:00  ...                 NaN               NaN   \n1        2021-09-01 00:00:00  ...                 NaN               NaN   \n2        2021-09-01 00:00:00  ...                 NaN               NaN   \n3        2021-09-01 00:00:00  ...                 NaN               NaN   \n4        2021-09-01 00:00:00  ...                 NaN               NaN   \n...                      ...  ...                 ...               ...   \n2018347  2023-05-31 23:00:00  ...             0.50497          0.016986   \n2018348  2023-05-31 23:00:00  ...             0.50497          0.016986   \n2018349  2023-05-31 23:00:00  ...             0.50497          0.016986   \n2018350  2023-05-31 23:00:00  ...             0.50497          0.016986   \n2018351  2023-05-31 23:00:00  ...             0.50497          0.016986   \n\n         cloudcover_mid_fc  cloudcover_total_fc  10_metre_u_wind_component  \\\n0                      NaN                  NaN                        NaN   \n1                      NaN                  NaN                        NaN   \n2                      NaN                  NaN                        NaN   \n3                      NaN                  NaN                        NaN   \n4                      NaN                  NaN                        NaN   \n...                    ...                  ...                        ...   \n2018347           0.031082             0.526855                   4.432824   \n2018348           0.031082             0.526855                   4.432824   \n2018349           0.031082             0.526855                   4.432824   \n2018350           0.031082             0.526855                   4.432824   \n2018351           0.031082             0.526855                   4.432824   \n\n         10_metre_v_wind_component  direct_solar_radiation_fc  \\\n0                              NaN                        NaN   \n1                              NaN                        NaN   \n2                              NaN                        NaN   \n3                              NaN                        NaN   \n4                              NaN                        NaN   \n...                            ...                        ...   \n2018347                   -2.40581                   0.010794   \n2018348                   -2.40581                   0.010794   \n2018349                   -2.40581                   0.010794   \n2018350                   -2.40581                   0.010794   \n2018351                   -2.40581                   0.010794   \n\n         surface_solar_radiation_downwards  snowfall_fc  total_precipitation  \n0                                      NaN          NaN                  NaN  \n1                                      NaN          NaN                  NaN  \n2                                      NaN          NaN                  NaN  \n3                                      NaN          NaN                  NaN  \n4                                      NaN          NaN                  NaN  \n...                                    ...          ...                  ...  \n2018347                                0.0          0.0                  0.0  \n2018348                                0.0          0.0                  0.0  \n2018349                                0.0          0.0                  0.0  \n2018350                                0.0          0.0                  0.0  \n2018351                                0.0          0.0                  0.0  \n\n[2018352 rows x 45 columns]",
      "text/html": "<div>\n<style scoped>\n    .dataframe tbody tr th:only-of-type {\n        vertical-align: middle;\n    }\n\n    .dataframe tbody tr th {\n        vertical-align: top;\n    }\n\n    .dataframe thead th {\n        text-align: right;\n    }\n</style>\n<table border=\"1\" class=\"dataframe\">\n  <thead>\n    <tr style=\"text-align: right;\">\n      <th></th>\n      <th>county</th>\n      <th>is_business</th>\n      <th>product_type</th>\n      <th>target</th>\n      <th>is_consumption</th>\n      <th>datetime</th>\n      <th>data_block_id</th>\n      <th>row_id</th>\n      <th>prediction_unit_id</th>\n      <th>forecast_date</th>\n      <th>...</th>\n      <th>cloudcover_high_fc</th>\n      <th>cloudcover_low_fc</th>\n      <th>cloudcover_mid_fc</th>\n      <th>cloudcover_total_fc</th>\n      <th>10_metre_u_wind_component</th>\n      <th>10_metre_v_wind_component</th>\n      <th>direct_solar_radiation_fc</th>\n      <th>surface_solar_radiation_downwards</th>\n      <th>snowfall_fc</th>\n      <th>total_precipitation</th>\n    </tr>\n  </thead>\n  <tbody>\n    <tr>\n      <th>0</th>\n      <td>0</td>\n      <td>0</td>\n      <td>1</td>\n      <td>0.713</td>\n      <td>0</td>\n      <td>2021-09-01 00:00:00</td>\n      <td>0</td>\n      <td>0</td>\n      <td>0</td>\n      <td>2021-09-01 00:00:00</td>\n      <td>...</td>\n      <td>NaN</td>\n      <td>NaN</td>\n      <td>NaN</td>\n      <td>NaN</td>\n      <td>NaN</td>\n      <td>NaN</td>\n      <td>NaN</td>\n      <td>NaN</td>\n      <td>NaN</td>\n      <td>NaN</td>\n    </tr>\n    <tr>\n      <th>1</th>\n      <td>0</td>\n      <td>0</td>\n      <td>1</td>\n      <td>96.590</td>\n      <td>1</td>\n      <td>2021-09-01 00:00:00</td>\n      <td>0</td>\n      <td>1</td>\n      <td>0</td>\n      <td>2021-09-01 00:00:00</td>\n      <td>...</td>\n      <td>NaN</td>\n      <td>NaN</td>\n      <td>NaN</td>\n      <td>NaN</td>\n      <td>NaN</td>\n      <td>NaN</td>\n      <td>NaN</td>\n      <td>NaN</td>\n      <td>NaN</td>\n      <td>NaN</td>\n    </tr>\n    <tr>\n      <th>2</th>\n      <td>0</td>\n      <td>0</td>\n      <td>2</td>\n      <td>0.000</td>\n      <td>0</td>\n      <td>2021-09-01 00:00:00</td>\n      <td>0</td>\n      <td>2</td>\n      <td>1</td>\n      <td>2021-09-01 00:00:00</td>\n      <td>...</td>\n      <td>NaN</td>\n      <td>NaN</td>\n      <td>NaN</td>\n      <td>NaN</td>\n      <td>NaN</td>\n      <td>NaN</td>\n      <td>NaN</td>\n      <td>NaN</td>\n      <td>NaN</td>\n      <td>NaN</td>\n    </tr>\n    <tr>\n      <th>3</th>\n      <td>0</td>\n      <td>0</td>\n      <td>2</td>\n      <td>17.314</td>\n      <td>1</td>\n      <td>2021-09-01 00:00:00</td>\n      <td>0</td>\n      <td>3</td>\n      <td>1</td>\n      <td>2021-09-01 00:00:00</td>\n      <td>...</td>\n      <td>NaN</td>\n      <td>NaN</td>\n      <td>NaN</td>\n      <td>NaN</td>\n      <td>NaN</td>\n      <td>NaN</td>\n      <td>NaN</td>\n      <td>NaN</td>\n      <td>NaN</td>\n      <td>NaN</td>\n    </tr>\n    <tr>\n      <th>4</th>\n      <td>0</td>\n      <td>0</td>\n      <td>3</td>\n      <td>2.904</td>\n      <td>0</td>\n      <td>2021-09-01 00:00:00</td>\n      <td>0</td>\n      <td>4</td>\n      <td>2</td>\n      <td>2021-09-01 00:00:00</td>\n      <td>...</td>\n      <td>NaN</td>\n      <td>NaN</td>\n      <td>NaN</td>\n      <td>NaN</td>\n      <td>NaN</td>\n      <td>NaN</td>\n      <td>NaN</td>\n      <td>NaN</td>\n      <td>NaN</td>\n      <td>NaN</td>\n    </tr>\n    <tr>\n      <th>...</th>\n      <td>...</td>\n      <td>...</td>\n      <td>...</td>\n      <td>...</td>\n      <td>...</td>\n      <td>...</td>\n      <td>...</td>\n      <td>...</td>\n      <td>...</td>\n      <td>...</td>\n      <td>...</td>\n      <td>...</td>\n      <td>...</td>\n      <td>...</td>\n      <td>...</td>\n      <td>...</td>\n      <td>...</td>\n      <td>...</td>\n      <td>...</td>\n      <td>...</td>\n      <td>...</td>\n    </tr>\n    <tr>\n      <th>2018347</th>\n      <td>15</td>\n      <td>1</td>\n      <td>0</td>\n      <td>197.233</td>\n      <td>1</td>\n      <td>2023-05-31 23:00:00</td>\n      <td>637</td>\n      <td>2018347</td>\n      <td>64</td>\n      <td>2023-05-31 23:00:00</td>\n      <td>...</td>\n      <td>0.50497</td>\n      <td>0.016986</td>\n      <td>0.031082</td>\n      <td>0.526855</td>\n      <td>4.432824</td>\n      <td>-2.40581</td>\n      <td>0.010794</td>\n      <td>0.0</td>\n      <td>0.0</td>\n      <td>0.0</td>\n    </tr>\n    <tr>\n      <th>2018348</th>\n      <td>15</td>\n      <td>1</td>\n      <td>1</td>\n      <td>0.000</td>\n      <td>0</td>\n      <td>2023-05-31 23:00:00</td>\n      <td>637</td>\n      <td>2018348</td>\n      <td>59</td>\n      <td>2023-05-31 23:00:00</td>\n      <td>...</td>\n      <td>0.50497</td>\n      <td>0.016986</td>\n      <td>0.031082</td>\n      <td>0.526855</td>\n      <td>4.432824</td>\n      <td>-2.40581</td>\n      <td>0.010794</td>\n      <td>0.0</td>\n      <td>0.0</td>\n      <td>0.0</td>\n    </tr>\n    <tr>\n      <th>2018349</th>\n      <td>15</td>\n      <td>1</td>\n      <td>1</td>\n      <td>28.404</td>\n      <td>1</td>\n      <td>2023-05-31 23:00:00</td>\n      <td>637</td>\n      <td>2018349</td>\n      <td>59</td>\n      <td>2023-05-31 23:00:00</td>\n      <td>...</td>\n      <td>0.50497</td>\n      <td>0.016986</td>\n      <td>0.031082</td>\n      <td>0.526855</td>\n      <td>4.432824</td>\n      <td>-2.40581</td>\n      <td>0.010794</td>\n      <td>0.0</td>\n      <td>0.0</td>\n      <td>0.0</td>\n    </tr>\n    <tr>\n      <th>2018350</th>\n      <td>15</td>\n      <td>1</td>\n      <td>3</td>\n      <td>0.000</td>\n      <td>0</td>\n      <td>2023-05-31 23:00:00</td>\n      <td>637</td>\n      <td>2018350</td>\n      <td>60</td>\n      <td>2023-05-31 23:00:00</td>\n      <td>...</td>\n      <td>0.50497</td>\n      <td>0.016986</td>\n      <td>0.031082</td>\n      <td>0.526855</td>\n      <td>4.432824</td>\n      <td>-2.40581</td>\n      <td>0.010794</td>\n      <td>0.0</td>\n      <td>0.0</td>\n      <td>0.0</td>\n    </tr>\n    <tr>\n      <th>2018351</th>\n      <td>15</td>\n      <td>1</td>\n      <td>3</td>\n      <td>196.240</td>\n      <td>1</td>\n      <td>2023-05-31 23:00:00</td>\n      <td>637</td>\n      <td>2018351</td>\n      <td>60</td>\n      <td>2023-05-31 23:00:00</td>\n      <td>...</td>\n      <td>0.50497</td>\n      <td>0.016986</td>\n      <td>0.031082</td>\n      <td>0.526855</td>\n      <td>4.432824</td>\n      <td>-2.40581</td>\n      <td>0.010794</td>\n      <td>0.0</td>\n      <td>0.0</td>\n      <td>0.0</td>\n    </tr>\n  </tbody>\n</table>\n<p>2018352 rows × 45 columns</p>\n</div>"
     },
     "execution_count": 67,
     "metadata": {},
     "output_type": "execute_result"
    }
   ],
   "source": [
    "# Historical weather\n",
    "df_historical_weather = pd.read_csv(\"./raw_data/historical_weather.csv\")\n",
    "df_historical_weather_grouped = df_historical_weather.groupby([\"datetime\"]).mean()\n",
    "\n",
    "df_historical_weather_grouped.drop(columns=[\"longitude\", \"latitude\", \"data_block_id\"], inplace=True)\n",
    "\n",
    "df_train = df_train.merge(df_historical_weather_grouped, how=\"left\", on=\"datetime\")\n",
    "\n",
    "# Forecast weather\n",
    "df_forecast_weather = pd.read_csv(\"./raw_data/forecast_weather.csv\")\n",
    "df_forecast_weather.drop(columns=[\"origin_datetime\", \"longitude\", \"latitude\", \"data_block_id\"], inplace=True)\n",
    "df_forecast_weather.rename(columns={\"forecast_datetime\": \"datetime\"}, inplace=True)\n",
    "df_forecast_weather_grouped = df_forecast_weather.groupby([\"datetime\"]).mean()\n",
    "df_train = df_train.merge(df_forecast_weather_grouped, how=\"left\", on=\"datetime\", suffixes=('', '_fc'))\n",
    "df_train"
   ],
   "metadata": {
    "collapsed": false,
    "ExecuteTime": {
     "end_time": "2023-12-21T14:44:10.804032300Z",
     "start_time": "2023-12-21T14:43:55.117992600Z"
    }
   }
  },
  {
   "cell_type": "markdown",
   "source": [
    "### Split datetime in multiple columns\n",
    "Split into 4 columns the datetime (year, month, day, hour)"
   ],
   "metadata": {
    "collapsed": false
   }
  },
  {
   "cell_type": "code",
   "execution_count": 68,
   "outputs": [],
   "source": [
    "import numpy as np\n",
    "\n",
    "df_train[\"hour\"] = pd.to_datetime(df_train[\"datetime\"]).dt.hour\n",
    "df_train['sin_hour'] = np.sin(2 * np.pi * (df_train['hour'] / max(df_train['hour'])))\n",
    "df_train['cos_hour'] = np.cos(2 * np.pi * (df_train['hour'] / max(df_train['hour'])))\n",
    "\n",
    "df_train[\"day\"] = pd.to_datetime(df_train[\"datetime\"]).dt.day\n",
    "df_train['sin_day'] = np.sin(2 * np.pi * (df_train['day'] / max(df_train['day'])))\n",
    "df_train['cos_day'] = np.cos(2 * np.pi * (df_train['day'] / max(df_train['day'])))\n",
    "\n",
    "df_train[\"month\"] = pd.to_datetime(df_train[\"datetime\"]).dt.month\n",
    "df_train['sin_month'] = np.sin(2 * np.pi * (df_train['month'] / max(df_train['month'])))\n",
    "df_train['cos_month'] = np.cos(2 * np.pi * (df_train['month'] / max(df_train['month'])))\n",
    "\n",
    "df_train[\"year\"] = pd.to_datetime(df_train[\"datetime\"]).dt.year\n",
    "\n",
    "df_train.drop(columns=[\"datetime\", \"simplified_date\", \"row_id\", \"forecast_date\", \"month\", \"day\", \"hour\"], inplace=True)"
   ],
   "metadata": {
    "collapsed": false,
    "ExecuteTime": {
     "end_time": "2023-12-21T14:44:13.547305300Z",
     "start_time": "2023-12-21T14:44:10.859397800Z"
    }
   }
  },
  {
   "cell_type": "code",
   "execution_count": 69,
   "outputs": [],
   "source": [
    "df_train.to_csv(\"./formated_data/train.csv\",index=False)"
   ],
   "metadata": {
    "collapsed": false,
    "ExecuteTime": {
     "end_time": "2023-12-21T14:45:31.833993900Z",
     "start_time": "2023-12-21T14:44:13.550427100Z"
    }
   }
  }
 ],
 "metadata": {
  "kernelspec": {
   "display_name": "syllabus_to_kg",
   "language": "python",
   "name": "python3"
  },
  "language_info": {
   "codemirror_mode": {
    "name": "ipython",
    "version": 3
   },
   "file_extension": ".py",
   "mimetype": "text/x-python",
   "name": "python",
   "nbconvert_exporter": "python",
   "pygments_lexer": "ipython3",
   "version": "3.11.4"
  }
 },
 "nbformat": 4,
 "nbformat_minor": 2
}
