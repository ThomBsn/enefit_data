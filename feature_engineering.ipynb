{
 "cells": [
  {
   "cell_type": "code",
   "execution_count": 8,
   "metadata": {
    "ExecuteTime": {
     "end_time": "2023-12-20T09:06:48.508625900Z",
     "start_time": "2023-12-20T09:06:48.475421300Z"
    }
   },
   "outputs": [],
   "source": [
    "import pandas as pd"
   ]
  },
  {
   "cell_type": "markdown",
   "source": [
    "# Import data"
   ],
   "metadata": {
    "collapsed": false
   }
  },
  {
   "cell_type": "code",
   "execution_count": 9,
   "metadata": {
    "ExecuteTime": {
     "end_time": "2023-12-20T09:06:48.587244600Z",
     "start_time": "2023-12-20T09:06:48.511802400Z"
    }
   },
   "outputs": [],
   "source": [
    "df_client=pd.read_csv(\"./raw_data/client.csv\")\n",
    "df_electricity=pd.read_csv(\"./raw_data/electricity_prices.csv\")\n",
    "df_gas=pd.read_csv(\"./raw_data/gas_prices.csv\")"
   ]
  },
  {
   "cell_type": "markdown",
   "source": [
    "# Changing data format"
   ],
   "metadata": {
    "collapsed": false
   }
  },
  {
   "cell_type": "markdown",
   "source": [
    "### Manipulating dates\n",
    "Check the number of unique values for the date column in the electricity\n",
    "By checking only the unique dates, it will reduce the number of calculation when we will compare the date between the electricity df and the train df"
   ],
   "metadata": {
    "collapsed": false
   }
  },
  {
   "cell_type": "code",
   "execution_count": 10,
   "metadata": {
    "ExecuteTime": {
     "end_time": "2023-12-20T09:06:48.613073600Z",
     "start_time": "2023-12-20T09:06:48.590484400Z"
    }
   },
   "outputs": [
    {
     "name": "stdout",
     "output_type": "stream",
     "text": [
      "Number of unique values in elec : 15286\n",
      "Number of unique values in gas : 637\n"
     ]
    }
   ],
   "source": [
    "print(\"Number of unique values in elec :\", df_electricity[\"origin_date\"].nunique())\n",
    "print(\"Number of unique values in gas :\", df_gas[\"origin_date\"].nunique())"
   ]
  },
  {
   "cell_type": "code",
   "execution_count": 11,
   "metadata": {
    "ExecuteTime": {
     "end_time": "2023-12-20T09:06:48.656003200Z",
     "start_time": "2023-12-20T09:06:48.608781400Z"
    }
   },
   "outputs": [],
   "source": [
    "# # Creating a new column \"date\" with the French formated date \n",
    "# # For elec\n",
    "# df_electricity[\"date\"] = pd.to_datetime(df_electricity[\"forecast_date\"])\n",
    "# df_electricity[\"date\"] = df_electricity[\"date\"].apply(lambda x : x.strftime(\"%y-%m-%d\"))\n",
    "# print(df_electricity[\"date\"])\n",
    "# \n",
    "# # For gases\n",
    "# df_gas[\"date\"] = pd.to_datetime(df_gas[\"forecast_date\"])\n",
    "# df_gas[\"date\"] = df_gas[\"date\"].apply(lambda x : x.strftime(\"%y-%m-%d\"))\n",
    "# print(df_gas[\"date\"])"
   ]
  },
  {
   "cell_type": "markdown",
   "metadata": {},
   "source": [
    "# Feature Engineering"
   ]
  },
  {
   "cell_type": "markdown",
   "source": [
    "### Adding prices in df_train\n",
    "First of all we can see that the dataframe for the gas, do not use the same date format than the electricity and the train dataframes date format.\n",
    "So we will be able to merge the info from the electricity dataframe, based on the datetime from the train dataframe.\n",
    "But for the gas dataframe, we will need to add a formated column in train df. A column with the same format as the date in the gas df. We keep the date, we just remove the time.\n",
    "After this manipulation, we can merge the gas prices too."
   ],
   "metadata": {
    "collapsed": false
   }
  },
  {
   "cell_type": "code",
   "execution_count": 21,
   "outputs": [
    {
     "data": {
      "text/plain": "      county  is_business  product_type   target  is_consumption  \\\n0         14            1             3  180.511               0   \n1          7            0             1   43.490               1   \n2         10            0             1    1.823               0   \n3          9            1             1   61.196               1   \n4          1            0             3  214.931               0   \n...      ...          ...           ...      ...             ...   \n9995       5            1             1  168.353               0   \n9996       5            1             0   40.860               1   \n9997       9            0             1   22.459               1   \n9998       2            1             1   37.480               1   \n9999      10            1             3  832.065               1   \n\n                 datetime  data_block_id   row_id  prediction_unit_id  \\\n0     2021-09-17 15:00:00             16    48790                  56   \n1     2021-10-22 20:00:00             51   153919                  25   \n2     2021-11-09 15:00:00             69   207746                  38   \n3     2022-01-02 19:00:00            123   371717                  36   \n4     2022-05-10 09:00:00            251   778486                   7   \n...                   ...            ...      ...                 ...   \n9995  2023-04-15 10:00:00            591  1870136                  22   \n9996  2022-07-23 03:00:00            325  1014639                  21   \n9997  2022-09-03 16:00:00            367  1149565                  34   \n9998  2022-08-08 06:00:00            341  1065697                  65   \n9999  2021-11-20 13:00:00             80   240765                  42   \n\n      euros_per_mwh  lowest_price_per_mwh  highest_price_per_mwh  \n0            110.09                 47.09                  48.62  \n1            154.89                 67.01                  68.78  \n2             65.09                 65.00                  75.99  \n3            117.64                 75.00                  90.00  \n4            183.91                 98.00                 104.12  \n...             ...                   ...                    ...  \n9995          70.36                 46.50                  60.00  \n9996         145.66                159.74                 200.00  \n9997         204.12                219.99                 235.98  \n9998         382.92                184.00                 207.00  \n9999         116.12                 80.00                  85.00  \n\n[10000 rows x 12 columns]",
      "text/html": "<div>\n<style scoped>\n    .dataframe tbody tr th:only-of-type {\n        vertical-align: middle;\n    }\n\n    .dataframe tbody tr th {\n        vertical-align: top;\n    }\n\n    .dataframe thead th {\n        text-align: right;\n    }\n</style>\n<table border=\"1\" class=\"dataframe\">\n  <thead>\n    <tr style=\"text-align: right;\">\n      <th></th>\n      <th>county</th>\n      <th>is_business</th>\n      <th>product_type</th>\n      <th>target</th>\n      <th>is_consumption</th>\n      <th>datetime</th>\n      <th>data_block_id</th>\n      <th>row_id</th>\n      <th>prediction_unit_id</th>\n      <th>euros_per_mwh</th>\n      <th>lowest_price_per_mwh</th>\n      <th>highest_price_per_mwh</th>\n    </tr>\n  </thead>\n  <tbody>\n    <tr>\n      <th>0</th>\n      <td>14</td>\n      <td>1</td>\n      <td>3</td>\n      <td>180.511</td>\n      <td>0</td>\n      <td>2021-09-17 15:00:00</td>\n      <td>16</td>\n      <td>48790</td>\n      <td>56</td>\n      <td>110.09</td>\n      <td>47.09</td>\n      <td>48.62</td>\n    </tr>\n    <tr>\n      <th>1</th>\n      <td>7</td>\n      <td>0</td>\n      <td>1</td>\n      <td>43.490</td>\n      <td>1</td>\n      <td>2021-10-22 20:00:00</td>\n      <td>51</td>\n      <td>153919</td>\n      <td>25</td>\n      <td>154.89</td>\n      <td>67.01</td>\n      <td>68.78</td>\n    </tr>\n    <tr>\n      <th>2</th>\n      <td>10</td>\n      <td>0</td>\n      <td>1</td>\n      <td>1.823</td>\n      <td>0</td>\n      <td>2021-11-09 15:00:00</td>\n      <td>69</td>\n      <td>207746</td>\n      <td>38</td>\n      <td>65.09</td>\n      <td>65.00</td>\n      <td>75.99</td>\n    </tr>\n    <tr>\n      <th>3</th>\n      <td>9</td>\n      <td>1</td>\n      <td>1</td>\n      <td>61.196</td>\n      <td>1</td>\n      <td>2022-01-02 19:00:00</td>\n      <td>123</td>\n      <td>371717</td>\n      <td>36</td>\n      <td>117.64</td>\n      <td>75.00</td>\n      <td>90.00</td>\n    </tr>\n    <tr>\n      <th>4</th>\n      <td>1</td>\n      <td>0</td>\n      <td>3</td>\n      <td>214.931</td>\n      <td>0</td>\n      <td>2022-05-10 09:00:00</td>\n      <td>251</td>\n      <td>778486</td>\n      <td>7</td>\n      <td>183.91</td>\n      <td>98.00</td>\n      <td>104.12</td>\n    </tr>\n    <tr>\n      <th>...</th>\n      <td>...</td>\n      <td>...</td>\n      <td>...</td>\n      <td>...</td>\n      <td>...</td>\n      <td>...</td>\n      <td>...</td>\n      <td>...</td>\n      <td>...</td>\n      <td>...</td>\n      <td>...</td>\n      <td>...</td>\n    </tr>\n    <tr>\n      <th>9995</th>\n      <td>5</td>\n      <td>1</td>\n      <td>1</td>\n      <td>168.353</td>\n      <td>0</td>\n      <td>2023-04-15 10:00:00</td>\n      <td>591</td>\n      <td>1870136</td>\n      <td>22</td>\n      <td>70.36</td>\n      <td>46.50</td>\n      <td>60.00</td>\n    </tr>\n    <tr>\n      <th>9996</th>\n      <td>5</td>\n      <td>1</td>\n      <td>0</td>\n      <td>40.860</td>\n      <td>1</td>\n      <td>2022-07-23 03:00:00</td>\n      <td>325</td>\n      <td>1014639</td>\n      <td>21</td>\n      <td>145.66</td>\n      <td>159.74</td>\n      <td>200.00</td>\n    </tr>\n    <tr>\n      <th>9997</th>\n      <td>9</td>\n      <td>0</td>\n      <td>1</td>\n      <td>22.459</td>\n      <td>1</td>\n      <td>2022-09-03 16:00:00</td>\n      <td>367</td>\n      <td>1149565</td>\n      <td>34</td>\n      <td>204.12</td>\n      <td>219.99</td>\n      <td>235.98</td>\n    </tr>\n    <tr>\n      <th>9998</th>\n      <td>2</td>\n      <td>1</td>\n      <td>1</td>\n      <td>37.480</td>\n      <td>1</td>\n      <td>2022-08-08 06:00:00</td>\n      <td>341</td>\n      <td>1065697</td>\n      <td>65</td>\n      <td>382.92</td>\n      <td>184.00</td>\n      <td>207.00</td>\n    </tr>\n    <tr>\n      <th>9999</th>\n      <td>10</td>\n      <td>1</td>\n      <td>3</td>\n      <td>832.065</td>\n      <td>1</td>\n      <td>2021-11-20 13:00:00</td>\n      <td>80</td>\n      <td>240765</td>\n      <td>42</td>\n      <td>116.12</td>\n      <td>80.00</td>\n      <td>85.00</td>\n    </tr>\n  </tbody>\n</table>\n<p>10000 rows × 12 columns</p>\n</div>"
     },
     "execution_count": 21,
     "metadata": {},
     "output_type": "execute_result"
    }
   ],
   "source": [
    "# Import train data\n",
    "df_train = pd.read_csv(\"./raw_data/train.csv\").sample(10000)\n",
    "\n",
    "## Merge elec prices\n",
    "# Creating a new column based on datetime\n",
    "df_train[\"origin_date\"] = df_train[\"datetime\"]\n",
    "# Selecting the infos we need to merge in the electricity df\n",
    "df_elec_prices = df_electricity.filter(['euros_per_mwh', 'origin_date'], axis=1)\n",
    "# Merging\n",
    "df_train = df_train.merge(df_elec_prices, how=\"left\", on=\"origin_date\")\n",
    "\n",
    "## Merge gas prices\n",
    "# Removing the hours in the origin_date column created above\n",
    "df_train[\"origin_date\"] = df_train[\"origin_date\"].apply(lambda x: pd.to_datetime(x).strftime(\"%Y-%m-%d\"))\n",
    "# Selecting the infos we need to merge in the gas df\n",
    "df_gas_prices = df_gas.filter(['lowest_price_per_mwh', 'highest_price_per_mwh', 'origin_date'])\n",
    "# Merging\n",
    "df_train = df_train.merge(df_gas_prices, how=\"left\", on=\"origin_date\")\n",
    "\n",
    "# Remove the origin_date column (because it's just a compacted version of \"datetime\")\n",
    "df_train.drop(columns=[\"origin_date\"], inplace=True)\n",
    "# df_train.describe()\n",
    "df_train"
   ],
   "metadata": {
    "collapsed": false,
    "ExecuteTime": {
     "end_time": "2023-12-20T09:30:58.620526300Z",
     "start_time": "2023-12-20T09:30:52.023130Z"
    }
   }
  },
  {
   "cell_type": "markdown",
   "source": [
    "## Split datetime in multiple columns\n",
    "Split into 4 columns the datetime (year, month, day, hour)"
   ],
   "metadata": {
    "collapsed": false
   }
  },
  {
   "cell_type": "code",
   "execution_count": 26,
   "outputs": [],
   "source": [
    "df_train[\"year\"] = df_train[\"datetime\"].apply(lambda x : x[0:4])\n",
    "df_train[\"month\"] = df_train[\"datetime\"].apply(lambda x : x[5:7])\n",
    "df_train[\"day\"] = df_train[\"datetime\"].apply(lambda x : x[8:10])\n",
    "df_train[\"hour\"] = df_train[\"datetime\"].apply(lambda x : x[11:13])\n",
    "df_train.drop(columns=\"datetime\", inplace=True)"
   ],
   "metadata": {
    "collapsed": false,
    "ExecuteTime": {
     "end_time": "2023-12-20T09:31:38.703190800Z",
     "start_time": "2023-12-20T09:31:38.675696900Z"
    }
   }
  },
  {
   "cell_type": "code",
   "execution_count": 27,
   "outputs": [],
   "source": [
    "df_train.to_csv(\"./formated_data/train.csv\",index=False)"
   ],
   "metadata": {
    "collapsed": false,
    "ExecuteTime": {
     "end_time": "2023-12-20T09:31:41.257666800Z",
     "start_time": "2023-12-20T09:31:41.180025800Z"
    }
   }
  },
  {
   "cell_type": "code",
   "execution_count": null,
   "outputs": [],
   "source": [],
   "metadata": {
    "collapsed": false
   }
  }
 ],
 "metadata": {
  "kernelspec": {
   "display_name": "syllabus_to_kg",
   "language": "python",
   "name": "python3"
  },
  "language_info": {
   "codemirror_mode": {
    "name": "ipython",
    "version": 3
   },
   "file_extension": ".py",
   "mimetype": "text/x-python",
   "name": "python",
   "nbconvert_exporter": "python",
   "pygments_lexer": "ipython3",
   "version": "3.11.4"
  }
 },
 "nbformat": 4,
 "nbformat_minor": 2
}
