{
 "cells": [
  {
   "cell_type": "code",
   "execution_count": 33,
   "id": "initial_id",
   "metadata": {
    "collapsed": true,
    "ExecuteTime": {
     "end_time": "2023-12-20T10:04:35.618928700Z",
     "start_time": "2023-12-20T10:04:35.584659300Z"
    }
   },
   "outputs": [],
   "source": [
    "import pandas as pd\n",
    "import sklearn\n",
    "import numpy as np"
   ]
  },
  {
   "cell_type": "code",
   "execution_count": 34,
   "outputs": [
    {
     "data": {
      "text/plain": "      county  is_business  product_type   target  is_consumption  \\\n0         14            1             3  180.511               0   \n1          7            0             1   43.490               1   \n2         10            0             1    1.823               0   \n3          9            1             1   61.196               1   \n4          1            0             3  214.931               0   \n...      ...          ...           ...      ...             ...   \n9995       5            1             1  168.353               0   \n9996       5            1             0   40.860               1   \n9997       9            0             1   22.459               1   \n9998       2            1             1   37.480               1   \n9999      10            1             3  832.065               1   \n\n      data_block_id   row_id  prediction_unit_id  euros_per_mwh  \\\n0                16    48790                  56         110.09   \n1                51   153919                  25         154.89   \n2                69   207746                  38          65.09   \n3               123   371717                  36         117.64   \n4               251   778486                   7         183.91   \n...             ...      ...                 ...            ...   \n9995            591  1870136                  22          70.36   \n9996            325  1014639                  21         145.66   \n9997            367  1149565                  34         204.12   \n9998            341  1065697                  65         382.92   \n9999             80   240765                  42         116.12   \n\n      lowest_price_per_mwh  highest_price_per_mwh  year  month  day  hour  \n0                    47.09                  48.62  2021      9   17    15  \n1                    67.01                  68.78  2021     10   22    20  \n2                    65.00                  75.99  2021     11    9    15  \n3                    75.00                  90.00  2022      1    2    19  \n4                    98.00                 104.12  2022      5   10     9  \n...                    ...                    ...   ...    ...  ...   ...  \n9995                 46.50                  60.00  2023      4   15    10  \n9996                159.74                 200.00  2022      7   23     3  \n9997                219.99                 235.98  2022      9    3    16  \n9998                184.00                 207.00  2022      8    8     6  \n9999                 80.00                  85.00  2021     11   20    13  \n\n[10000 rows x 15 columns]",
      "text/html": "<div>\n<style scoped>\n    .dataframe tbody tr th:only-of-type {\n        vertical-align: middle;\n    }\n\n    .dataframe tbody tr th {\n        vertical-align: top;\n    }\n\n    .dataframe thead th {\n        text-align: right;\n    }\n</style>\n<table border=\"1\" class=\"dataframe\">\n  <thead>\n    <tr style=\"text-align: right;\">\n      <th></th>\n      <th>county</th>\n      <th>is_business</th>\n      <th>product_type</th>\n      <th>target</th>\n      <th>is_consumption</th>\n      <th>data_block_id</th>\n      <th>row_id</th>\n      <th>prediction_unit_id</th>\n      <th>euros_per_mwh</th>\n      <th>lowest_price_per_mwh</th>\n      <th>highest_price_per_mwh</th>\n      <th>year</th>\n      <th>month</th>\n      <th>day</th>\n      <th>hour</th>\n    </tr>\n  </thead>\n  <tbody>\n    <tr>\n      <th>0</th>\n      <td>14</td>\n      <td>1</td>\n      <td>3</td>\n      <td>180.511</td>\n      <td>0</td>\n      <td>16</td>\n      <td>48790</td>\n      <td>56</td>\n      <td>110.09</td>\n      <td>47.09</td>\n      <td>48.62</td>\n      <td>2021</td>\n      <td>9</td>\n      <td>17</td>\n      <td>15</td>\n    </tr>\n    <tr>\n      <th>1</th>\n      <td>7</td>\n      <td>0</td>\n      <td>1</td>\n      <td>43.490</td>\n      <td>1</td>\n      <td>51</td>\n      <td>153919</td>\n      <td>25</td>\n      <td>154.89</td>\n      <td>67.01</td>\n      <td>68.78</td>\n      <td>2021</td>\n      <td>10</td>\n      <td>22</td>\n      <td>20</td>\n    </tr>\n    <tr>\n      <th>2</th>\n      <td>10</td>\n      <td>0</td>\n      <td>1</td>\n      <td>1.823</td>\n      <td>0</td>\n      <td>69</td>\n      <td>207746</td>\n      <td>38</td>\n      <td>65.09</td>\n      <td>65.00</td>\n      <td>75.99</td>\n      <td>2021</td>\n      <td>11</td>\n      <td>9</td>\n      <td>15</td>\n    </tr>\n    <tr>\n      <th>3</th>\n      <td>9</td>\n      <td>1</td>\n      <td>1</td>\n      <td>61.196</td>\n      <td>1</td>\n      <td>123</td>\n      <td>371717</td>\n      <td>36</td>\n      <td>117.64</td>\n      <td>75.00</td>\n      <td>90.00</td>\n      <td>2022</td>\n      <td>1</td>\n      <td>2</td>\n      <td>19</td>\n    </tr>\n    <tr>\n      <th>4</th>\n      <td>1</td>\n      <td>0</td>\n      <td>3</td>\n      <td>214.931</td>\n      <td>0</td>\n      <td>251</td>\n      <td>778486</td>\n      <td>7</td>\n      <td>183.91</td>\n      <td>98.00</td>\n      <td>104.12</td>\n      <td>2022</td>\n      <td>5</td>\n      <td>10</td>\n      <td>9</td>\n    </tr>\n    <tr>\n      <th>...</th>\n      <td>...</td>\n      <td>...</td>\n      <td>...</td>\n      <td>...</td>\n      <td>...</td>\n      <td>...</td>\n      <td>...</td>\n      <td>...</td>\n      <td>...</td>\n      <td>...</td>\n      <td>...</td>\n      <td>...</td>\n      <td>...</td>\n      <td>...</td>\n      <td>...</td>\n    </tr>\n    <tr>\n      <th>9995</th>\n      <td>5</td>\n      <td>1</td>\n      <td>1</td>\n      <td>168.353</td>\n      <td>0</td>\n      <td>591</td>\n      <td>1870136</td>\n      <td>22</td>\n      <td>70.36</td>\n      <td>46.50</td>\n      <td>60.00</td>\n      <td>2023</td>\n      <td>4</td>\n      <td>15</td>\n      <td>10</td>\n    </tr>\n    <tr>\n      <th>9996</th>\n      <td>5</td>\n      <td>1</td>\n      <td>0</td>\n      <td>40.860</td>\n      <td>1</td>\n      <td>325</td>\n      <td>1014639</td>\n      <td>21</td>\n      <td>145.66</td>\n      <td>159.74</td>\n      <td>200.00</td>\n      <td>2022</td>\n      <td>7</td>\n      <td>23</td>\n      <td>3</td>\n    </tr>\n    <tr>\n      <th>9997</th>\n      <td>9</td>\n      <td>0</td>\n      <td>1</td>\n      <td>22.459</td>\n      <td>1</td>\n      <td>367</td>\n      <td>1149565</td>\n      <td>34</td>\n      <td>204.12</td>\n      <td>219.99</td>\n      <td>235.98</td>\n      <td>2022</td>\n      <td>9</td>\n      <td>3</td>\n      <td>16</td>\n    </tr>\n    <tr>\n      <th>9998</th>\n      <td>2</td>\n      <td>1</td>\n      <td>1</td>\n      <td>37.480</td>\n      <td>1</td>\n      <td>341</td>\n      <td>1065697</td>\n      <td>65</td>\n      <td>382.92</td>\n      <td>184.00</td>\n      <td>207.00</td>\n      <td>2022</td>\n      <td>8</td>\n      <td>8</td>\n      <td>6</td>\n    </tr>\n    <tr>\n      <th>9999</th>\n      <td>10</td>\n      <td>1</td>\n      <td>3</td>\n      <td>832.065</td>\n      <td>1</td>\n      <td>80</td>\n      <td>240765</td>\n      <td>42</td>\n      <td>116.12</td>\n      <td>80.00</td>\n      <td>85.00</td>\n      <td>2021</td>\n      <td>11</td>\n      <td>20</td>\n      <td>13</td>\n    </tr>\n  </tbody>\n</table>\n<p>10000 rows × 15 columns</p>\n</div>"
     },
     "execution_count": 34,
     "metadata": {},
     "output_type": "execute_result"
    }
   ],
   "source": [
    "df_train = pd.read_csv('./formated_data/train.csv')\n",
    "df_train"
   ],
   "metadata": {
    "collapsed": false,
    "ExecuteTime": {
     "end_time": "2023-12-20T10:04:35.695651Z",
     "start_time": "2023-12-20T10:04:35.622171700Z"
    }
   },
   "id": "53c361fa007fbf20"
  },
  {
   "cell_type": "code",
   "execution_count": 35,
   "outputs": [
    {
     "data": {
      "text/plain": "            county  is_business  product_type        target  is_consumption  \\\ncount  9959.000000  9959.000000   9959.000000   9959.000000     9959.000000   \nmean      7.297821     0.531479      1.901797    278.021151        0.493423   \nstd       4.789720     0.499033      1.079951    925.621791        0.499982   \nmin       0.000000     0.000000      0.000000      0.000000        0.000000   \n25%       3.000000     0.000000      1.000000      0.321000        0.000000   \n50%       7.000000     1.000000      2.000000     30.229000        0.000000   \n75%      11.000000     1.000000      3.000000    181.393000        1.000000   \nmax      15.000000     1.000000      3.000000  14689.333000        1.000000   \n\n       data_block_id        row_id  prediction_unit_id  euros_per_mwh  \\\ncount    9959.000000  9.959000e+03         9959.000000    9959.000000   \nmean      321.181143  1.006912e+06           33.072096     157.869716   \nstd       181.039567  5.776386e+05           19.647415     121.179830   \nmin         0.000000  1.810000e+02            0.000000     -10.060000   \n25%       166.000000  5.042945e+05           16.000000      86.340000   \n50%       322.000000  1.006775e+06           33.000000     130.010000   \n75%       476.000000  1.504046e+06           50.000000     199.970000   \nmax       635.000000  2.011820e+06           68.000000    4000.000000   \n\n       lowest_price_per_mwh  highest_price_per_mwh         year        month  \\\ncount           9959.000000            9959.000000  9959.000000  9959.000000   \nmean              95.730117             108.653294  2022.054222     6.441811   \nstd               47.066367              54.167743     0.640778     3.690448   \nmin               28.100000              34.000000  2021.000000     1.000000   \n25%               61.750000              67.760000  2022.000000     3.000000   \n50%               86.000000              94.000000  2022.000000     6.000000   \n75%              110.000000             133.000000  2022.000000    10.000000   \nmax              250.000000             305.000000  2023.000000    12.000000   \n\n               day         hour  \ncount  9959.000000  9959.000000  \nmean     15.604780    11.583593  \nstd       8.749616     6.911719  \nmin       1.000000     0.000000  \n25%       8.000000     6.000000  \n50%      16.000000    12.000000  \n75%      23.000000    18.000000  \nmax      31.000000    23.000000  ",
      "text/html": "<div>\n<style scoped>\n    .dataframe tbody tr th:only-of-type {\n        vertical-align: middle;\n    }\n\n    .dataframe tbody tr th {\n        vertical-align: top;\n    }\n\n    .dataframe thead th {\n        text-align: right;\n    }\n</style>\n<table border=\"1\" class=\"dataframe\">\n  <thead>\n    <tr style=\"text-align: right;\">\n      <th></th>\n      <th>county</th>\n      <th>is_business</th>\n      <th>product_type</th>\n      <th>target</th>\n      <th>is_consumption</th>\n      <th>data_block_id</th>\n      <th>row_id</th>\n      <th>prediction_unit_id</th>\n      <th>euros_per_mwh</th>\n      <th>lowest_price_per_mwh</th>\n      <th>highest_price_per_mwh</th>\n      <th>year</th>\n      <th>month</th>\n      <th>day</th>\n      <th>hour</th>\n    </tr>\n  </thead>\n  <tbody>\n    <tr>\n      <th>count</th>\n      <td>9959.000000</td>\n      <td>9959.000000</td>\n      <td>9959.000000</td>\n      <td>9959.000000</td>\n      <td>9959.000000</td>\n      <td>9959.000000</td>\n      <td>9.959000e+03</td>\n      <td>9959.000000</td>\n      <td>9959.000000</td>\n      <td>9959.000000</td>\n      <td>9959.000000</td>\n      <td>9959.000000</td>\n      <td>9959.000000</td>\n      <td>9959.000000</td>\n      <td>9959.000000</td>\n    </tr>\n    <tr>\n      <th>mean</th>\n      <td>7.297821</td>\n      <td>0.531479</td>\n      <td>1.901797</td>\n      <td>278.021151</td>\n      <td>0.493423</td>\n      <td>321.181143</td>\n      <td>1.006912e+06</td>\n      <td>33.072096</td>\n      <td>157.869716</td>\n      <td>95.730117</td>\n      <td>108.653294</td>\n      <td>2022.054222</td>\n      <td>6.441811</td>\n      <td>15.604780</td>\n      <td>11.583593</td>\n    </tr>\n    <tr>\n      <th>std</th>\n      <td>4.789720</td>\n      <td>0.499033</td>\n      <td>1.079951</td>\n      <td>925.621791</td>\n      <td>0.499982</td>\n      <td>181.039567</td>\n      <td>5.776386e+05</td>\n      <td>19.647415</td>\n      <td>121.179830</td>\n      <td>47.066367</td>\n      <td>54.167743</td>\n      <td>0.640778</td>\n      <td>3.690448</td>\n      <td>8.749616</td>\n      <td>6.911719</td>\n    </tr>\n    <tr>\n      <th>min</th>\n      <td>0.000000</td>\n      <td>0.000000</td>\n      <td>0.000000</td>\n      <td>0.000000</td>\n      <td>0.000000</td>\n      <td>0.000000</td>\n      <td>1.810000e+02</td>\n      <td>0.000000</td>\n      <td>-10.060000</td>\n      <td>28.100000</td>\n      <td>34.000000</td>\n      <td>2021.000000</td>\n      <td>1.000000</td>\n      <td>1.000000</td>\n      <td>0.000000</td>\n    </tr>\n    <tr>\n      <th>25%</th>\n      <td>3.000000</td>\n      <td>0.000000</td>\n      <td>1.000000</td>\n      <td>0.321000</td>\n      <td>0.000000</td>\n      <td>166.000000</td>\n      <td>5.042945e+05</td>\n      <td>16.000000</td>\n      <td>86.340000</td>\n      <td>61.750000</td>\n      <td>67.760000</td>\n      <td>2022.000000</td>\n      <td>3.000000</td>\n      <td>8.000000</td>\n      <td>6.000000</td>\n    </tr>\n    <tr>\n      <th>50%</th>\n      <td>7.000000</td>\n      <td>1.000000</td>\n      <td>2.000000</td>\n      <td>30.229000</td>\n      <td>0.000000</td>\n      <td>322.000000</td>\n      <td>1.006775e+06</td>\n      <td>33.000000</td>\n      <td>130.010000</td>\n      <td>86.000000</td>\n      <td>94.000000</td>\n      <td>2022.000000</td>\n      <td>6.000000</td>\n      <td>16.000000</td>\n      <td>12.000000</td>\n    </tr>\n    <tr>\n      <th>75%</th>\n      <td>11.000000</td>\n      <td>1.000000</td>\n      <td>3.000000</td>\n      <td>181.393000</td>\n      <td>1.000000</td>\n      <td>476.000000</td>\n      <td>1.504046e+06</td>\n      <td>50.000000</td>\n      <td>199.970000</td>\n      <td>110.000000</td>\n      <td>133.000000</td>\n      <td>2022.000000</td>\n      <td>10.000000</td>\n      <td>23.000000</td>\n      <td>18.000000</td>\n    </tr>\n    <tr>\n      <th>max</th>\n      <td>15.000000</td>\n      <td>1.000000</td>\n      <td>3.000000</td>\n      <td>14689.333000</td>\n      <td>1.000000</td>\n      <td>635.000000</td>\n      <td>2.011820e+06</td>\n      <td>68.000000</td>\n      <td>4000.000000</td>\n      <td>250.000000</td>\n      <td>305.000000</td>\n      <td>2023.000000</td>\n      <td>12.000000</td>\n      <td>31.000000</td>\n      <td>23.000000</td>\n    </tr>\n  </tbody>\n</table>\n</div>"
     },
     "execution_count": 35,
     "metadata": {},
     "output_type": "execute_result"
    }
   ],
   "source": [
    " # Drop \n",
    "df_train = df_train[df_train['target'].isna() == False]\n",
    "df_train = df_train[df_train['euros_per_mwh'].isna() == False]\n",
    "df_train = df_train[df_train['lowest_price_per_mwh'].isna() == False]\n",
    "df_train = df_train[df_train['highest_price_per_mwh'].isna() == False]\n",
    "df_train.describe()"
   ],
   "metadata": {
    "collapsed": false,
    "ExecuteTime": {
     "end_time": "2023-12-20T10:04:35.739995700Z",
     "start_time": "2023-12-20T10:04:35.662552Z"
    }
   },
   "id": "38d6c5f16c102e1c"
  },
  {
   "cell_type": "markdown",
   "source": [
    "# Train - Test"
   ],
   "metadata": {
    "collapsed": false
   },
   "id": "71c48ddf6b5c56d2"
  },
  {
   "cell_type": "code",
   "execution_count": 65,
   "outputs": [],
   "source": [
    "from sklearn.model_selection import train_test_split\n",
    "X = df_train.drop('target', axis=1)\n",
    "y = df_train['target']\n",
    "\n",
    "def spliting_dataset(test_ratio=0.2, random_state_nb=42):\n",
    "    X_train, X_test, y_train, y_test = train_test_split(X, y, test_size=test_ratio, random_state=random_state_nb)\n",
    "    return X_train, X_test, y_train, y_test\n",
    "X_train, X_test, y_train, y_test = spliting_dataset()"
   ],
   "metadata": {
    "collapsed": false,
    "ExecuteTime": {
     "end_time": "2023-12-20T10:34:43.145937800Z",
     "start_time": "2023-12-20T10:34:43.105526900Z"
    }
   },
   "id": "682b5c29c7730b0a"
  },
  {
   "cell_type": "markdown",
   "source": [
    "# Modelisation"
   ],
   "metadata": {
    "collapsed": false
   },
   "id": "dfb9b85292256e4a"
  },
  {
   "cell_type": "markdown",
   "source": [
    "## Evaluation\n",
    "Creating a function to test all the errors on each model, just by calling this function."
   ],
   "metadata": {
    "collapsed": false
   },
   "id": "91a674861f481524"
  },
  {
   "cell_type": "code",
   "execution_count": 69,
   "outputs": [],
   "source": [
    "from sklearn.metrics import mean_squared_error, mean_absolute_percentage_error, mean_absolute_error, r2_score\n",
    "\n",
    "def getMAE(model, X_test, y_test):\n",
    "    mae = mean_absolute_error(y_test, model.predict(X_test))\n",
    "    return round(mae, 4)\n",
    "\n",
    "def model_evaluation(model_trained, test_evaluation=False):\n",
    "    if test_evaluation:\n",
    "        temp_y_pred = model_trained.predict(X_test)\n",
    "    else:\n",
    "        temp_y_pred = model_trained.predict(X_train)\n",
    "    \n",
    "    y_data = y_test if test_evaluation else y_train\n",
    "    \n",
    "    print(\"######## Test evaluation\") if test_evaluation else print(\"######## Train evaluation\")\n",
    "    print(f'R2 score: {round(r2_score(y_data, temp_y_pred), 4)} (aiming 1.0)')\n",
    "    print(f\"Mean absolute error : {round(mean_absolute_error(y_data, temp_y_pred), 4)} (aiming 0)\")\n",
    "    print(f\"Mean squared error : {round(mean_squared_error(y_data, temp_y_pred), 4)} (aiming 0)\")\n",
    "    # print(f\"Mean absolute percentage error : {mean_absolute_percentage_error(y_data, temp_y_pred)}\\n\")"
   ],
   "metadata": {
    "collapsed": false,
    "ExecuteTime": {
     "end_time": "2023-12-20T10:47:41.197462700Z",
     "start_time": "2023-12-20T10:47:41.171529Z"
    }
   },
   "id": "cef528cbd5cfc1c9"
  },
  {
   "cell_type": "markdown",
   "source": [
    "## Dummy\n",
    "Creating a dummy regressor to compare our model with this dummy one. \n",
    "And see if the actual model is worth using or no any better than a dummy one"
   ],
   "metadata": {
    "collapsed": false
   },
   "id": "13c2317b9c1c9075"
  },
  {
   "cell_type": "code",
   "execution_count": 85,
   "outputs": [
    {
     "name": "stdout",
     "output_type": "stream",
     "text": [
      "######## Train evaluation\n",
      "R2 score: 0.0 (aiming 1.0)\n",
      "Mean absolute error : 363.0738 (aiming 0)\n",
      "Mean squared error : 803800.2244 (aiming 0)\n",
      "######## Test evaluation\n",
      "R2 score: -0.0004 (aiming 1.0)\n",
      "Mean absolute error : 382.708 (aiming 0)\n",
      "Mean squared error : 936167.1861 (aiming 0)\n"
     ]
    }
   ],
   "source": [
    "from sklearn.dummy import DummyRegressor\n",
    "# Model training\n",
    "dummy = DummyRegressor().fit(X_train, y_train)\n",
    "better_dummy_mae = getMAE(dummy, X_test, y_test)\n",
    "\n",
    "# Evaluating model\n",
    "model_evaluation(dummy)\n",
    "model_evaluation(dummy, True)"
   ],
   "metadata": {
    "collapsed": false,
    "ExecuteTime": {
     "end_time": "2023-12-20T11:19:32.405748Z",
     "start_time": "2023-12-20T11:19:32.376827700Z"
    }
   },
   "id": "952b5b869092a048"
  },
  {
   "cell_type": "markdown",
   "source": [
    "## LinearRegression"
   ],
   "metadata": {
    "collapsed": false
   },
   "id": "731f885cade9a6d9"
  },
  {
   "cell_type": "code",
   "execution_count": 78,
   "outputs": [
    {
     "name": "stdout",
     "output_type": "stream",
     "text": [
      "######## Train evaluation\n",
      "R2 score: 0.1282 (aiming 1.0)\n",
      "Mean absolute error : 361.6494 (aiming 0)\n",
      "Mean squared error : 700717.1737 (aiming 0)\n",
      "######## Test evaluation\n",
      "R2 score: 0.1193 (aiming 1.0)\n",
      "Mean absolute error : 380.7231 (aiming 0)\n",
      "Mean squared error : 824121.1177 (aiming 0)\n"
     ]
    }
   ],
   "source": [
    "from sklearn.linear_model import LinearRegression\n",
    "# Model training\n",
    "better_reg_model = LinearRegression().fit(X_train, y_train)\n",
    "better_reg_mae = getMAE(better_reg_model, X_test, y_test)\n",
    "for i in range(1, 5):\n",
    "    X_train, X_test, y_train, y_test = spliting_dataset(test_ratio=i/10)\n",
    "    for j in range(1000):\n",
    "        reg = LinearRegression(n_jobs=j).fit(X_train, y_train)\n",
    "        \n",
    "        # Checking if the mean absolute error is better or not\n",
    "        tmp_mae = getMAE(reg, X_test, y_test)\n",
    "        if tmp_mae < better_mae:\n",
    "            better_mae = tmp_mae\n",
    "            better_reg_model = reg\n",
    "\n",
    "# Evaluating model\n",
    "model_evaluation(better_reg_model)\n",
    "model_evaluation(better_reg_model, True)"
   ],
   "metadata": {
    "collapsed": false,
    "ExecuteTime": {
     "end_time": "2023-12-20T10:56:06.926173800Z",
     "start_time": "2023-12-20T10:55:34.510345400Z"
    }
   },
   "id": "c5b30f951f9cd51a"
  },
  {
   "cell_type": "markdown",
   "source": [
    "## Lasso"
   ],
   "metadata": {
    "collapsed": false
   },
   "id": "dcf4cae58117ef25"
  },
  {
   "cell_type": "code",
   "execution_count": 90,
   "outputs": [
    {
     "name": "stderr",
     "output_type": "stream",
     "text": [
      "C:\\Users\\busin\\Documents\\dev\\python\\enefit_data_pycharm\\.venv\\lib\\site-packages\\sklearn\\linear_model\\_coordinate_descent.py:628: ConvergenceWarning: Objective did not converge. You might want to increase the number of iterations, check the scale of the features or consider increasing regularisation. Duality gap: 2.009e+09, tolerance: 4.803e+05\n",
      "  model = cd_fast.enet_coordinate_descent(\n",
      "C:\\Users\\busin\\Documents\\dev\\python\\enefit_data_pycharm\\.venv\\lib\\site-packages\\sklearn\\base.py:1152: UserWarning: With alpha=0, this algorithm does not converge well. You are advised to use the LinearRegression estimator\n",
      "  return fit_method(estimator, *args, **kwargs)\n",
      "C:\\Users\\busin\\Documents\\dev\\python\\enefit_data_pycharm\\.venv\\lib\\site-packages\\sklearn\\linear_model\\_coordinate_descent.py:628: UserWarning: Coordinate descent with no regularization may lead to unexpected results and is discouraged.\n",
      "  model = cd_fast.enet_coordinate_descent(\n",
      "C:\\Users\\busin\\Documents\\dev\\python\\enefit_data_pycharm\\.venv\\lib\\site-packages\\sklearn\\linear_model\\_coordinate_descent.py:628: ConvergenceWarning: Objective did not converge. You might want to increase the number of iterations, check the scale of the features or consider increasing regularisation. Duality gap: 3.133e+09, tolerance: 7.140e+05 Linear regression models with null weight for the l1 regularization term are more efficiently fitted using one of the solvers implemented in sklearn.linear_model.Ridge/RidgeCV instead.\n",
      "  model = cd_fast.enet_coordinate_descent(\n",
      "C:\\Users\\busin\\Documents\\dev\\python\\enefit_data_pycharm\\.venv\\lib\\site-packages\\sklearn\\linear_model\\_coordinate_descent.py:628: ConvergenceWarning: Objective did not converge. You might want to increase the number of iterations, check the scale of the features or consider increasing regularisation. Duality gap: 3.141e+09, tolerance: 7.140e+05\n",
      "  model = cd_fast.enet_coordinate_descent(\n",
      "C:\\Users\\busin\\Documents\\dev\\python\\enefit_data_pycharm\\.venv\\lib\\site-packages\\sklearn\\linear_model\\_coordinate_descent.py:628: ConvergenceWarning: Objective did not converge. You might want to increase the number of iterations, check the scale of the features or consider increasing regularisation. Duality gap: 1.805e+09, tolerance: 7.140e+05\n",
      "  model = cd_fast.enet_coordinate_descent(\n",
      "C:\\Users\\busin\\Documents\\dev\\python\\enefit_data_pycharm\\.venv\\lib\\site-packages\\sklearn\\linear_model\\_coordinate_descent.py:628: ConvergenceWarning: Objective did not converge. You might want to increase the number of iterations, check the scale of the features or consider increasing regularisation. Duality gap: 3.155e+09, tolerance: 7.140e+05\n",
      "  model = cd_fast.enet_coordinate_descent(\n",
      "C:\\Users\\busin\\Documents\\dev\\python\\enefit_data_pycharm\\.venv\\lib\\site-packages\\sklearn\\linear_model\\_coordinate_descent.py:628: ConvergenceWarning: Objective did not converge. You might want to increase the number of iterations, check the scale of the features or consider increasing regularisation. Duality gap: 3.162e+09, tolerance: 7.140e+05\n",
      "  model = cd_fast.enet_coordinate_descent(\n",
      "C:\\Users\\busin\\Documents\\dev\\python\\enefit_data_pycharm\\.venv\\lib\\site-packages\\sklearn\\linear_model\\_coordinate_descent.py:628: ConvergenceWarning: Objective did not converge. You might want to increase the number of iterations, check the scale of the features or consider increasing regularisation. Duality gap: 1.624e+09, tolerance: 7.140e+05\n",
      "  model = cd_fast.enet_coordinate_descent(\n",
      "C:\\Users\\busin\\Documents\\dev\\python\\enefit_data_pycharm\\.venv\\lib\\site-packages\\sklearn\\linear_model\\_coordinate_descent.py:628: ConvergenceWarning: Objective did not converge. You might want to increase the number of iterations, check the scale of the features or consider increasing regularisation. Duality gap: 3.176e+09, tolerance: 7.140e+05\n",
      "  model = cd_fast.enet_coordinate_descent(\n",
      "C:\\Users\\busin\\Documents\\dev\\python\\enefit_data_pycharm\\.venv\\lib\\site-packages\\sklearn\\linear_model\\_coordinate_descent.py:628: ConvergenceWarning: Objective did not converge. You might want to increase the number of iterations, check the scale of the features or consider increasing regularisation. Duality gap: 3.181e+09, tolerance: 7.140e+05\n",
      "  model = cd_fast.enet_coordinate_descent(\n",
      "C:\\Users\\busin\\Documents\\dev\\python\\enefit_data_pycharm\\.venv\\lib\\site-packages\\sklearn\\linear_model\\_coordinate_descent.py:628: ConvergenceWarning: Objective did not converge. You might want to increase the number of iterations, check the scale of the features or consider increasing regularisation. Duality gap: 2.963e+09, tolerance: 7.140e+05\n",
      "  model = cd_fast.enet_coordinate_descent(\n",
      "C:\\Users\\busin\\Documents\\dev\\python\\enefit_data_pycharm\\.venv\\lib\\site-packages\\sklearn\\linear_model\\_coordinate_descent.py:628: ConvergenceWarning: Objective did not converge. You might want to increase the number of iterations, check the scale of the features or consider increasing regularisation. Duality gap: 3.181e+09, tolerance: 7.140e+05\n",
      "  model = cd_fast.enet_coordinate_descent(\n",
      "C:\\Users\\busin\\Documents\\dev\\python\\enefit_data_pycharm\\.venv\\lib\\site-packages\\sklearn\\linear_model\\_coordinate_descent.py:628: ConvergenceWarning: Objective did not converge. You might want to increase the number of iterations, check the scale of the features or consider increasing regularisation. Duality gap: 1.967e+06, tolerance: 7.140e+05\n",
      "  model = cd_fast.enet_coordinate_descent(\n",
      "C:\\Users\\busin\\Documents\\dev\\python\\enefit_data_pycharm\\.venv\\lib\\site-packages\\sklearn\\base.py:1152: UserWarning: With alpha=0, this algorithm does not converge well. You are advised to use the LinearRegression estimator\n",
      "  return fit_method(estimator, *args, **kwargs)\n",
      "C:\\Users\\busin\\Documents\\dev\\python\\enefit_data_pycharm\\.venv\\lib\\site-packages\\sklearn\\linear_model\\_coordinate_descent.py:628: UserWarning: Coordinate descent with no regularization may lead to unexpected results and is discouraged.\n",
      "  model = cd_fast.enet_coordinate_descent(\n",
      "C:\\Users\\busin\\Documents\\dev\\python\\enefit_data_pycharm\\.venv\\lib\\site-packages\\sklearn\\linear_model\\_coordinate_descent.py:628: ConvergenceWarning: Objective did not converge. You might want to increase the number of iterations, check the scale of the features or consider increasing regularisation. Duality gap: 2.851e+09, tolerance: 6.522e+05 Linear regression models with null weight for the l1 regularization term are more efficiently fitted using one of the solvers implemented in sklearn.linear_model.Ridge/RidgeCV instead.\n",
      "  model = cd_fast.enet_coordinate_descent(\n",
      "C:\\Users\\busin\\Documents\\dev\\python\\enefit_data_pycharm\\.venv\\lib\\site-packages\\sklearn\\linear_model\\_coordinate_descent.py:628: ConvergenceWarning: Objective did not converge. You might want to increase the number of iterations, check the scale of the features or consider increasing regularisation. Duality gap: 2.857e+09, tolerance: 6.522e+05\n",
      "  model = cd_fast.enet_coordinate_descent(\n",
      "C:\\Users\\busin\\Documents\\dev\\python\\enefit_data_pycharm\\.venv\\lib\\site-packages\\sklearn\\linear_model\\_coordinate_descent.py:628: ConvergenceWarning: Objective did not converge. You might want to increase the number of iterations, check the scale of the features or consider increasing regularisation. Duality gap: 3.391e+08, tolerance: 6.522e+05\n",
      "  model = cd_fast.enet_coordinate_descent(\n",
      "C:\\Users\\busin\\Documents\\dev\\python\\enefit_data_pycharm\\.venv\\lib\\site-packages\\sklearn\\linear_model\\_coordinate_descent.py:628: ConvergenceWarning: Objective did not converge. You might want to increase the number of iterations, check the scale of the features or consider increasing regularisation. Duality gap: 2.853e+09, tolerance: 6.522e+05\n",
      "  model = cd_fast.enet_coordinate_descent(\n",
      "C:\\Users\\busin\\Documents\\dev\\python\\enefit_data_pycharm\\.venv\\lib\\site-packages\\sklearn\\base.py:1152: UserWarning: With alpha=0, this algorithm does not converge well. You are advised to use the LinearRegression estimator\n",
      "  return fit_method(estimator, *args, **kwargs)\n",
      "C:\\Users\\busin\\Documents\\dev\\python\\enefit_data_pycharm\\.venv\\lib\\site-packages\\sklearn\\linear_model\\_coordinate_descent.py:628: UserWarning: Coordinate descent with no regularization may lead to unexpected results and is discouraged.\n",
      "  model = cd_fast.enet_coordinate_descent(\n",
      "C:\\Users\\busin\\Documents\\dev\\python\\enefit_data_pycharm\\.venv\\lib\\site-packages\\sklearn\\linear_model\\_coordinate_descent.py:628: ConvergenceWarning: Objective did not converge. You might want to increase the number of iterations, check the scale of the features or consider increasing regularisation. Duality gap: 2.524e+09, tolerance: 5.781e+05 Linear regression models with null weight for the l1 regularization term are more efficiently fitted using one of the solvers implemented in sklearn.linear_model.Ridge/RidgeCV instead.\n",
      "  model = cd_fast.enet_coordinate_descent(\n",
      "C:\\Users\\busin\\Documents\\dev\\python\\enefit_data_pycharm\\.venv\\lib\\site-packages\\sklearn\\linear_model\\_coordinate_descent.py:628: ConvergenceWarning: Objective did not converge. You might want to increase the number of iterations, check the scale of the features or consider increasing regularisation. Duality gap: 2.408e+09, tolerance: 5.781e+05\n",
      "  model = cd_fast.enet_coordinate_descent(\n",
      "C:\\Users\\busin\\Documents\\dev\\python\\enefit_data_pycharm\\.venv\\lib\\site-packages\\sklearn\\linear_model\\_coordinate_descent.py:628: ConvergenceWarning: Objective did not converge. You might want to increase the number of iterations, check the scale of the features or consider increasing regularisation. Duality gap: 2.085e+09, tolerance: 5.781e+05\n",
      "  model = cd_fast.enet_coordinate_descent(\n",
      "C:\\Users\\busin\\Documents\\dev\\python\\enefit_data_pycharm\\.venv\\lib\\site-packages\\sklearn\\linear_model\\_coordinate_descent.py:628: ConvergenceWarning: Objective did not converge. You might want to increase the number of iterations, check the scale of the features or consider increasing regularisation. Duality gap: 2.542e+09, tolerance: 5.781e+05\n",
      "  model = cd_fast.enet_coordinate_descent(\n",
      "C:\\Users\\busin\\Documents\\dev\\python\\enefit_data_pycharm\\.venv\\lib\\site-packages\\sklearn\\linear_model\\_coordinate_descent.py:628: ConvergenceWarning: Objective did not converge. You might want to increase the number of iterations, check the scale of the features or consider increasing regularisation. Duality gap: 2.357e+09, tolerance: 5.781e+05\n",
      "  model = cd_fast.enet_coordinate_descent(\n",
      "C:\\Users\\busin\\Documents\\dev\\python\\enefit_data_pycharm\\.venv\\lib\\site-packages\\sklearn\\linear_model\\_coordinate_descent.py:628: ConvergenceWarning: Objective did not converge. You might want to increase the number of iterations, check the scale of the features or consider increasing regularisation. Duality gap: 5.503e+08, tolerance: 5.781e+05\n",
      "  model = cd_fast.enet_coordinate_descent(\n",
      "C:\\Users\\busin\\Documents\\dev\\python\\enefit_data_pycharm\\.venv\\lib\\site-packages\\sklearn\\linear_model\\_coordinate_descent.py:628: ConvergenceWarning: Objective did not converge. You might want to increase the number of iterations, check the scale of the features or consider increasing regularisation. Duality gap: 2.558e+09, tolerance: 5.781e+05\n",
      "  model = cd_fast.enet_coordinate_descent(\n",
      "C:\\Users\\busin\\Documents\\dev\\python\\enefit_data_pycharm\\.venv\\lib\\site-packages\\sklearn\\linear_model\\_coordinate_descent.py:628: ConvergenceWarning: Objective did not converge. You might want to increase the number of iterations, check the scale of the features or consider increasing regularisation. Duality gap: 2.087e+08, tolerance: 5.781e+05\n",
      "  model = cd_fast.enet_coordinate_descent(\n",
      "C:\\Users\\busin\\Documents\\dev\\python\\enefit_data_pycharm\\.venv\\lib\\site-packages\\sklearn\\linear_model\\_coordinate_descent.py:628: ConvergenceWarning: Objective did not converge. You might want to increase the number of iterations, check the scale of the features or consider increasing regularisation. Duality gap: 2.566e+09, tolerance: 5.781e+05\n",
      "  model = cd_fast.enet_coordinate_descent(\n",
      "C:\\Users\\busin\\Documents\\dev\\python\\enefit_data_pycharm\\.venv\\lib\\site-packages\\sklearn\\linear_model\\_coordinate_descent.py:628: ConvergenceWarning: Objective did not converge. You might want to increase the number of iterations, check the scale of the features or consider increasing regularisation. Duality gap: 2.565e+09, tolerance: 5.781e+05\n",
      "  model = cd_fast.enet_coordinate_descent(\n",
      "C:\\Users\\busin\\Documents\\dev\\python\\enefit_data_pycharm\\.venv\\lib\\site-packages\\sklearn\\linear_model\\_coordinate_descent.py:628: ConvergenceWarning: Objective did not converge. You might want to increase the number of iterations, check the scale of the features or consider increasing regularisation. Duality gap: 2.553e+09, tolerance: 5.781e+05\n",
      "  model = cd_fast.enet_coordinate_descent(\n",
      "C:\\Users\\busin\\Documents\\dev\\python\\enefit_data_pycharm\\.venv\\lib\\site-packages\\sklearn\\base.py:1152: UserWarning: With alpha=0, this algorithm does not converge well. You are advised to use the LinearRegression estimator\n",
      "  return fit_method(estimator, *args, **kwargs)\n",
      "C:\\Users\\busin\\Documents\\dev\\python\\enefit_data_pycharm\\.venv\\lib\\site-packages\\sklearn\\linear_model\\_coordinate_descent.py:628: UserWarning: Coordinate descent with no regularization may lead to unexpected results and is discouraged.\n",
      "  model = cd_fast.enet_coordinate_descent(\n",
      "C:\\Users\\busin\\Documents\\dev\\python\\enefit_data_pycharm\\.venv\\lib\\site-packages\\sklearn\\linear_model\\_coordinate_descent.py:628: ConvergenceWarning: Objective did not converge. You might want to increase the number of iterations, check the scale of the features or consider increasing regularisation. Duality gap: 2.095e+09, tolerance: 4.803e+05 Linear regression models with null weight for the l1 regularization term are more efficiently fitted using one of the solvers implemented in sklearn.linear_model.Ridge/RidgeCV instead.\n",
      "  model = cd_fast.enet_coordinate_descent(\n",
      "C:\\Users\\busin\\Documents\\dev\\python\\enefit_data_pycharm\\.venv\\lib\\site-packages\\sklearn\\linear_model\\_coordinate_descent.py:628: ConvergenceWarning: Objective did not converge. You might want to increase the number of iterations, check the scale of the features or consider increasing regularisation. Duality gap: 2.100e+09, tolerance: 4.803e+05\n",
      "  model = cd_fast.enet_coordinate_descent(\n",
      "C:\\Users\\busin\\Documents\\dev\\python\\enefit_data_pycharm\\.venv\\lib\\site-packages\\sklearn\\linear_model\\_coordinate_descent.py:628: ConvergenceWarning: Objective did not converge. You might want to increase the number of iterations, check the scale of the features or consider increasing regularisation. Duality gap: 2.037e+09, tolerance: 4.803e+05\n",
      "  model = cd_fast.enet_coordinate_descent(\n",
      "C:\\Users\\busin\\Documents\\dev\\python\\enefit_data_pycharm\\.venv\\lib\\site-packages\\sklearn\\linear_model\\_coordinate_descent.py:628: ConvergenceWarning: Objective did not converge. You might want to increase the number of iterations, check the scale of the features or consider increasing regularisation. Duality gap: 2.106e+09, tolerance: 4.803e+05\n",
      "  model = cd_fast.enet_coordinate_descent(\n",
      "C:\\Users\\busin\\Documents\\dev\\python\\enefit_data_pycharm\\.venv\\lib\\site-packages\\sklearn\\linear_model\\_coordinate_descent.py:628: ConvergenceWarning: Objective did not converge. You might want to increase the number of iterations, check the scale of the features or consider increasing regularisation. Duality gap: 2.108e+09, tolerance: 4.803e+05\n",
      "  model = cd_fast.enet_coordinate_descent(\n",
      "C:\\Users\\busin\\Documents\\dev\\python\\enefit_data_pycharm\\.venv\\lib\\site-packages\\sklearn\\linear_model\\_coordinate_descent.py:628: ConvergenceWarning: Objective did not converge. You might want to increase the number of iterations, check the scale of the features or consider increasing regularisation. Duality gap: 2.121e+09, tolerance: 4.803e+05\n",
      "  model = cd_fast.enet_coordinate_descent(\n",
      "C:\\Users\\busin\\Documents\\dev\\python\\enefit_data_pycharm\\.venv\\lib\\site-packages\\sklearn\\linear_model\\_coordinate_descent.py:628: ConvergenceWarning: Objective did not converge. You might want to increase the number of iterations, check the scale of the features or consider increasing regularisation. Duality gap: 2.108e+09, tolerance: 4.803e+05\n",
      "  model = cd_fast.enet_coordinate_descent(\n",
      "C:\\Users\\busin\\Documents\\dev\\python\\enefit_data_pycharm\\.venv\\lib\\site-packages\\sklearn\\linear_model\\_coordinate_descent.py:628: ConvergenceWarning: Objective did not converge. You might want to increase the number of iterations, check the scale of the features or consider increasing regularisation. Duality gap: 8.709e+08, tolerance: 4.803e+05\n",
      "  model = cd_fast.enet_coordinate_descent(\n",
      "C:\\Users\\busin\\Documents\\dev\\python\\enefit_data_pycharm\\.venv\\lib\\site-packages\\sklearn\\linear_model\\_coordinate_descent.py:628: ConvergenceWarning: Objective did not converge. You might want to increase the number of iterations, check the scale of the features or consider increasing regularisation. Duality gap: 2.136e+09, tolerance: 4.803e+05\n",
      "  model = cd_fast.enet_coordinate_descent(\n",
      "C:\\Users\\busin\\Documents\\dev\\python\\enefit_data_pycharm\\.venv\\lib\\site-packages\\sklearn\\linear_model\\_coordinate_descent.py:628: ConvergenceWarning: Objective did not converge. You might want to increase the number of iterations, check the scale of the features or consider increasing regularisation. Duality gap: 2.140e+09, tolerance: 4.803e+05\n",
      "  model = cd_fast.enet_coordinate_descent(\n",
      "C:\\Users\\busin\\Documents\\dev\\python\\enefit_data_pycharm\\.venv\\lib\\site-packages\\sklearn\\linear_model\\_coordinate_descent.py:628: ConvergenceWarning: Objective did not converge. You might want to increase the number of iterations, check the scale of the features or consider increasing regularisation. Duality gap: 5.498e+08, tolerance: 4.803e+05\n",
      "  model = cd_fast.enet_coordinate_descent(\n",
      "C:\\Users\\busin\\Documents\\dev\\python\\enefit_data_pycharm\\.venv\\lib\\site-packages\\sklearn\\linear_model\\_coordinate_descent.py:628: ConvergenceWarning: Objective did not converge. You might want to increase the number of iterations, check the scale of the features or consider increasing regularisation. Duality gap: 1.862e+09, tolerance: 4.803e+05\n",
      "  model = cd_fast.enet_coordinate_descent(\n",
      "C:\\Users\\busin\\Documents\\dev\\python\\enefit_data_pycharm\\.venv\\lib\\site-packages\\sklearn\\linear_model\\_coordinate_descent.py:628: ConvergenceWarning: Objective did not converge. You might want to increase the number of iterations, check the scale of the features or consider increasing regularisation. Duality gap: 2.154e+09, tolerance: 4.803e+05\n",
      "  model = cd_fast.enet_coordinate_descent(\n",
      "C:\\Users\\busin\\Documents\\dev\\python\\enefit_data_pycharm\\.venv\\lib\\site-packages\\sklearn\\linear_model\\_coordinate_descent.py:628: ConvergenceWarning: Objective did not converge. You might want to increase the number of iterations, check the scale of the features or consider increasing regularisation. Duality gap: 4.522e+08, tolerance: 4.803e+05\n",
      "  model = cd_fast.enet_coordinate_descent(\n",
      "C:\\Users\\busin\\Documents\\dev\\python\\enefit_data_pycharm\\.venv\\lib\\site-packages\\sklearn\\linear_model\\_coordinate_descent.py:628: ConvergenceWarning: Objective did not converge. You might want to increase the number of iterations, check the scale of the features or consider increasing regularisation. Duality gap: 1.204e+09, tolerance: 4.803e+05\n",
      "  model = cd_fast.enet_coordinate_descent(\n",
      "C:\\Users\\busin\\Documents\\dev\\python\\enefit_data_pycharm\\.venv\\lib\\site-packages\\sklearn\\linear_model\\_coordinate_descent.py:628: ConvergenceWarning: Objective did not converge. You might want to increase the number of iterations, check the scale of the features or consider increasing regularisation. Duality gap: 2.166e+09, tolerance: 4.803e+05\n",
      "  model = cd_fast.enet_coordinate_descent(\n",
      "C:\\Users\\busin\\Documents\\dev\\python\\enefit_data_pycharm\\.venv\\lib\\site-packages\\sklearn\\linear_model\\_coordinate_descent.py:628: ConvergenceWarning: Objective did not converge. You might want to increase the number of iterations, check the scale of the features or consider increasing regularisation. Duality gap: 2.455e+08, tolerance: 4.803e+05\n",
      "  model = cd_fast.enet_coordinate_descent(\n",
      "C:\\Users\\busin\\Documents\\dev\\python\\enefit_data_pycharm\\.venv\\lib\\site-packages\\sklearn\\linear_model\\_coordinate_descent.py:628: ConvergenceWarning: Objective did not converge. You might want to increase the number of iterations, check the scale of the features or consider increasing regularisation. Duality gap: 2.173e+09, tolerance: 4.803e+05\n",
      "  model = cd_fast.enet_coordinate_descent(\n",
      "C:\\Users\\busin\\Documents\\dev\\python\\enefit_data_pycharm\\.venv\\lib\\site-packages\\sklearn\\linear_model\\_coordinate_descent.py:628: ConvergenceWarning: Objective did not converge. You might want to increase the number of iterations, check the scale of the features or consider increasing regularisation. Duality gap: 1.421e+08, tolerance: 4.803e+05\n",
      "  model = cd_fast.enet_coordinate_descent(\n",
      "C:\\Users\\busin\\Documents\\dev\\python\\enefit_data_pycharm\\.venv\\lib\\site-packages\\sklearn\\linear_model\\_coordinate_descent.py:628: ConvergenceWarning: Objective did not converge. You might want to increase the number of iterations, check the scale of the features or consider increasing regularisation. Duality gap: 2.178e+09, tolerance: 4.803e+05\n",
      "  model = cd_fast.enet_coordinate_descent(\n",
      "C:\\Users\\busin\\Documents\\dev\\python\\enefit_data_pycharm\\.venv\\lib\\site-packages\\sklearn\\linear_model\\_coordinate_descent.py:628: ConvergenceWarning: Objective did not converge. You might want to increase the number of iterations, check the scale of the features or consider increasing regularisation. Duality gap: 2.177e+09, tolerance: 4.803e+05\n",
      "  model = cd_fast.enet_coordinate_descent(\n",
      "C:\\Users\\busin\\Documents\\dev\\python\\enefit_data_pycharm\\.venv\\lib\\site-packages\\sklearn\\linear_model\\_coordinate_descent.py:628: ConvergenceWarning: Objective did not converge. You might want to increase the number of iterations, check the scale of the features or consider increasing regularisation. Duality gap: 1.561e+09, tolerance: 4.803e+05\n",
      "  model = cd_fast.enet_coordinate_descent(\n",
      "C:\\Users\\busin\\Documents\\dev\\python\\enefit_data_pycharm\\.venv\\lib\\site-packages\\sklearn\\linear_model\\_coordinate_descent.py:628: ConvergenceWarning: Objective did not converge. You might want to increase the number of iterations, check the scale of the features or consider increasing regularisation. Duality gap: 2.090e+09, tolerance: 4.803e+05\n",
      "  model = cd_fast.enet_coordinate_descent(\n"
     ]
    },
    {
     "name": "stdout",
     "output_type": "stream",
     "text": [
      "######## Train evaluation\n",
      "R2 score: 0.012 (aiming 1.0)\n",
      "Mean absolute error : 359.874 (aiming 0)\n",
      "Mean squared error : 794187.1855 (aiming 0)\n",
      "######## Test evaluation\n",
      "R2 score: 0.0087 (aiming 1.0)\n",
      "Mean absolute error : 379.2963 (aiming 0)\n",
      "Mean squared error : 927680.2185 (aiming 0)\n"
     ]
    }
   ],
   "source": [
    "from sklearn.linear_model import Lasso\n",
    "# Model training\n",
    "better_lasso_model = Lasso().fit(X_train, y_train)\n",
    "better_lasso_mae = getMAE(better_lasso_model, X_test, y_test)\n",
    "for i in range(1, 5):\n",
    "    X_train, X_test, y_train, y_test = spliting_dataset(test_ratio=i/10)\n",
    "    for j in range(1000):\n",
    "        reg = Lasso(alpha=j, selection=\"random\").fit(X_train, y_train)\n",
    "        \n",
    "        # Checking if the mean absolute error is better or not\n",
    "        tmp_mae = getMAE(reg, X_test, y_test)\n",
    "        if tmp_mae < better_mae:\n",
    "            better_lasso_mae = tmp_mae\n",
    "            better_lasso_model = reg\n",
    "\n",
    "# Evaluating model\n",
    "model_evaluation(better_lasso_model)\n",
    "model_evaluation(better_lasso_model, True)"
   ],
   "metadata": {
    "collapsed": false,
    "ExecuteTime": {
     "end_time": "2023-12-20T11:22:37.851142400Z",
     "start_time": "2023-12-20T11:22:12.537513Z"
    }
   },
   "id": "9b405a83d5e64f6d"
  },
  {
   "cell_type": "markdown",
   "source": [
    "## Elastic Net"
   ],
   "metadata": {
    "collapsed": false
   },
   "id": "7f13cdf13e55e860"
  },
  {
   "cell_type": "code",
   "execution_count": 137,
   "outputs": [
    {
     "name": "stderr",
     "output_type": "stream",
     "text": [
      "C:\\Users\\busin\\Documents\\dev\\python\\enefit_data_pycharm\\.venv\\lib\\site-packages\\sklearn\\linear_model\\_coordinate_descent.py:628: ConvergenceWarning: Objective did not converge. You might want to increase the number of iterations, check the scale of the features or consider increasing regularisation. Duality gap: 2.187e+09, tolerance: 4.803e+05\n",
      "  model = cd_fast.enet_coordinate_descent(\n"
     ]
    },
    {
     "name": "stdout",
     "output_type": "stream",
     "text": [
      "######## Train evaluation\n",
      "R2 score: 0.0124 (aiming 1.0)\n",
      "Mean absolute error : 359.871 (aiming 0)\n",
      "Mean squared error : 793843.0078 (aiming 0)\n",
      "######## Test evaluation\n",
      "R2 score: 0.0091 (aiming 1.0)\n",
      "Mean absolute error : 379.4305 (aiming 0)\n",
      "Mean squared error : 927252.6351 (aiming 0)\n"
     ]
    }
   ],
   "source": [
    "from sklearn.linear_model import ElasticNet\n",
    "# Model training\n",
    "better_elastic_model = ElasticNet().fit(X_train, y_train)\n",
    "better_elastic_mae = getMAE(better_elastic_model, X_test, y_test)\n",
    "for i in range(1, 5):\n",
    "    X_train, X_test, y_train, y_test = spliting_dataset(test_ratio=i/10)\n",
    "    for j in range(1, 1000):\n",
    "        reg = ElasticNet(alpha=j, tol=1).fit(X_train, y_train)\n",
    "        \n",
    "        # Checking if the mean absolute error is better or not\n",
    "        tmp_mae = getMAE(reg, X_test, y_test)\n",
    "        if tmp_mae < better_mae:\n",
    "            better_elastic_mae = tmp_mae\n",
    "            better_elastic_model = reg\n",
    "\n",
    "# Evaluating model\n",
    "model_evaluation(better_elastic_model)\n",
    "model_evaluation(better_elastic_model, True)"
   ],
   "metadata": {
    "collapsed": false,
    "ExecuteTime": {
     "end_time": "2023-12-20T12:08:28.924521Z",
     "start_time": "2023-12-20T12:08:12.020035100Z"
    }
   },
   "id": "3d6ec332e9c1b469"
  },
  {
   "cell_type": "markdown",
   "source": [
    "## Random Forest"
   ],
   "metadata": {
    "collapsed": false
   },
   "id": "860912428e2ce350"
  },
  {
   "cell_type": "code",
   "execution_count": 139,
   "outputs": [
    {
     "name": "stdout",
     "output_type": "stream",
     "text": [
      "Fitting 5 folds for each of 500 candidates, totalling 2500 fits\n"
     ]
    },
    {
     "ename": "KeyboardInterrupt",
     "evalue": "",
     "output_type": "error",
     "traceback": [
      "\u001B[1;31m---------------------------------------------------------------------------\u001B[0m",
      "\u001B[1;31mKeyboardInterrupt\u001B[0m                         Traceback (most recent call last)",
      "Cell \u001B[1;32mIn[139], line 14\u001B[0m\n\u001B[0;32m     12\u001B[0m forest \u001B[38;5;241m=\u001B[39m RandomForestRegressor()\n\u001B[0;32m     13\u001B[0m RFR_random \u001B[38;5;241m=\u001B[39m RandomizedSearchCV(estimator\u001B[38;5;241m=\u001B[39mforest, param_distributions\u001B[38;5;241m=\u001B[39mgrid_param, n_iter\u001B[38;5;241m=\u001B[39m\u001B[38;5;241m500\u001B[39m, cv\u001B[38;5;241m=\u001B[39m\u001B[38;5;241m5\u001B[39m, verbose\u001B[38;5;241m=\u001B[39m\u001B[38;5;241m2\u001B[39m, random_state\u001B[38;5;241m=\u001B[39m\u001B[38;5;241m42\u001B[39m, n_jobs\u001B[38;5;241m=\u001B[39m\u001B[38;5;241m-\u001B[39m\u001B[38;5;241m1\u001B[39m)\n\u001B[1;32m---> 14\u001B[0m \u001B[43mRFR_random\u001B[49m\u001B[38;5;241;43m.\u001B[39;49m\u001B[43mfit\u001B[49m\u001B[43m(\u001B[49m\u001B[43mX_train\u001B[49m\u001B[43m,\u001B[49m\u001B[43m \u001B[49m\u001B[43my_train\u001B[49m\u001B[43m)\u001B[49m\n\u001B[0;32m     15\u001B[0m better_rdm_forest_mae \u001B[38;5;241m=\u001B[39m getMAE(RFR_random, X_test, y_test)\n\u001B[0;32m     16\u001B[0m \u001B[38;5;66;03m# Evaluating model\u001B[39;00m\n",
      "File \u001B[1;32m~\\Documents\\dev\\python\\enefit_data_pycharm\\.venv\\lib\\site-packages\\sklearn\\base.py:1152\u001B[0m, in \u001B[0;36m_fit_context.<locals>.decorator.<locals>.wrapper\u001B[1;34m(estimator, *args, **kwargs)\u001B[0m\n\u001B[0;32m   1145\u001B[0m     estimator\u001B[38;5;241m.\u001B[39m_validate_params()\n\u001B[0;32m   1147\u001B[0m \u001B[38;5;28;01mwith\u001B[39;00m config_context(\n\u001B[0;32m   1148\u001B[0m     skip_parameter_validation\u001B[38;5;241m=\u001B[39m(\n\u001B[0;32m   1149\u001B[0m         prefer_skip_nested_validation \u001B[38;5;129;01mor\u001B[39;00m global_skip_validation\n\u001B[0;32m   1150\u001B[0m     )\n\u001B[0;32m   1151\u001B[0m ):\n\u001B[1;32m-> 1152\u001B[0m     \u001B[38;5;28;01mreturn\u001B[39;00m fit_method(estimator, \u001B[38;5;241m*\u001B[39margs, \u001B[38;5;241m*\u001B[39m\u001B[38;5;241m*\u001B[39mkwargs)\n",
      "File \u001B[1;32m~\\Documents\\dev\\python\\enefit_data_pycharm\\.venv\\lib\\site-packages\\sklearn\\model_selection\\_search.py:898\u001B[0m, in \u001B[0;36mBaseSearchCV.fit\u001B[1;34m(self, X, y, groups, **fit_params)\u001B[0m\n\u001B[0;32m    892\u001B[0m     results \u001B[38;5;241m=\u001B[39m \u001B[38;5;28mself\u001B[39m\u001B[38;5;241m.\u001B[39m_format_results(\n\u001B[0;32m    893\u001B[0m         all_candidate_params, n_splits, all_out, all_more_results\n\u001B[0;32m    894\u001B[0m     )\n\u001B[0;32m    896\u001B[0m     \u001B[38;5;28;01mreturn\u001B[39;00m results\n\u001B[1;32m--> 898\u001B[0m \u001B[38;5;28;43mself\u001B[39;49m\u001B[38;5;241;43m.\u001B[39;49m\u001B[43m_run_search\u001B[49m\u001B[43m(\u001B[49m\u001B[43mevaluate_candidates\u001B[49m\u001B[43m)\u001B[49m\n\u001B[0;32m    900\u001B[0m \u001B[38;5;66;03m# multimetric is determined here because in the case of a callable\u001B[39;00m\n\u001B[0;32m    901\u001B[0m \u001B[38;5;66;03m# self.scoring the return type is only known after calling\u001B[39;00m\n\u001B[0;32m    902\u001B[0m first_test_score \u001B[38;5;241m=\u001B[39m all_out[\u001B[38;5;241m0\u001B[39m][\u001B[38;5;124m\"\u001B[39m\u001B[38;5;124mtest_scores\u001B[39m\u001B[38;5;124m\"\u001B[39m]\n",
      "File \u001B[1;32m~\\Documents\\dev\\python\\enefit_data_pycharm\\.venv\\lib\\site-packages\\sklearn\\model_selection\\_search.py:1809\u001B[0m, in \u001B[0;36mRandomizedSearchCV._run_search\u001B[1;34m(self, evaluate_candidates)\u001B[0m\n\u001B[0;32m   1807\u001B[0m \u001B[38;5;28;01mdef\u001B[39;00m \u001B[38;5;21m_run_search\u001B[39m(\u001B[38;5;28mself\u001B[39m, evaluate_candidates):\n\u001B[0;32m   1808\u001B[0m \u001B[38;5;250m    \u001B[39m\u001B[38;5;124;03m\"\"\"Search n_iter candidates from param_distributions\"\"\"\u001B[39;00m\n\u001B[1;32m-> 1809\u001B[0m     \u001B[43mevaluate_candidates\u001B[49m\u001B[43m(\u001B[49m\n\u001B[0;32m   1810\u001B[0m \u001B[43m        \u001B[49m\u001B[43mParameterSampler\u001B[49m\u001B[43m(\u001B[49m\n\u001B[0;32m   1811\u001B[0m \u001B[43m            \u001B[49m\u001B[38;5;28;43mself\u001B[39;49m\u001B[38;5;241;43m.\u001B[39;49m\u001B[43mparam_distributions\u001B[49m\u001B[43m,\u001B[49m\u001B[43m \u001B[49m\u001B[38;5;28;43mself\u001B[39;49m\u001B[38;5;241;43m.\u001B[39;49m\u001B[43mn_iter\u001B[49m\u001B[43m,\u001B[49m\u001B[43m \u001B[49m\u001B[43mrandom_state\u001B[49m\u001B[38;5;241;43m=\u001B[39;49m\u001B[38;5;28;43mself\u001B[39;49m\u001B[38;5;241;43m.\u001B[39;49m\u001B[43mrandom_state\u001B[49m\n\u001B[0;32m   1812\u001B[0m \u001B[43m        \u001B[49m\u001B[43m)\u001B[49m\n\u001B[0;32m   1813\u001B[0m \u001B[43m    \u001B[49m\u001B[43m)\u001B[49m\n",
      "File \u001B[1;32m~\\Documents\\dev\\python\\enefit_data_pycharm\\.venv\\lib\\site-packages\\sklearn\\model_selection\\_search.py:845\u001B[0m, in \u001B[0;36mBaseSearchCV.fit.<locals>.evaluate_candidates\u001B[1;34m(candidate_params, cv, more_results)\u001B[0m\n\u001B[0;32m    837\u001B[0m \u001B[38;5;28;01mif\u001B[39;00m \u001B[38;5;28mself\u001B[39m\u001B[38;5;241m.\u001B[39mverbose \u001B[38;5;241m>\u001B[39m \u001B[38;5;241m0\u001B[39m:\n\u001B[0;32m    838\u001B[0m     \u001B[38;5;28mprint\u001B[39m(\n\u001B[0;32m    839\u001B[0m         \u001B[38;5;124m\"\u001B[39m\u001B[38;5;124mFitting \u001B[39m\u001B[38;5;132;01m{0}\u001B[39;00m\u001B[38;5;124m folds for each of \u001B[39m\u001B[38;5;132;01m{1}\u001B[39;00m\u001B[38;5;124m candidates,\u001B[39m\u001B[38;5;124m\"\u001B[39m\n\u001B[0;32m    840\u001B[0m         \u001B[38;5;124m\"\u001B[39m\u001B[38;5;124m totalling \u001B[39m\u001B[38;5;132;01m{2}\u001B[39;00m\u001B[38;5;124m fits\u001B[39m\u001B[38;5;124m\"\u001B[39m\u001B[38;5;241m.\u001B[39mformat(\n\u001B[0;32m    841\u001B[0m             n_splits, n_candidates, n_candidates \u001B[38;5;241m*\u001B[39m n_splits\n\u001B[0;32m    842\u001B[0m         )\n\u001B[0;32m    843\u001B[0m     )\n\u001B[1;32m--> 845\u001B[0m out \u001B[38;5;241m=\u001B[39m \u001B[43mparallel\u001B[49m\u001B[43m(\u001B[49m\n\u001B[0;32m    846\u001B[0m \u001B[43m    \u001B[49m\u001B[43mdelayed\u001B[49m\u001B[43m(\u001B[49m\u001B[43m_fit_and_score\u001B[49m\u001B[43m)\u001B[49m\u001B[43m(\u001B[49m\n\u001B[0;32m    847\u001B[0m \u001B[43m        \u001B[49m\u001B[43mclone\u001B[49m\u001B[43m(\u001B[49m\u001B[43mbase_estimator\u001B[49m\u001B[43m)\u001B[49m\u001B[43m,\u001B[49m\n\u001B[0;32m    848\u001B[0m \u001B[43m        \u001B[49m\u001B[43mX\u001B[49m\u001B[43m,\u001B[49m\n\u001B[0;32m    849\u001B[0m \u001B[43m        \u001B[49m\u001B[43my\u001B[49m\u001B[43m,\u001B[49m\n\u001B[0;32m    850\u001B[0m \u001B[43m        \u001B[49m\u001B[43mtrain\u001B[49m\u001B[38;5;241;43m=\u001B[39;49m\u001B[43mtrain\u001B[49m\u001B[43m,\u001B[49m\n\u001B[0;32m    851\u001B[0m \u001B[43m        \u001B[49m\u001B[43mtest\u001B[49m\u001B[38;5;241;43m=\u001B[39;49m\u001B[43mtest\u001B[49m\u001B[43m,\u001B[49m\n\u001B[0;32m    852\u001B[0m \u001B[43m        \u001B[49m\u001B[43mparameters\u001B[49m\u001B[38;5;241;43m=\u001B[39;49m\u001B[43mparameters\u001B[49m\u001B[43m,\u001B[49m\n\u001B[0;32m    853\u001B[0m \u001B[43m        \u001B[49m\u001B[43msplit_progress\u001B[49m\u001B[38;5;241;43m=\u001B[39;49m\u001B[43m(\u001B[49m\u001B[43msplit_idx\u001B[49m\u001B[43m,\u001B[49m\u001B[43m \u001B[49m\u001B[43mn_splits\u001B[49m\u001B[43m)\u001B[49m\u001B[43m,\u001B[49m\n\u001B[0;32m    854\u001B[0m \u001B[43m        \u001B[49m\u001B[43mcandidate_progress\u001B[49m\u001B[38;5;241;43m=\u001B[39;49m\u001B[43m(\u001B[49m\u001B[43mcand_idx\u001B[49m\u001B[43m,\u001B[49m\u001B[43m \u001B[49m\u001B[43mn_candidates\u001B[49m\u001B[43m)\u001B[49m\u001B[43m,\u001B[49m\n\u001B[0;32m    855\u001B[0m \u001B[43m        \u001B[49m\u001B[38;5;241;43m*\u001B[39;49m\u001B[38;5;241;43m*\u001B[39;49m\u001B[43mfit_and_score_kwargs\u001B[49m\u001B[43m,\u001B[49m\n\u001B[0;32m    856\u001B[0m \u001B[43m    \u001B[49m\u001B[43m)\u001B[49m\n\u001B[0;32m    857\u001B[0m \u001B[43m    \u001B[49m\u001B[38;5;28;43;01mfor\u001B[39;49;00m\u001B[43m \u001B[49m\u001B[43m(\u001B[49m\u001B[43mcand_idx\u001B[49m\u001B[43m,\u001B[49m\u001B[43m \u001B[49m\u001B[43mparameters\u001B[49m\u001B[43m)\u001B[49m\u001B[43m,\u001B[49m\u001B[43m \u001B[49m\u001B[43m(\u001B[49m\u001B[43msplit_idx\u001B[49m\u001B[43m,\u001B[49m\u001B[43m \u001B[49m\u001B[43m(\u001B[49m\u001B[43mtrain\u001B[49m\u001B[43m,\u001B[49m\u001B[43m \u001B[49m\u001B[43mtest\u001B[49m\u001B[43m)\u001B[49m\u001B[43m)\u001B[49m\u001B[43m \u001B[49m\u001B[38;5;129;43;01min\u001B[39;49;00m\u001B[43m \u001B[49m\u001B[43mproduct\u001B[49m\u001B[43m(\u001B[49m\n\u001B[0;32m    858\u001B[0m \u001B[43m        \u001B[49m\u001B[38;5;28;43menumerate\u001B[39;49m\u001B[43m(\u001B[49m\u001B[43mcandidate_params\u001B[49m\u001B[43m)\u001B[49m\u001B[43m,\u001B[49m\u001B[43m \u001B[49m\u001B[38;5;28;43menumerate\u001B[39;49m\u001B[43m(\u001B[49m\u001B[43mcv\u001B[49m\u001B[38;5;241;43m.\u001B[39;49m\u001B[43msplit\u001B[49m\u001B[43m(\u001B[49m\u001B[43mX\u001B[49m\u001B[43m,\u001B[49m\u001B[43m \u001B[49m\u001B[43my\u001B[49m\u001B[43m,\u001B[49m\u001B[43m \u001B[49m\u001B[43mgroups\u001B[49m\u001B[43m)\u001B[49m\u001B[43m)\u001B[49m\n\u001B[0;32m    859\u001B[0m \u001B[43m    \u001B[49m\u001B[43m)\u001B[49m\n\u001B[0;32m    860\u001B[0m \u001B[43m\u001B[49m\u001B[43m)\u001B[49m\n\u001B[0;32m    862\u001B[0m \u001B[38;5;28;01mif\u001B[39;00m \u001B[38;5;28mlen\u001B[39m(out) \u001B[38;5;241m<\u001B[39m \u001B[38;5;241m1\u001B[39m:\n\u001B[0;32m    863\u001B[0m     \u001B[38;5;28;01mraise\u001B[39;00m \u001B[38;5;167;01mValueError\u001B[39;00m(\n\u001B[0;32m    864\u001B[0m         \u001B[38;5;124m\"\u001B[39m\u001B[38;5;124mNo fits were performed. \u001B[39m\u001B[38;5;124m\"\u001B[39m\n\u001B[0;32m    865\u001B[0m         \u001B[38;5;124m\"\u001B[39m\u001B[38;5;124mWas the CV iterator empty? \u001B[39m\u001B[38;5;124m\"\u001B[39m\n\u001B[0;32m    866\u001B[0m         \u001B[38;5;124m\"\u001B[39m\u001B[38;5;124mWere there no candidates?\u001B[39m\u001B[38;5;124m\"\u001B[39m\n\u001B[0;32m    867\u001B[0m     )\n",
      "File \u001B[1;32m~\\Documents\\dev\\python\\enefit_data_pycharm\\.venv\\lib\\site-packages\\sklearn\\utils\\parallel.py:65\u001B[0m, in \u001B[0;36mParallel.__call__\u001B[1;34m(self, iterable)\u001B[0m\n\u001B[0;32m     60\u001B[0m config \u001B[38;5;241m=\u001B[39m get_config()\n\u001B[0;32m     61\u001B[0m iterable_with_config \u001B[38;5;241m=\u001B[39m (\n\u001B[0;32m     62\u001B[0m     (_with_config(delayed_func, config), args, kwargs)\n\u001B[0;32m     63\u001B[0m     \u001B[38;5;28;01mfor\u001B[39;00m delayed_func, args, kwargs \u001B[38;5;129;01min\u001B[39;00m iterable\n\u001B[0;32m     64\u001B[0m )\n\u001B[1;32m---> 65\u001B[0m \u001B[38;5;28;01mreturn\u001B[39;00m \u001B[38;5;28;43msuper\u001B[39;49m\u001B[43m(\u001B[49m\u001B[43m)\u001B[49m\u001B[38;5;241;43m.\u001B[39;49m\u001B[38;5;21;43m__call__\u001B[39;49m\u001B[43m(\u001B[49m\u001B[43miterable_with_config\u001B[49m\u001B[43m)\u001B[49m\n",
      "File \u001B[1;32m~\\Documents\\dev\\python\\enefit_data_pycharm\\.venv\\lib\\site-packages\\joblib\\parallel.py:1952\u001B[0m, in \u001B[0;36mParallel.__call__\u001B[1;34m(self, iterable)\u001B[0m\n\u001B[0;32m   1946\u001B[0m \u001B[38;5;66;03m# The first item from the output is blank, but it makes the interpreter\u001B[39;00m\n\u001B[0;32m   1947\u001B[0m \u001B[38;5;66;03m# progress until it enters the Try/Except block of the generator and\u001B[39;00m\n\u001B[0;32m   1948\u001B[0m \u001B[38;5;66;03m# reach the first `yield` statement. This starts the aynchronous\u001B[39;00m\n\u001B[0;32m   1949\u001B[0m \u001B[38;5;66;03m# dispatch of the tasks to the workers.\u001B[39;00m\n\u001B[0;32m   1950\u001B[0m \u001B[38;5;28mnext\u001B[39m(output)\n\u001B[1;32m-> 1952\u001B[0m \u001B[38;5;28;01mreturn\u001B[39;00m output \u001B[38;5;28;01mif\u001B[39;00m \u001B[38;5;28mself\u001B[39m\u001B[38;5;241m.\u001B[39mreturn_generator \u001B[38;5;28;01melse\u001B[39;00m \u001B[38;5;28;43mlist\u001B[39;49m\u001B[43m(\u001B[49m\u001B[43moutput\u001B[49m\u001B[43m)\u001B[49m\n",
      "File \u001B[1;32m~\\Documents\\dev\\python\\enefit_data_pycharm\\.venv\\lib\\site-packages\\joblib\\parallel.py:1595\u001B[0m, in \u001B[0;36mParallel._get_outputs\u001B[1;34m(self, iterator, pre_dispatch)\u001B[0m\n\u001B[0;32m   1592\u001B[0m     \u001B[38;5;28;01myield\u001B[39;00m\n\u001B[0;32m   1594\u001B[0m     \u001B[38;5;28;01mwith\u001B[39;00m \u001B[38;5;28mself\u001B[39m\u001B[38;5;241m.\u001B[39m_backend\u001B[38;5;241m.\u001B[39mretrieval_context():\n\u001B[1;32m-> 1595\u001B[0m         \u001B[38;5;28;01myield from\u001B[39;00m \u001B[38;5;28mself\u001B[39m\u001B[38;5;241m.\u001B[39m_retrieve()\n\u001B[0;32m   1597\u001B[0m \u001B[38;5;28;01mexcept\u001B[39;00m \u001B[38;5;167;01mGeneratorExit\u001B[39;00m:\n\u001B[0;32m   1598\u001B[0m     \u001B[38;5;66;03m# The generator has been garbage collected before being fully\u001B[39;00m\n\u001B[0;32m   1599\u001B[0m     \u001B[38;5;66;03m# consumed. This aborts the remaining tasks if possible and warn\u001B[39;00m\n\u001B[0;32m   1600\u001B[0m     \u001B[38;5;66;03m# the user if necessary.\u001B[39;00m\n\u001B[0;32m   1601\u001B[0m     \u001B[38;5;28mself\u001B[39m\u001B[38;5;241m.\u001B[39m_exception \u001B[38;5;241m=\u001B[39m \u001B[38;5;28;01mTrue\u001B[39;00m\n",
      "File \u001B[1;32m~\\Documents\\dev\\python\\enefit_data_pycharm\\.venv\\lib\\site-packages\\joblib\\parallel.py:1707\u001B[0m, in \u001B[0;36mParallel._retrieve\u001B[1;34m(self)\u001B[0m\n\u001B[0;32m   1702\u001B[0m \u001B[38;5;66;03m# If the next job is not ready for retrieval yet, we just wait for\u001B[39;00m\n\u001B[0;32m   1703\u001B[0m \u001B[38;5;66;03m# async callbacks to progress.\u001B[39;00m\n\u001B[0;32m   1704\u001B[0m \u001B[38;5;28;01mif\u001B[39;00m ((\u001B[38;5;28mlen\u001B[39m(\u001B[38;5;28mself\u001B[39m\u001B[38;5;241m.\u001B[39m_jobs) \u001B[38;5;241m==\u001B[39m \u001B[38;5;241m0\u001B[39m) \u001B[38;5;129;01mor\u001B[39;00m\n\u001B[0;32m   1705\u001B[0m     (\u001B[38;5;28mself\u001B[39m\u001B[38;5;241m.\u001B[39m_jobs[\u001B[38;5;241m0\u001B[39m]\u001B[38;5;241m.\u001B[39mget_status(\n\u001B[0;32m   1706\u001B[0m         timeout\u001B[38;5;241m=\u001B[39m\u001B[38;5;28mself\u001B[39m\u001B[38;5;241m.\u001B[39mtimeout) \u001B[38;5;241m==\u001B[39m TASK_PENDING)):\n\u001B[1;32m-> 1707\u001B[0m     \u001B[43mtime\u001B[49m\u001B[38;5;241;43m.\u001B[39;49m\u001B[43msleep\u001B[49m\u001B[43m(\u001B[49m\u001B[38;5;241;43m0.01\u001B[39;49m\u001B[43m)\u001B[49m\n\u001B[0;32m   1708\u001B[0m     \u001B[38;5;28;01mcontinue\u001B[39;00m\n\u001B[0;32m   1710\u001B[0m \u001B[38;5;66;03m# We need to be careful: the job list can be filling up as\u001B[39;00m\n\u001B[0;32m   1711\u001B[0m \u001B[38;5;66;03m# we empty it and Python list are not thread-safe by\u001B[39;00m\n\u001B[0;32m   1712\u001B[0m \u001B[38;5;66;03m# default hence the use of the lock\u001B[39;00m\n",
      "\u001B[1;31mKeyboardInterrupt\u001B[0m: "
     ]
    }
   ],
   "source": [
    "from sklearn.ensemble import RandomForestRegressor\n",
    "from sklearn.model_selection import RandomizedSearchCV\n",
    "\n",
    "# Hyperparameters\n",
    "grid_param = {'n_estimators': [500, 800, 1500, 2500, 5000], \n",
    "              'max_features': [\"auto\", \"sqrt\", \"log2\"],\n",
    "              'max_depth': [10, 20, 30, 40, 50], \n",
    "              'min_samples_split': [2, 5, 10, 15, 20], \n",
    "              'min_samples_leaf':[1, 2, 5, 10, 15]}\n",
    "\n",
    "# Model training\n",
    "forest = RandomForestRegressor()\n",
    "RFR_random = RandomizedSearchCV(estimator=forest, param_distributions=grid_param, n_iter=500, cv=5, verbose=2, random_state=42, n_jobs=-1)\n",
    "RFR_random.fit(X_train, y_train)\n",
    "better_rdm_forest_mae = getMAE(RFR_random, X_test, y_test)\n",
    "# Evaluating model\n",
    "model_evaluation(forest)\n",
    "model_evaluation(forest, True)"
   ],
   "metadata": {
    "collapsed": false,
    "ExecuteTime": {
     "end_time": "2023-12-20T12:30:34.794152900Z",
     "start_time": "2023-12-20T12:19:30.059937700Z"
    }
   },
   "id": "6910a9943324f5d0"
  },
  {
   "cell_type": "markdown",
   "source": [
    "## Xgboost"
   ],
   "metadata": {
    "collapsed": false
   },
   "id": "93a19d08ce83c66c"
  },
  {
   "cell_type": "code",
   "execution_count": 89,
   "outputs": [
    {
     "name": "stdout",
     "output_type": "stream",
     "text": [
      "######## Train evaluation\n",
      "R2 score: 0.9917 (aiming 1.0)\n",
      "Mean absolute error : 49.1518 (aiming 0)\n",
      "Mean squared error : 6692.6493 (aiming 0)\n",
      "######## Test evaluation\n",
      "R2 score: 0.8641 (aiming 1.0)\n",
      "Mean absolute error : 146.768 (aiming 0)\n",
      "Mean squared error : 127154.1872 (aiming 0)\n"
     ]
    }
   ],
   "source": [
    "from xgboost import XGBRegressor\n",
    "bst = XGBRegressor().fit(X_train, y_train)\n",
    "better_xgb_mae = getMAE(bst, X_test, y_test)\n",
    "\n",
    "model_evaluation(bst)\n",
    "model_evaluation(bst, True)\n"
   ],
   "metadata": {
    "collapsed": false,
    "ExecuteTime": {
     "end_time": "2023-12-20T11:21:44.895425Z",
     "start_time": "2023-12-20T11:21:44.714718Z"
    }
   },
   "id": "114327eb482072f5"
  },
  {
   "cell_type": "markdown",
   "source": [
    "# Analyses"
   ],
   "metadata": {
    "collapsed": false
   },
   "id": "c77d166f806f2072"
  },
  {
   "cell_type": "code",
   "execution_count": 138,
   "outputs": [
    {
     "name": "stdout",
     "output_type": "stream",
     "text": [
      "              Model       MAE\n",
      "0             Dummy  382.7080\n",
      "1  LinearRegression  380.7231\n",
      "2             Lasso  379.2963\n",
      "3       Elastic Net  379.4305\n",
      "4      RandomForest  116.0695\n",
      "5           XGBoost  146.7680\n"
     ]
    },
    {
     "data": {
      "text/plain": "<Figure size 640x480 with 1 Axes>",
      "image/png": "[encoded data removed]"
     },
     "metadata": {},
     "output_type": "display_data"
    }
   ],
   "source": [
    "import seaborn as sns\n",
    "\n",
    "# Creating a temporary dataframe for MAE errors\n",
    "d = {\"Model\" : [\"Dummy\", \"LinearRegression\", \"Lasso\", \"Elastic Net\",\"RandomForest\", \"XGBoost\"],\n",
    "     \"MAE\" : [better_dummy_mae, better_reg_mae, better_lasso_mae, better_elastic_mae, better_rdm_forest_mae, better_xgb_mae]}\n",
    "mae_array = pd.DataFrame(data=d, columns=[\"Model\", \"MAE\"])\n",
    "print(mae_array)\n",
    "\n",
    "# Creating the graph\n",
    "ax = sns.barplot(mae_array, x=\"Model\", y=\"MAE\")\n",
    "ax.bar_label(ax.containers[0], fontsize=10);"
   ],
   "metadata": {
    "collapsed": false,
    "ExecuteTime": {
     "end_time": "2023-12-20T12:09:30.534027Z",
     "start_time": "2023-12-20T12:09:30.348806400Z"
    }
   },
   "id": "2da364ebb94ca641"
  },
  {
   "cell_type": "code",
   "execution_count": null,
   "outputs": [],
   "source": [],
   "metadata": {
    "collapsed": false
   },
   "id": "aa2471ebb25be458"
  }
 ],
 "metadata": {
  "kernelspec": {
   "display_name": "Python 3",
   "language": "python",
   "name": "python3"
  },
  "language_info": {
   "codemirror_mode": {
    "name": "ipython",
    "version": 2
   },
   "file_extension": ".py",
   "mimetype": "text/x-python",
   "name": "python",
   "nbconvert_exporter": "python",
   "pygments_lexer": "ipython2",
   "version": "2.7.6"
  }
 },
 "nbformat": 4,
 "nbformat_minor": 5
}
